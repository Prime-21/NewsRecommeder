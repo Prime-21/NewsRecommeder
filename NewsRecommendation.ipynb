{
  "nbformat": 4,
  "nbformat_minor": 0,
  "metadata": {
    "colab": {
      "provenance": [],
      "gpuType": "T4"
    },
    "kernelspec": {
      "name": "python3",
      "display_name": "Python 3"
    },
    "language_info": {
      "name": "python"
    }
  },
  "cells": [
    {
      "cell_type": "markdown",
      "source": [
        "# iPrint Recommendation System\n",
        "This notebook implements a recommendation system using:\n",
        "- **ALS (Alternating Least Squares) for Collaborative Filtering**\n",
        "- **Content-Based Filtering using TF-IDF**\n",
        "- **Flask API for Deployment**"
      ],
      "metadata": {
        "id": "WsLJsuiI_gEi"
      }
    },
    {
      "cell_type": "code",
      "source": [
        "!pip install implicit\n",
        "import pathlib\n",
        "import pandas as pd\n",
        "import numpy as np\n",
        "from sklearn.metrics.pairwise import cosine_similarity\n",
        "from sklearn.feature_extraction.text import TfidfVectorizer\n",
        "from implicit.als import AlternatingLeastSquares # This line should work after installing the package\n",
        "from scipy.sparse import csr_matrix\n",
        "import matplotlib.pyplot as plt\n",
        "import seaborn as sns"
      ],
      "metadata": {
        "colab": {
          "base_uri": "https://localhost:8080/"
        },
        "id": "dB92uHrr7C9l",
        "outputId": "61398762-0804-467b-ccf7-c3fcffb7d51a"
      },
      "execution_count": 161,
      "outputs": [
        {
          "output_type": "stream",
          "name": "stdout",
          "text": [
            "Requirement already satisfied: implicit in /usr/local/lib/python3.11/dist-packages (0.7.2)\n",
            "Requirement already satisfied: numpy>=1.17.0 in /usr/local/lib/python3.11/dist-packages (from implicit) (1.26.4)\n",
            "Requirement already satisfied: scipy>=0.16 in /usr/local/lib/python3.11/dist-packages (from implicit) (1.13.1)\n",
            "Requirement already satisfied: tqdm>=4.27 in /usr/local/lib/python3.11/dist-packages (from implicit) (4.67.1)\n",
            "Requirement already satisfied: threadpoolctl in /usr/local/lib/python3.11/dist-packages (from implicit) (3.5.0)\n"
          ]
        }
      ]
    },
    {
      "cell_type": "markdown",
      "source": [
        "## Load Data"
      ],
      "metadata": {
        "id": "QV6IVxBL7SuX"
      }
    },
    {
      "cell_type": "code",
      "source": [
        "## If you are using the data by mounting the google drive, use the following :\n",
        "from google.colab import drive\n",
        "drive.mount('/content/drive')"
      ],
      "metadata": {
        "colab": {
          "base_uri": "https://localhost:8080/"
        },
        "id": "m_N4IenA7U0r",
        "outputId": "0c9c0dac-1c5a-4044-f1a2-be75485f1007"
      },
      "execution_count": 162,
      "outputs": [
        {
          "output_type": "stream",
          "name": "stdout",
          "text": [
            "Drive already mounted at /content/drive; to attempt to forcibly remount, call drive.mount(\"/content/drive\", force_remount=True).\n"
          ]
        }
      ]
    },
    {
      "cell_type": "code",
      "source": [
        "# Defining the path for train and test images\n",
        "## Todo: Update the paths of the train and test dataset\n",
        "\n",
        "data_dir_train = pathlib.Path(\"/content/drive/My Drive/Colab Notebooks/Upgrad Assignment/News Recommended/data\")\n",
        "print(data_dir_train)\n",
        "\n",
        "if data_dir_train.exists():\n",
        "    print(\"The directory exists.\")\n",
        "else:\n",
        "    print(\"The directory does not exist.\")\n",
        "\n",
        "# Check if the file exists before attempting to read it\n",
        "import os\n",
        "file_path = os.path.join(data_dir_train, \"consumer_transanctions.csv\") # Construct the full file path\n",
        "\n",
        "if os.path.exists(file_path):\n",
        "    # Explicitly specify the data type for column 4 (index 4) as string\n",
        "    consumer_transactions = pd.read_csv(file_path, dtype={'column_name': str}, low_memory=False)\n",
        "    # Replace 'column_name' with the actual name of the column\n",
        "    # print(consumer_transactions)\n",
        "\n",
        "    platform_content = pd.read_csv(os.path.join(data_dir_train, \"platform_content.csv\"), low_memory=False) # Similar fix for platform_content\n",
        "    # Replace 'column_name' with the actual name of the column\n",
        "    # print(platform_content)\n",
        "else:\n",
        "    print(f\"File not found at: {file_path}\")"
      ],
      "metadata": {
        "colab": {
          "base_uri": "https://localhost:8080/"
        },
        "id": "AKGJtfPK8St5",
        "outputId": "33f53a3b-12d4-4e7b-89fb-ce026afd14a3"
      },
      "execution_count": 163,
      "outputs": [
        {
          "output_type": "stream",
          "name": "stdout",
          "text": [
            "/content/drive/My Drive/Colab Notebooks/Upgrad Assignment/News Recommended/data\n",
            "The directory exists.\n"
          ]
        }
      ]
    },
    {
      "cell_type": "markdown",
      "source": [
        "Reading Data sent"
      ],
      "metadata": {
        "id": "LxRRiNTa_2Ek"
      }
    },
    {
      "cell_type": "code",
      "source": [
        "consumer_transactions.head()\n"
      ],
      "metadata": {
        "colab": {
          "base_uri": "https://localhost:8080/",
          "height": 224
        },
        "id": "IfTuCAex_t3f",
        "outputId": "65103464-6dc2-4a1e-8ca2-58c8acb66d53"
      },
      "execution_count": 164,
      "outputs": [
        {
          "output_type": "execute_result",
          "data": {
            "text/plain": [
              "   event_timestamp  interaction_type              item_id  \\\n",
              "0       1465413032   content_watched -3499919498720038879   \n",
              "1       1465412560   content_watched  8890720798209849691   \n",
              "2       1465416190   content_watched   310515487419366995   \n",
              "3       1465413895  content_followed   310515487419366995   \n",
              "4       1465412290   content_watched -7820640624231356730   \n",
              "\n",
              "           consumer_id   consumer_session_id  \\\n",
              "0 -8845298781299428018   1264196770339959068   \n",
              "1 -1032019229384696495   3621737643587579081   \n",
              "2 -1130272294246983140   2631864456530402479   \n",
              "3   344280948527967603  -3167637573980064150   \n",
              "4  -445337111692715325  561148 1178424124714   \n",
              "\n",
              "                                consumer_device_info consumer_location country  \n",
              "0                                                NaN               NaN     NaN  \n",
              "1  Mozilla/5.0 (Macintosh; Intel Mac OS X 10_11_2...                NY      US  \n",
              "2                                                NaN               NaN     NaN  \n",
              "3                                                NaN               NaN     NaN  \n",
              "4                                                NaN               NaN     NaN  "
            ],
            "text/html": [
              "\n",
              "  <div id=\"df-fcc2fea9-c7a2-40e3-b179-f5f57ce11e5a\" class=\"colab-df-container\">\n",
              "    <div>\n",
              "<style scoped>\n",
              "    .dataframe tbody tr th:only-of-type {\n",
              "        vertical-align: middle;\n",
              "    }\n",
              "\n",
              "    .dataframe tbody tr th {\n",
              "        vertical-align: top;\n",
              "    }\n",
              "\n",
              "    .dataframe thead th {\n",
              "        text-align: right;\n",
              "    }\n",
              "</style>\n",
              "<table border=\"1\" class=\"dataframe\">\n",
              "  <thead>\n",
              "    <tr style=\"text-align: right;\">\n",
              "      <th></th>\n",
              "      <th>event_timestamp</th>\n",
              "      <th>interaction_type</th>\n",
              "      <th>item_id</th>\n",
              "      <th>consumer_id</th>\n",
              "      <th>consumer_session_id</th>\n",
              "      <th>consumer_device_info</th>\n",
              "      <th>consumer_location</th>\n",
              "      <th>country</th>\n",
              "    </tr>\n",
              "  </thead>\n",
              "  <tbody>\n",
              "    <tr>\n",
              "      <th>0</th>\n",
              "      <td>1465413032</td>\n",
              "      <td>content_watched</td>\n",
              "      <td>-3499919498720038879</td>\n",
              "      <td>-8845298781299428018</td>\n",
              "      <td>1264196770339959068</td>\n",
              "      <td>NaN</td>\n",
              "      <td>NaN</td>\n",
              "      <td>NaN</td>\n",
              "    </tr>\n",
              "    <tr>\n",
              "      <th>1</th>\n",
              "      <td>1465412560</td>\n",
              "      <td>content_watched</td>\n",
              "      <td>8890720798209849691</td>\n",
              "      <td>-1032019229384696495</td>\n",
              "      <td>3621737643587579081</td>\n",
              "      <td>Mozilla/5.0 (Macintosh; Intel Mac OS X 10_11_2...</td>\n",
              "      <td>NY</td>\n",
              "      <td>US</td>\n",
              "    </tr>\n",
              "    <tr>\n",
              "      <th>2</th>\n",
              "      <td>1465416190</td>\n",
              "      <td>content_watched</td>\n",
              "      <td>310515487419366995</td>\n",
              "      <td>-1130272294246983140</td>\n",
              "      <td>2631864456530402479</td>\n",
              "      <td>NaN</td>\n",
              "      <td>NaN</td>\n",
              "      <td>NaN</td>\n",
              "    </tr>\n",
              "    <tr>\n",
              "      <th>3</th>\n",
              "      <td>1465413895</td>\n",
              "      <td>content_followed</td>\n",
              "      <td>310515487419366995</td>\n",
              "      <td>344280948527967603</td>\n",
              "      <td>-3167637573980064150</td>\n",
              "      <td>NaN</td>\n",
              "      <td>NaN</td>\n",
              "      <td>NaN</td>\n",
              "    </tr>\n",
              "    <tr>\n",
              "      <th>4</th>\n",
              "      <td>1465412290</td>\n",
              "      <td>content_watched</td>\n",
              "      <td>-7820640624231356730</td>\n",
              "      <td>-445337111692715325</td>\n",
              "      <td>561148 1178424124714</td>\n",
              "      <td>NaN</td>\n",
              "      <td>NaN</td>\n",
              "      <td>NaN</td>\n",
              "    </tr>\n",
              "  </tbody>\n",
              "</table>\n",
              "</div>\n",
              "    <div class=\"colab-df-buttons\">\n",
              "\n",
              "  <div class=\"colab-df-container\">\n",
              "    <button class=\"colab-df-convert\" onclick=\"convertToInteractive('df-fcc2fea9-c7a2-40e3-b179-f5f57ce11e5a')\"\n",
              "            title=\"Convert this dataframe to an interactive table.\"\n",
              "            style=\"display:none;\">\n",
              "\n",
              "  <svg xmlns=\"http://www.w3.org/2000/svg\" height=\"24px\" viewBox=\"0 -960 960 960\">\n",
              "    <path d=\"M120-120v-720h720v720H120Zm60-500h600v-160H180v160Zm220 220h160v-160H400v160Zm0 220h160v-160H400v160ZM180-400h160v-160H180v160Zm440 0h160v-160H620v160ZM180-180h160v-160H180v160Zm440 0h160v-160H620v160Z\"/>\n",
              "  </svg>\n",
              "    </button>\n",
              "\n",
              "  <style>\n",
              "    .colab-df-container {\n",
              "      display:flex;\n",
              "      gap: 12px;\n",
              "    }\n",
              "\n",
              "    .colab-df-convert {\n",
              "      background-color: #E8F0FE;\n",
              "      border: none;\n",
              "      border-radius: 50%;\n",
              "      cursor: pointer;\n",
              "      display: none;\n",
              "      fill: #1967D2;\n",
              "      height: 32px;\n",
              "      padding: 0 0 0 0;\n",
              "      width: 32px;\n",
              "    }\n",
              "\n",
              "    .colab-df-convert:hover {\n",
              "      background-color: #E2EBFA;\n",
              "      box-shadow: 0px 1px 2px rgba(60, 64, 67, 0.3), 0px 1px 3px 1px rgba(60, 64, 67, 0.15);\n",
              "      fill: #174EA6;\n",
              "    }\n",
              "\n",
              "    .colab-df-buttons div {\n",
              "      margin-bottom: 4px;\n",
              "    }\n",
              "\n",
              "    [theme=dark] .colab-df-convert {\n",
              "      background-color: #3B4455;\n",
              "      fill: #D2E3FC;\n",
              "    }\n",
              "\n",
              "    [theme=dark] .colab-df-convert:hover {\n",
              "      background-color: #434B5C;\n",
              "      box-shadow: 0px 1px 3px 1px rgba(0, 0, 0, 0.15);\n",
              "      filter: drop-shadow(0px 1px 2px rgba(0, 0, 0, 0.3));\n",
              "      fill: #FFFFFF;\n",
              "    }\n",
              "  </style>\n",
              "\n",
              "    <script>\n",
              "      const buttonEl =\n",
              "        document.querySelector('#df-fcc2fea9-c7a2-40e3-b179-f5f57ce11e5a button.colab-df-convert');\n",
              "      buttonEl.style.display =\n",
              "        google.colab.kernel.accessAllowed ? 'block' : 'none';\n",
              "\n",
              "      async function convertToInteractive(key) {\n",
              "        const element = document.querySelector('#df-fcc2fea9-c7a2-40e3-b179-f5f57ce11e5a');\n",
              "        const dataTable =\n",
              "          await google.colab.kernel.invokeFunction('convertToInteractive',\n",
              "                                                    [key], {});\n",
              "        if (!dataTable) return;\n",
              "\n",
              "        const docLinkHtml = 'Like what you see? Visit the ' +\n",
              "          '<a target=\"_blank\" href=https://colab.research.google.com/notebooks/data_table.ipynb>data table notebook</a>'\n",
              "          + ' to learn more about interactive tables.';\n",
              "        element.innerHTML = '';\n",
              "        dataTable['output_type'] = 'display_data';\n",
              "        await google.colab.output.renderOutput(dataTable, element);\n",
              "        const docLink = document.createElement('div');\n",
              "        docLink.innerHTML = docLinkHtml;\n",
              "        element.appendChild(docLink);\n",
              "      }\n",
              "    </script>\n",
              "  </div>\n",
              "\n",
              "\n",
              "<div id=\"df-f89633a7-798e-4016-b9a7-e9acc0838924\">\n",
              "  <button class=\"colab-df-quickchart\" onclick=\"quickchart('df-f89633a7-798e-4016-b9a7-e9acc0838924')\"\n",
              "            title=\"Suggest charts\"\n",
              "            style=\"display:none;\">\n",
              "\n",
              "<svg xmlns=\"http://www.w3.org/2000/svg\" height=\"24px\"viewBox=\"0 0 24 24\"\n",
              "     width=\"24px\">\n",
              "    <g>\n",
              "        <path d=\"M19 3H5c-1.1 0-2 .9-2 2v14c0 1.1.9 2 2 2h14c1.1 0 2-.9 2-2V5c0-1.1-.9-2-2-2zM9 17H7v-7h2v7zm4 0h-2V7h2v10zm4 0h-2v-4h2v4z\"/>\n",
              "    </g>\n",
              "</svg>\n",
              "  </button>\n",
              "\n",
              "<style>\n",
              "  .colab-df-quickchart {\n",
              "      --bg-color: #E8F0FE;\n",
              "      --fill-color: #1967D2;\n",
              "      --hover-bg-color: #E2EBFA;\n",
              "      --hover-fill-color: #174EA6;\n",
              "      --disabled-fill-color: #AAA;\n",
              "      --disabled-bg-color: #DDD;\n",
              "  }\n",
              "\n",
              "  [theme=dark] .colab-df-quickchart {\n",
              "      --bg-color: #3B4455;\n",
              "      --fill-color: #D2E3FC;\n",
              "      --hover-bg-color: #434B5C;\n",
              "      --hover-fill-color: #FFFFFF;\n",
              "      --disabled-bg-color: #3B4455;\n",
              "      --disabled-fill-color: #666;\n",
              "  }\n",
              "\n",
              "  .colab-df-quickchart {\n",
              "    background-color: var(--bg-color);\n",
              "    border: none;\n",
              "    border-radius: 50%;\n",
              "    cursor: pointer;\n",
              "    display: none;\n",
              "    fill: var(--fill-color);\n",
              "    height: 32px;\n",
              "    padding: 0;\n",
              "    width: 32px;\n",
              "  }\n",
              "\n",
              "  .colab-df-quickchart:hover {\n",
              "    background-color: var(--hover-bg-color);\n",
              "    box-shadow: 0 1px 2px rgba(60, 64, 67, 0.3), 0 1px 3px 1px rgba(60, 64, 67, 0.15);\n",
              "    fill: var(--button-hover-fill-color);\n",
              "  }\n",
              "\n",
              "  .colab-df-quickchart-complete:disabled,\n",
              "  .colab-df-quickchart-complete:disabled:hover {\n",
              "    background-color: var(--disabled-bg-color);\n",
              "    fill: var(--disabled-fill-color);\n",
              "    box-shadow: none;\n",
              "  }\n",
              "\n",
              "  .colab-df-spinner {\n",
              "    border: 2px solid var(--fill-color);\n",
              "    border-color: transparent;\n",
              "    border-bottom-color: var(--fill-color);\n",
              "    animation:\n",
              "      spin 1s steps(1) infinite;\n",
              "  }\n",
              "\n",
              "  @keyframes spin {\n",
              "    0% {\n",
              "      border-color: transparent;\n",
              "      border-bottom-color: var(--fill-color);\n",
              "      border-left-color: var(--fill-color);\n",
              "    }\n",
              "    20% {\n",
              "      border-color: transparent;\n",
              "      border-left-color: var(--fill-color);\n",
              "      border-top-color: var(--fill-color);\n",
              "    }\n",
              "    30% {\n",
              "      border-color: transparent;\n",
              "      border-left-color: var(--fill-color);\n",
              "      border-top-color: var(--fill-color);\n",
              "      border-right-color: var(--fill-color);\n",
              "    }\n",
              "    40% {\n",
              "      border-color: transparent;\n",
              "      border-right-color: var(--fill-color);\n",
              "      border-top-color: var(--fill-color);\n",
              "    }\n",
              "    60% {\n",
              "      border-color: transparent;\n",
              "      border-right-color: var(--fill-color);\n",
              "    }\n",
              "    80% {\n",
              "      border-color: transparent;\n",
              "      border-right-color: var(--fill-color);\n",
              "      border-bottom-color: var(--fill-color);\n",
              "    }\n",
              "    90% {\n",
              "      border-color: transparent;\n",
              "      border-bottom-color: var(--fill-color);\n",
              "    }\n",
              "  }\n",
              "</style>\n",
              "\n",
              "  <script>\n",
              "    async function quickchart(key) {\n",
              "      const quickchartButtonEl =\n",
              "        document.querySelector('#' + key + ' button');\n",
              "      quickchartButtonEl.disabled = true;  // To prevent multiple clicks.\n",
              "      quickchartButtonEl.classList.add('colab-df-spinner');\n",
              "      try {\n",
              "        const charts = await google.colab.kernel.invokeFunction(\n",
              "            'suggestCharts', [key], {});\n",
              "      } catch (error) {\n",
              "        console.error('Error during call to suggestCharts:', error);\n",
              "      }\n",
              "      quickchartButtonEl.classList.remove('colab-df-spinner');\n",
              "      quickchartButtonEl.classList.add('colab-df-quickchart-complete');\n",
              "    }\n",
              "    (() => {\n",
              "      let quickchartButtonEl =\n",
              "        document.querySelector('#df-f89633a7-798e-4016-b9a7-e9acc0838924 button');\n",
              "      quickchartButtonEl.style.display =\n",
              "        google.colab.kernel.accessAllowed ? 'block' : 'none';\n",
              "    })();\n",
              "  </script>\n",
              "</div>\n",
              "\n",
              "    </div>\n",
              "  </div>\n"
            ],
            "application/vnd.google.colaboratory.intrinsic+json": {
              "type": "dataframe",
              "variable_name": "consumer_transactions",
              "summary": "{\n  \"name\": \"consumer_transactions\",\n  \"rows\": 72312,\n  \"fields\": [\n    {\n      \"column\": \"event_timestamp\",\n      \"properties\": {\n        \"dtype\": \"number\",\n        \"std\": 7258130,\n        \"min\": 1457963676,\n        \"max\": 1488309711,\n        \"num_unique_values\": 68772,\n        \"samples\": [\n          1478704125,\n          1463321913,\n          1464900899\n        ],\n        \"semantic_type\": \"\",\n        \"description\": \"\"\n      }\n    },\n    {\n      \"column\": \"interaction_type\",\n      \"properties\": {\n        \"dtype\": \"category\",\n        \"num_unique_values\": 5,\n        \"samples\": [\n          \"content_followed\",\n          \"content_commented_on\",\n          \"content_saved\"\n        ],\n        \"semantic_type\": \"\",\n        \"description\": \"\"\n      }\n    },\n    {\n      \"column\": \"item_id\",\n      \"properties\": {\n        \"dtype\": \"number\",\n        \"std\": 5344755029847088128,\n        \"min\": -9222795471790223670,\n        \"max\": 9222265156747237864,\n        \"num_unique_values\": 2987,\n        \"samples\": [\n          -8009994379436553252,\n          -5482295111885355605,\n          -4336355219396419841\n        ],\n        \"semantic_type\": \"\",\n        \"description\": \"\"\n      }\n    },\n    {\n      \"column\": \"consumer_id\",\n      \"properties\": {\n        \"dtype\": \"number\",\n        \"std\": 5022332594737562624,\n        \"min\": -9223121837663643404,\n        \"max\": 9210530975708218054,\n        \"num_unique_values\": 1895,\n        \"samples\": [\n          8667275116635296267,\n          2976142380064454474,\n          1498116869772772394\n        ],\n        \"semantic_type\": \"\",\n        \"description\": \"\"\n      }\n    },\n    {\n      \"column\": \"consumer_session_id\",\n      \"properties\": {\n        \"dtype\": \"category\",\n        \"num_unique_values\": 28741,\n        \"samples\": [\n          \"-2410085942652626410\",\n          \"-557983919270505279\",\n          \"852464915624205538\"\n        ],\n        \"semantic_type\": \"\",\n        \"description\": \"\"\n      }\n    },\n    {\n      \"column\": \"consumer_device_info\",\n      \"properties\": {\n        \"dtype\": \"category\",\n        \"num_unique_values\": 1090,\n        \"samples\": [\n          \"Mozilla/5.0 (Windows NT 6.1; Win64; x64) AppleWebKit/537.36 (KHTML, like Gecko) Chrome/54.0.2840.71 Safari/537.36\",\n          \"Mozilla/5.0 (Macintosh; Intel Mac OS X 10_11_6) AppleWebKit/537.36 (KHTML, like Gecko) Chrome/55.0.2883.95 Safari/537.36\",\n          \"Mozilla/5.0 (X11; CrOS x86_64 8872.73.0) AppleWebKit/537.36 (KHTML, like Gecko) Chrome/55.0.2883.103 Safari/537.36\"\n        ],\n        \"semantic_type\": \"\",\n        \"description\": \"\"\n      }\n    },\n    {\n      \"column\": \"consumer_location\",\n      \"properties\": {\n        \"dtype\": \"category\",\n        \"num_unique_values\": 71,\n        \"samples\": [\n          \"PR\",\n          \"NY\",\n          \"RS\"\n        ],\n        \"semantic_type\": \"\",\n        \"description\": \"\"\n      }\n    },\n    {\n      \"column\": \"country\",\n      \"properties\": {\n        \"dtype\": \"category\",\n        \"num_unique_values\": 23,\n        \"samples\": [\n          \"MY\",\n          \"IS\",\n          \"US\"\n        ],\n        \"semantic_type\": \"\",\n        \"description\": \"\"\n      }\n    }\n  ]\n}"
            }
          },
          "metadata": {},
          "execution_count": 164
        }
      ]
    },
    {
      "cell_type": "code",
      "source": [
        "platform_content.head()"
      ],
      "metadata": {
        "colab": {
          "base_uri": "https://localhost:8080/",
          "height": 625
        },
        "id": "537e2-g-_wV-",
        "outputId": "4654dfe9-f1ef-4199-ba6f-831e93a81e4c"
      },
      "execution_count": 165,
      "outputs": [
        {
          "output_type": "execute_result",
          "data": {
            "text/plain": [
              "   event_timestamp    interaction_type              item_id  \\\n",
              "0       1459192779  content_pulled_out -6451309518266745024   \n",
              "1       1459193988     content_present -4110354420726924665   \n",
              "2       1459194146     content_present -7292285110016212249   \n",
              "3       1459194474     content_present -6151852268067518688   \n",
              "4       1459194497     content_present  2448026894306402386   \n",
              "\n",
              "           producer_id  producer_session_id producer_device_info  \\\n",
              "0  4340306774493623681  8940341205206233829                  NaN   \n",
              "1  4340306774493623681  8940341205206233829                  NaN   \n",
              "2  4340306774493623681  8940341205206233829                  NaN   \n",
              "3  3891637997717104548 -1457532940883382585                  NaN   \n",
              "4  4340306774493623681  8940341205206233829                  NaN   \n",
              "\n",
              "  producer_location producer_country item_type  \\\n",
              "0               NaN              NaN      HTML   \n",
              "1               NaN              NaN      HTML   \n",
              "2               NaN              NaN      HTML   \n",
              "3               NaN              NaN      HTML   \n",
              "4               NaN              NaN      HTML   \n",
              "\n",
              "                                            item_url  \\\n",
              "0  http://www.nytimes.com/2016/03/28/business/dea...   \n",
              "1  http://www.nytimes.com/2016/03/28/business/dea...   \n",
              "2  http://cointelegraph.com/news/bitcoin-future-w...   \n",
              "3  https://cloudplatform.googleblog.com/2016/03/G...   \n",
              "4  https://bitcoinmagazine.com/articles/ibm-wants...   \n",
              "\n",
              "                                               title  \\\n",
              "0  Ethereum, a Virtual Currency, Enables Transact...   \n",
              "1  Ethereum, a Virtual Currency, Enables Transact...   \n",
              "2  Bitcoin Future: When GBPcoin of Branson Wins O...   \n",
              "3                       Google Data Center 360° Tour   \n",
              "4  IBM Wants to \"Evolve the Internet\" With Blockc...   \n",
              "\n",
              "                                    text_description language  \n",
              "0  All of this work is still very early. The firs...       en  \n",
              "1  All of this work is still very early. The firs...       en  \n",
              "2  The alarm clock wakes me at 8:00 with stream o...       en  \n",
              "3  We're excited to share the Google Data Center ...       en  \n",
              "4  The Aite Group projects the blockchain market ...       en  "
            ],
            "text/html": [
              "\n",
              "  <div id=\"df-b297e02b-1a97-42f3-b5a6-26c6062ed342\" class=\"colab-df-container\">\n",
              "    <div>\n",
              "<style scoped>\n",
              "    .dataframe tbody tr th:only-of-type {\n",
              "        vertical-align: middle;\n",
              "    }\n",
              "\n",
              "    .dataframe tbody tr th {\n",
              "        vertical-align: top;\n",
              "    }\n",
              "\n",
              "    .dataframe thead th {\n",
              "        text-align: right;\n",
              "    }\n",
              "</style>\n",
              "<table border=\"1\" class=\"dataframe\">\n",
              "  <thead>\n",
              "    <tr style=\"text-align: right;\">\n",
              "      <th></th>\n",
              "      <th>event_timestamp</th>\n",
              "      <th>interaction_type</th>\n",
              "      <th>item_id</th>\n",
              "      <th>producer_id</th>\n",
              "      <th>producer_session_id</th>\n",
              "      <th>producer_device_info</th>\n",
              "      <th>producer_location</th>\n",
              "      <th>producer_country</th>\n",
              "      <th>item_type</th>\n",
              "      <th>item_url</th>\n",
              "      <th>title</th>\n",
              "      <th>text_description</th>\n",
              "      <th>language</th>\n",
              "    </tr>\n",
              "  </thead>\n",
              "  <tbody>\n",
              "    <tr>\n",
              "      <th>0</th>\n",
              "      <td>1459192779</td>\n",
              "      <td>content_pulled_out</td>\n",
              "      <td>-6451309518266745024</td>\n",
              "      <td>4340306774493623681</td>\n",
              "      <td>8940341205206233829</td>\n",
              "      <td>NaN</td>\n",
              "      <td>NaN</td>\n",
              "      <td>NaN</td>\n",
              "      <td>HTML</td>\n",
              "      <td>http://www.nytimes.com/2016/03/28/business/dea...</td>\n",
              "      <td>Ethereum, a Virtual Currency, Enables Transact...</td>\n",
              "      <td>All of this work is still very early. The firs...</td>\n",
              "      <td>en</td>\n",
              "    </tr>\n",
              "    <tr>\n",
              "      <th>1</th>\n",
              "      <td>1459193988</td>\n",
              "      <td>content_present</td>\n",
              "      <td>-4110354420726924665</td>\n",
              "      <td>4340306774493623681</td>\n",
              "      <td>8940341205206233829</td>\n",
              "      <td>NaN</td>\n",
              "      <td>NaN</td>\n",
              "      <td>NaN</td>\n",
              "      <td>HTML</td>\n",
              "      <td>http://www.nytimes.com/2016/03/28/business/dea...</td>\n",
              "      <td>Ethereum, a Virtual Currency, Enables Transact...</td>\n",
              "      <td>All of this work is still very early. The firs...</td>\n",
              "      <td>en</td>\n",
              "    </tr>\n",
              "    <tr>\n",
              "      <th>2</th>\n",
              "      <td>1459194146</td>\n",
              "      <td>content_present</td>\n",
              "      <td>-7292285110016212249</td>\n",
              "      <td>4340306774493623681</td>\n",
              "      <td>8940341205206233829</td>\n",
              "      <td>NaN</td>\n",
              "      <td>NaN</td>\n",
              "      <td>NaN</td>\n",
              "      <td>HTML</td>\n",
              "      <td>http://cointelegraph.com/news/bitcoin-future-w...</td>\n",
              "      <td>Bitcoin Future: When GBPcoin of Branson Wins O...</td>\n",
              "      <td>The alarm clock wakes me at 8:00 with stream o...</td>\n",
              "      <td>en</td>\n",
              "    </tr>\n",
              "    <tr>\n",
              "      <th>3</th>\n",
              "      <td>1459194474</td>\n",
              "      <td>content_present</td>\n",
              "      <td>-6151852268067518688</td>\n",
              "      <td>3891637997717104548</td>\n",
              "      <td>-1457532940883382585</td>\n",
              "      <td>NaN</td>\n",
              "      <td>NaN</td>\n",
              "      <td>NaN</td>\n",
              "      <td>HTML</td>\n",
              "      <td>https://cloudplatform.googleblog.com/2016/03/G...</td>\n",
              "      <td>Google Data Center 360° Tour</td>\n",
              "      <td>We're excited to share the Google Data Center ...</td>\n",
              "      <td>en</td>\n",
              "    </tr>\n",
              "    <tr>\n",
              "      <th>4</th>\n",
              "      <td>1459194497</td>\n",
              "      <td>content_present</td>\n",
              "      <td>2448026894306402386</td>\n",
              "      <td>4340306774493623681</td>\n",
              "      <td>8940341205206233829</td>\n",
              "      <td>NaN</td>\n",
              "      <td>NaN</td>\n",
              "      <td>NaN</td>\n",
              "      <td>HTML</td>\n",
              "      <td>https://bitcoinmagazine.com/articles/ibm-wants...</td>\n",
              "      <td>IBM Wants to \"Evolve the Internet\" With Blockc...</td>\n",
              "      <td>The Aite Group projects the blockchain market ...</td>\n",
              "      <td>en</td>\n",
              "    </tr>\n",
              "  </tbody>\n",
              "</table>\n",
              "</div>\n",
              "    <div class=\"colab-df-buttons\">\n",
              "\n",
              "  <div class=\"colab-df-container\">\n",
              "    <button class=\"colab-df-convert\" onclick=\"convertToInteractive('df-b297e02b-1a97-42f3-b5a6-26c6062ed342')\"\n",
              "            title=\"Convert this dataframe to an interactive table.\"\n",
              "            style=\"display:none;\">\n",
              "\n",
              "  <svg xmlns=\"http://www.w3.org/2000/svg\" height=\"24px\" viewBox=\"0 -960 960 960\">\n",
              "    <path d=\"M120-120v-720h720v720H120Zm60-500h600v-160H180v160Zm220 220h160v-160H400v160Zm0 220h160v-160H400v160ZM180-400h160v-160H180v160Zm440 0h160v-160H620v160ZM180-180h160v-160H180v160Zm440 0h160v-160H620v160Z\"/>\n",
              "  </svg>\n",
              "    </button>\n",
              "\n",
              "  <style>\n",
              "    .colab-df-container {\n",
              "      display:flex;\n",
              "      gap: 12px;\n",
              "    }\n",
              "\n",
              "    .colab-df-convert {\n",
              "      background-color: #E8F0FE;\n",
              "      border: none;\n",
              "      border-radius: 50%;\n",
              "      cursor: pointer;\n",
              "      display: none;\n",
              "      fill: #1967D2;\n",
              "      height: 32px;\n",
              "      padding: 0 0 0 0;\n",
              "      width: 32px;\n",
              "    }\n",
              "\n",
              "    .colab-df-convert:hover {\n",
              "      background-color: #E2EBFA;\n",
              "      box-shadow: 0px 1px 2px rgba(60, 64, 67, 0.3), 0px 1px 3px 1px rgba(60, 64, 67, 0.15);\n",
              "      fill: #174EA6;\n",
              "    }\n",
              "\n",
              "    .colab-df-buttons div {\n",
              "      margin-bottom: 4px;\n",
              "    }\n",
              "\n",
              "    [theme=dark] .colab-df-convert {\n",
              "      background-color: #3B4455;\n",
              "      fill: #D2E3FC;\n",
              "    }\n",
              "\n",
              "    [theme=dark] .colab-df-convert:hover {\n",
              "      background-color: #434B5C;\n",
              "      box-shadow: 0px 1px 3px 1px rgba(0, 0, 0, 0.15);\n",
              "      filter: drop-shadow(0px 1px 2px rgba(0, 0, 0, 0.3));\n",
              "      fill: #FFFFFF;\n",
              "    }\n",
              "  </style>\n",
              "\n",
              "    <script>\n",
              "      const buttonEl =\n",
              "        document.querySelector('#df-b297e02b-1a97-42f3-b5a6-26c6062ed342 button.colab-df-convert');\n",
              "      buttonEl.style.display =\n",
              "        google.colab.kernel.accessAllowed ? 'block' : 'none';\n",
              "\n",
              "      async function convertToInteractive(key) {\n",
              "        const element = document.querySelector('#df-b297e02b-1a97-42f3-b5a6-26c6062ed342');\n",
              "        const dataTable =\n",
              "          await google.colab.kernel.invokeFunction('convertToInteractive',\n",
              "                                                    [key], {});\n",
              "        if (!dataTable) return;\n",
              "\n",
              "        const docLinkHtml = 'Like what you see? Visit the ' +\n",
              "          '<a target=\"_blank\" href=https://colab.research.google.com/notebooks/data_table.ipynb>data table notebook</a>'\n",
              "          + ' to learn more about interactive tables.';\n",
              "        element.innerHTML = '';\n",
              "        dataTable['output_type'] = 'display_data';\n",
              "        await google.colab.output.renderOutput(dataTable, element);\n",
              "        const docLink = document.createElement('div');\n",
              "        docLink.innerHTML = docLinkHtml;\n",
              "        element.appendChild(docLink);\n",
              "      }\n",
              "    </script>\n",
              "  </div>\n",
              "\n",
              "\n",
              "<div id=\"df-11c2d91e-069b-44a9-a635-eb06a1bc8b8a\">\n",
              "  <button class=\"colab-df-quickchart\" onclick=\"quickchart('df-11c2d91e-069b-44a9-a635-eb06a1bc8b8a')\"\n",
              "            title=\"Suggest charts\"\n",
              "            style=\"display:none;\">\n",
              "\n",
              "<svg xmlns=\"http://www.w3.org/2000/svg\" height=\"24px\"viewBox=\"0 0 24 24\"\n",
              "     width=\"24px\">\n",
              "    <g>\n",
              "        <path d=\"M19 3H5c-1.1 0-2 .9-2 2v14c0 1.1.9 2 2 2h14c1.1 0 2-.9 2-2V5c0-1.1-.9-2-2-2zM9 17H7v-7h2v7zm4 0h-2V7h2v10zm4 0h-2v-4h2v4z\"/>\n",
              "    </g>\n",
              "</svg>\n",
              "  </button>\n",
              "\n",
              "<style>\n",
              "  .colab-df-quickchart {\n",
              "      --bg-color: #E8F0FE;\n",
              "      --fill-color: #1967D2;\n",
              "      --hover-bg-color: #E2EBFA;\n",
              "      --hover-fill-color: #174EA6;\n",
              "      --disabled-fill-color: #AAA;\n",
              "      --disabled-bg-color: #DDD;\n",
              "  }\n",
              "\n",
              "  [theme=dark] .colab-df-quickchart {\n",
              "      --bg-color: #3B4455;\n",
              "      --fill-color: #D2E3FC;\n",
              "      --hover-bg-color: #434B5C;\n",
              "      --hover-fill-color: #FFFFFF;\n",
              "      --disabled-bg-color: #3B4455;\n",
              "      --disabled-fill-color: #666;\n",
              "  }\n",
              "\n",
              "  .colab-df-quickchart {\n",
              "    background-color: var(--bg-color);\n",
              "    border: none;\n",
              "    border-radius: 50%;\n",
              "    cursor: pointer;\n",
              "    display: none;\n",
              "    fill: var(--fill-color);\n",
              "    height: 32px;\n",
              "    padding: 0;\n",
              "    width: 32px;\n",
              "  }\n",
              "\n",
              "  .colab-df-quickchart:hover {\n",
              "    background-color: var(--hover-bg-color);\n",
              "    box-shadow: 0 1px 2px rgba(60, 64, 67, 0.3), 0 1px 3px 1px rgba(60, 64, 67, 0.15);\n",
              "    fill: var(--button-hover-fill-color);\n",
              "  }\n",
              "\n",
              "  .colab-df-quickchart-complete:disabled,\n",
              "  .colab-df-quickchart-complete:disabled:hover {\n",
              "    background-color: var(--disabled-bg-color);\n",
              "    fill: var(--disabled-fill-color);\n",
              "    box-shadow: none;\n",
              "  }\n",
              "\n",
              "  .colab-df-spinner {\n",
              "    border: 2px solid var(--fill-color);\n",
              "    border-color: transparent;\n",
              "    border-bottom-color: var(--fill-color);\n",
              "    animation:\n",
              "      spin 1s steps(1) infinite;\n",
              "  }\n",
              "\n",
              "  @keyframes spin {\n",
              "    0% {\n",
              "      border-color: transparent;\n",
              "      border-bottom-color: var(--fill-color);\n",
              "      border-left-color: var(--fill-color);\n",
              "    }\n",
              "    20% {\n",
              "      border-color: transparent;\n",
              "      border-left-color: var(--fill-color);\n",
              "      border-top-color: var(--fill-color);\n",
              "    }\n",
              "    30% {\n",
              "      border-color: transparent;\n",
              "      border-left-color: var(--fill-color);\n",
              "      border-top-color: var(--fill-color);\n",
              "      border-right-color: var(--fill-color);\n",
              "    }\n",
              "    40% {\n",
              "      border-color: transparent;\n",
              "      border-right-color: var(--fill-color);\n",
              "      border-top-color: var(--fill-color);\n",
              "    }\n",
              "    60% {\n",
              "      border-color: transparent;\n",
              "      border-right-color: var(--fill-color);\n",
              "    }\n",
              "    80% {\n",
              "      border-color: transparent;\n",
              "      border-right-color: var(--fill-color);\n",
              "      border-bottom-color: var(--fill-color);\n",
              "    }\n",
              "    90% {\n",
              "      border-color: transparent;\n",
              "      border-bottom-color: var(--fill-color);\n",
              "    }\n",
              "  }\n",
              "</style>\n",
              "\n",
              "  <script>\n",
              "    async function quickchart(key) {\n",
              "      const quickchartButtonEl =\n",
              "        document.querySelector('#' + key + ' button');\n",
              "      quickchartButtonEl.disabled = true;  // To prevent multiple clicks.\n",
              "      quickchartButtonEl.classList.add('colab-df-spinner');\n",
              "      try {\n",
              "        const charts = await google.colab.kernel.invokeFunction(\n",
              "            'suggestCharts', [key], {});\n",
              "      } catch (error) {\n",
              "        console.error('Error during call to suggestCharts:', error);\n",
              "      }\n",
              "      quickchartButtonEl.classList.remove('colab-df-spinner');\n",
              "      quickchartButtonEl.classList.add('colab-df-quickchart-complete');\n",
              "    }\n",
              "    (() => {\n",
              "      let quickchartButtonEl =\n",
              "        document.querySelector('#df-11c2d91e-069b-44a9-a635-eb06a1bc8b8a button');\n",
              "      quickchartButtonEl.style.display =\n",
              "        google.colab.kernel.accessAllowed ? 'block' : 'none';\n",
              "    })();\n",
              "  </script>\n",
              "</div>\n",
              "\n",
              "    </div>\n",
              "  </div>\n"
            ],
            "application/vnd.google.colaboratory.intrinsic+json": {
              "type": "dataframe",
              "variable_name": "platform_content",
              "summary": "{\n  \"name\": \"platform_content\",\n  \"rows\": 3122,\n  \"fields\": [\n    {\n      \"column\": \"event_timestamp\",\n      \"properties\": {\n        \"dtype\": \"number\",\n        \"std\": 7571512,\n        \"min\": 1459192779,\n        \"max\": 1488307871,\n        \"num_unique_values\": 3121,\n        \"samples\": [\n          1467980673,\n          1485256341,\n          1471818149\n        ],\n        \"semantic_type\": \"\",\n        \"description\": \"\"\n      }\n    },\n    {\n      \"column\": \"interaction_type\",\n      \"properties\": {\n        \"dtype\": \"category\",\n        \"num_unique_values\": 2,\n        \"samples\": [\n          \"content_present\",\n          \"content_pulled_out\"\n        ],\n        \"semantic_type\": \"\",\n        \"description\": \"\"\n      }\n    },\n    {\n      \"column\": \"item_id\",\n      \"properties\": {\n        \"dtype\": \"number\",\n        \"std\": 5383733758080293888,\n        \"min\": -9222795471790223670,\n        \"max\": 9222265156747237864,\n        \"num_unique_values\": 3057,\n        \"samples\": [\n          -1564468014116140117,\n          2586379029487881843\n        ],\n        \"semantic_type\": \"\",\n        \"description\": \"\"\n      }\n    },\n    {\n      \"column\": \"producer_id\",\n      \"properties\": {\n        \"dtype\": \"number\",\n        \"std\": 4387114621585839616,\n        \"min\": -9120685872592674274,\n        \"max\": 9210530975708218054,\n        \"num_unique_values\": 252,\n        \"samples\": [\n          -534549863526737439,\n          -1443636648652872475\n        ],\n        \"semantic_type\": \"\",\n        \"description\": \"\"\n      }\n    },\n    {\n      \"column\": \"producer_session_id\",\n      \"properties\": {\n        \"dtype\": \"number\",\n        \"std\": 5403752656253187072,\n        \"min\": -9212055154240885024,\n        \"max\": 9221043291398421991,\n        \"num_unique_values\": 2017,\n        \"samples\": [\n          -3124242612150372875,\n          -7704573127410667051\n        ],\n        \"semantic_type\": \"\",\n        \"description\": \"\"\n      }\n    },\n    {\n      \"column\": \"producer_device_info\",\n      \"properties\": {\n        \"dtype\": \"category\",\n        \"num_unique_values\": 114,\n        \"samples\": [\n          \"Mozilla/5.0 (Macintosh; Intel Mac OS X 10_12_2) AppleWebKit/537.36 (KHTML, like Gecko) Chrome/55.0.2883.95 Safari/537.36\",\n          \"Mozilla/5.0 (X11; Linux x86_64) AppleWebKit/537.36 (KHTML, like Gecko) Chrome/50.0.2661.75 Safari/537.36\"\n        ],\n        \"semantic_type\": \"\",\n        \"description\": \"\"\n      }\n    },\n    {\n      \"column\": \"producer_location\",\n      \"properties\": {\n        \"dtype\": \"category\",\n        \"num_unique_values\": 19,\n        \"samples\": [\n          \"MG\",\n          \"IL\"\n        ],\n        \"semantic_type\": \"\",\n        \"description\": \"\"\n      }\n    },\n    {\n      \"column\": \"producer_country\",\n      \"properties\": {\n        \"dtype\": \"category\",\n        \"num_unique_values\": 5,\n        \"samples\": [\n          \"CA\",\n          \"PT\"\n        ],\n        \"semantic_type\": \"\",\n        \"description\": \"\"\n      }\n    },\n    {\n      \"column\": \"item_type\",\n      \"properties\": {\n        \"dtype\": \"category\",\n        \"num_unique_values\": 3,\n        \"samples\": [\n          \"HTML\",\n          \"RICH\"\n        ],\n        \"semantic_type\": \"\",\n        \"description\": \"\"\n      }\n    },\n    {\n      \"column\": \"item_url\",\n      \"properties\": {\n        \"dtype\": \"string\",\n        \"num_unique_values\": 3029,\n        \"samples\": [\n          \"http://www.wareable.com/Pebble/pebble-core-spotify-price-release-date-specs-2016\",\n          \"http://www.meioemensagem.com.br/home/comunicacao/noticias/2016/03/30/Accenture-amplia-atuacao-no-Brasil.html\"\n        ],\n        \"semantic_type\": \"\",\n        \"description\": \"\"\n      }\n    },\n    {\n      \"column\": \"title\",\n      \"properties\": {\n        \"dtype\": \"string\",\n        \"num_unique_values\": 3011,\n        \"samples\": [\n          \"Spotify UI built with HTML / CSS - Freebiesbug\",\n          \"Spring Boot 1.4 released\"\n        ],\n        \"semantic_type\": \"\",\n        \"description\": \"\"\n      }\n    },\n    {\n      \"column\": \"text_description\",\n      \"properties\": {\n        \"dtype\": \"string\",\n        \"num_unique_values\": 3019,\n        \"samples\": [\n          \"On January 4, 2016, right before Netflix expanded itself into 130 new countries , Netflix Billing infrastructure became 100% AWS cloud-native. Migration of Billing infrastructure from Netflix Data Center(DC) to AWS Cloud was part of a broader initiative. This prior blog post is a great read that summarizes our strategic goals and direction towards AWS migration. For a company, its billing solution is its financial lifeline, while at the same time, it is a visible representation of a company's attitude towards its customers. A great customer experience is one of Netflix's core values. Considering the sensitive nature of Billing for its direct impact on our monetary relationship with our members as well on financial reporting, this migration needed to be handled as delicately as possible. Our primary goal was to define a secure, resilient and granular path for migration to the Cloud, without impacting the member experience. This blog entry discusses our approach to migration of a complex Billing ecosystem from Netflix Data Center(DC) into AWS Cloud. Components of our Billing architecture Billing infrastructure is responsible for managing the billing state of Netflix members. This includes keeping track of open/paid billing periods, the amount of credit on the member's account, managing payment status of the member, initiating charge requests and what date the member has paid through. Other than these, billing data feeds into financial systems for revenue and tax reporting for Netflix accounting. To accomplish above, billing engineering encompasses: Batch jobs to create recurring renewal orders for a global subscriber base, aggregated data feeds into our General Ledger(GL) for daily revenue from all payment methods including gift cards, Tax Service that reads from and posts into Tax engine. Generation of messaging events and streaming/DVD hold events based on billing state of customers. Billing APIs provide billing and gift card details to the customer service platform and website. Other than these, Billing APIs are also part of workflows initiated to process user actions like member signup, change plan, cancellation, update address, chargebacks, and refund requests. Integrations with different services like member account service, payment processing, customer service, customer messaging, DVD website and shipping Billing systems had integrations in DC as well as in cloud with the cloud-native systems. At a high level, our pre-migration architecture could be abstracted out as below:- Considering how much code and data was interacting with Oracle, one of our objectives was to disintegrate our giant Oracle based solution into a services based architecture. Some of our APIs needed to be multi-region and highly available. So we decided to split our data into multiple data stores. Subscriber data was migrated to Cassandra data store. Our payment processing integration needed ACID transaction. Hence all relevant data was migrated to MYSQL. Following is a representation of our post migration architecture. As we approached the mammoth task of migration, we were keenly aware of the many challenges in front of us ... Our migration should ideally not take any downtime for user facing flows. Our new architecture in AWS would need to scale to rapidly growing the member base. We had billions of rows of data, constantly changing and composed of all the historical data since Netflix's inception in 1997. It was growing every single minute in our large shared database on Oracle. To move all this data over to AWS, we needed to first transport and synchronize the data in real time, into a double digit Terabyte RDBMS in cloud. Being a SOX system added another layer of complexity, since all the migration and tooling needed to adhere to our SOX processes. Netflix was launching in many new countries and marching towards being global soon. Billing migration needed to happen without adversely impacting other teams that were busy with their own migration and global launch milestones. Our approach to migration was guided by simple principles that helped us in defining the way forward. We will cover the most important ones below: Challenge complexity and simplify: It is much easier to simply accept complexity inherent in legacy systems than challenge it, though when you are floating in a lot of data and code, simplification becomes the key. It seemed very intimidating until we spent a few days opening up everything and asking ourselves repeatedly about how else we could simplify. Cleaning up Code : We started chipping away existing code into smaller, efficient modules and first moved some critical dependencies to run from the Cloud. We moved our tax solution to the Cloud first. Next, we retired serving member billing history from giant tables that were part of many different code paths. We built a new application to capture billing events, migrated only necessary data into our new Cassandra data store and started serving billing history, globally, from the Cloud. We spent a good amount of time writing a data migration tool that would transform member billing attributes spread across many tables in Oracle into a much simpler Cassandra data structure. We worked with our DVD engineering counterparts to further simplify our integration and got rid of obsolete code. Purging Data : We took a hard look at every single table to ensure that we were migrating only what we needed and leaving everything else behind. Historical billing data is valuable to legal and customer service teams. Our goal was to migrate only necessary data into the Cloud. So, we worked with impacted teams to find out what parts of historical data they really needed. We identified alternative data stores that could serve old data for these teams. After that, we started purging data that was obsolete and was not needed for any function. Build tooling to be resilient and compliant : Our goal was to migrate applications incrementally with zero downtime. To achieve this, we built proxies and redirectors to pipe data back into DC. This helped us in keeping our applications in DC , unimpacted by the change, till we were ready to migrate them. We had to build tooling in order to support our Billing Cloud infrastructure which needed to be SOX compliant. For SOX compliance we needed to ensure mitigation of unexpected developer actions and auditability of actions. Our Cloud deployment tool was enhanced to capture details of deployment and pipe events to and our Big Data Platform for auditability. We needed to enhance Cassandra client for authentication and auditable actions. We wrote new alerts using that would help us in monitoring our applications and data in the Cloud. With the help of our Data analytics team, we built a comparator to reconcile subscriber data in Cassandra datastore against data in Oracle by country and report mismatches. To achieve the above, we heavily used Netflix big data platform to capture deployment events, used sqoop to transport data from our Oracle database and Cassandra clusters to Hive. We wrote Hive queries and MapReduce jobs for needed reports and dashboards. Test with a clean and limited dataset first. How global expansion helped us : As Netflix was launching in new countries, it created a lot of challenges for us, though it also provided an opportunity to test our Cloud infrastructure with new, clean data, not weighted down by legacy. So, we created a new skinny billing infrastructure in Cloud, for all the user facing functionality and a skinny version of our renewal batch process, with integration into DC applications, to complete the billing workflow. Once the data for new countries could be successfully processed in the Cloud, it gave us the confidence to extend the Cloud footprint for existing large legacy countries, especially the US, where we support not only streaming but DVD billing as well. Decouple user facing flows to shield customer experience from downtimes or other migration impacts : As we were getting ready to migrate existing members' data into Cassandra, we needed downtime to halt processing while we migrated subscription data from Oracle to Cassandra for our APIs and batch renewal in Cloud. All our tooling was built around ability to migrate a country at time and tunnel traffic as needed. We worked with ecommerce and membership services to change integration in user workflows to an asynchronous model. We built retry capabilities to rerun failed processing and repeat as needed. We added optimistic customer state management to ensure our members were not penalized while our processing was halted. By doing all the above, we transformed and moved millions of rows from Oracle in DC to Cassandra in AWS without any obvious user impact. Moving a database needs its own strategic planning : Database movement needs to be planned out while keeping the end goal in sight, or else it can go very wrong. There are many decisions to be made, from storage prediction to absorbing at least a year's worth of growth in data that translates into number of instances needed, licensing costs for both production and test environments, using RDS services vs. managing larger EC2 instances, ensuring that database architecture can address scalability, availability and reliability of data. Creating disaster recovery plan, planning minimal migration downtime possible and the list goes on. As part of this migration, we decided to migrate from licenced Oracle to open source MYSQL database running on Netflix managed EC2 instances. While our subscription processing was using data in our Cassandra datastore, our payment processor needed ACID capabilities of an RDBMS to process charge transactions. We still had a multi-terabyte database that would not fit in AWS RDS with TB limitations. With the help of Netflix platform core and database engineering, we defined a multi-region, scalable architecture for our MYSQL master with DRBD copy and multiple read replicas available in different regions. We also moved all our ETL processing to replicas to avoid resource contention on the Master. Database Cloud Engineering built tooling and alerts for MYSQL instances to ensure monitoring and recovery as needed. Our other biggest challenge was migrating constantly changing data to MYSQL in AWS, without taking any downtime. After exploring many options, we proceeded with Oracle GoldenGate, which could replicate our tables across heterogeneous databases, along with ongoing incremental changes. Of course, this was a very large movement of data, that ran in parallel to our production operations and other migration for a couple of months. We conducted iterative testing and issue fixing cycles to run our applications against MYSQL. Eventually, many weeks before flipping the switch, we started running our test database on MYSQL and would fix and test all issues on MYSQL code branch before doing a final validation on Oracle and releasing in production. Running our test environment against MYSQL continuously created a great feedback loop for us. Finally, on January 4, with a flip of a switch, we were able to move our processing and data ETLs against MYSQL. While our migration to the Cloud was relatively smooth, looking back, there are always a few things we could have done better. We underestimated testing automation needs. We did not have a good way to test end to end flows. Having spent enough effort on these aspects, upfront, would have given us better developer velocity. Migrating something as critical as billing with scale and legacy that needed to be addressed was plenty of work, though the benefits from the migration and simplification are also numerous. Post migration, we are more efficient and lighter in our software footprint than before. We are able to fully utilize Cloud capabilities in tooling, alerting and monitoring provided by the Netflix platform services. Our applications are able to scale horizontally as needed, which has helped us in keeping up our processing with subscriber growth. In conclusion, billing migration was a major cross functional engineering effort. Different engineering teams: core platform, security, database engineering, tooling, big data platform, business teams and other engineering teams supported us through this. We plan to cover focused topics on database migration and engineering perspectives as a continuing series of blog posts in the future. Once in the Cloud, we now see numerous opportunities to further enhance our services by using innovations of AWS and the Netflix platform. Netflix being global is bringing many more interesting challenges to our path. We have started our next big effort to re-architect our billing platform to become even more efficient and distributed for a global subscriber scale. If you are interested in helping us solve these problems, we are !\",\n          \"R$ 800 00 Entrega a combinar com o vendedor Jaguari\\u00fana, S\\u00e3o Paulo Consultar frete \\u00d7 Compra Garantida Compra Garantida com o MercadoPago Receba o produto que est\\u00e1 esperando ou devolvemos o dinheiro. Compra Garantida com o MercadoPago Receba o produto que est\\u00e1 esperando ou devolvemos o dinheiro. O que isso significa? Este vendedor tem boas qualifica\\u00e7\\u00f5es, mas ainda n\\u00e3o concretizou v\\u00e1rias vendas. Recomendamos Revisar a qualifica\\u00e7\\u00e3o feita por outros compradores Perguntar tudo o que precisar antes de comprar Pagar com o MercadoPago que o seu dinheiro estar\\u00e1 100% protegido. Compra Garantida com MercadoPago:Receba o produto que espera ou devolvemos o seu dinheiro Se houver algum problema ou se n\\u00e3o receber o produto exatamente como o comprou, devolveremos o dinheiro. O que \\u00e9 Compra Garantida\"\n        ],\n        \"semantic_type\": \"\",\n        \"description\": \"\"\n      }\n    },\n    {\n      \"column\": \"language\",\n      \"properties\": {\n        \"dtype\": \"category\",\n        \"num_unique_values\": 5,\n        \"samples\": [\n          \"pt\",\n          \"ja\"\n        ],\n        \"semantic_type\": \"\",\n        \"description\": \"\"\n      }\n    }\n  ]\n}"
            }
          },
          "metadata": {},
          "execution_count": 165
        }
      ]
    },
    {
      "cell_type": "markdown",
      "source": [
        "## Data Preprocessing"
      ],
      "metadata": {
        "id": "-7rQQGxrAASm"
      }
    },
    {
      "cell_type": "markdown",
      "source": [
        "# Filtering only English articles"
      ],
      "metadata": {
        "id": "lNJh_PUcJgQL"
      }
    },
    {
      "cell_type": "code",
      "source": [
        "platform_content = platform_content[platform_content['language'] == 'en']\n",
        "\n",
        "# Creating a rating system based on interaction type\n",
        "interaction_weights = {\n",
        "    'content_followed': 5,\n",
        "    'content_commented_on': 4,\n",
        "    'content_saved': 3,\n",
        "    'content_liked': 2,\n",
        "    'content_watched': 1\n",
        "}\n",
        "consumer_transactions['ratings'] = consumer_transactions['interaction_type'].map(interaction_weights)\n"
      ],
      "metadata": {
        "id": "W_IBCjgS__hG"
      },
      "execution_count": 166,
      "outputs": []
    },
    {
      "cell_type": "code",
      "source": [
        "consumer_transactions.head()"
      ],
      "metadata": {
        "colab": {
          "base_uri": "https://localhost:8080/",
          "height": 224
        },
        "id": "yNiaLs9OPVL2",
        "outputId": "1be2207a-4237-464b-d327-9666be94997a"
      },
      "execution_count": 167,
      "outputs": [
        {
          "output_type": "execute_result",
          "data": {
            "text/plain": [
              "   event_timestamp  interaction_type              item_id  \\\n",
              "0       1465413032   content_watched -3499919498720038879   \n",
              "1       1465412560   content_watched  8890720798209849691   \n",
              "2       1465416190   content_watched   310515487419366995   \n",
              "3       1465413895  content_followed   310515487419366995   \n",
              "4       1465412290   content_watched -7820640624231356730   \n",
              "\n",
              "           consumer_id   consumer_session_id  \\\n",
              "0 -8845298781299428018   1264196770339959068   \n",
              "1 -1032019229384696495   3621737643587579081   \n",
              "2 -1130272294246983140   2631864456530402479   \n",
              "3   344280948527967603  -3167637573980064150   \n",
              "4  -445337111692715325  561148 1178424124714   \n",
              "\n",
              "                                consumer_device_info consumer_location  \\\n",
              "0                                                NaN               NaN   \n",
              "1  Mozilla/5.0 (Macintosh; Intel Mac OS X 10_11_2...                NY   \n",
              "2                                                NaN               NaN   \n",
              "3                                                NaN               NaN   \n",
              "4                                                NaN               NaN   \n",
              "\n",
              "  country  ratings  \n",
              "0     NaN        1  \n",
              "1      US        1  \n",
              "2     NaN        1  \n",
              "3     NaN        5  \n",
              "4     NaN        1  "
            ],
            "text/html": [
              "\n",
              "  <div id=\"df-b497b9b3-dc36-4c44-ac1e-2513ca3cc1f8\" class=\"colab-df-container\">\n",
              "    <div>\n",
              "<style scoped>\n",
              "    .dataframe tbody tr th:only-of-type {\n",
              "        vertical-align: middle;\n",
              "    }\n",
              "\n",
              "    .dataframe tbody tr th {\n",
              "        vertical-align: top;\n",
              "    }\n",
              "\n",
              "    .dataframe thead th {\n",
              "        text-align: right;\n",
              "    }\n",
              "</style>\n",
              "<table border=\"1\" class=\"dataframe\">\n",
              "  <thead>\n",
              "    <tr style=\"text-align: right;\">\n",
              "      <th></th>\n",
              "      <th>event_timestamp</th>\n",
              "      <th>interaction_type</th>\n",
              "      <th>item_id</th>\n",
              "      <th>consumer_id</th>\n",
              "      <th>consumer_session_id</th>\n",
              "      <th>consumer_device_info</th>\n",
              "      <th>consumer_location</th>\n",
              "      <th>country</th>\n",
              "      <th>ratings</th>\n",
              "    </tr>\n",
              "  </thead>\n",
              "  <tbody>\n",
              "    <tr>\n",
              "      <th>0</th>\n",
              "      <td>1465413032</td>\n",
              "      <td>content_watched</td>\n",
              "      <td>-3499919498720038879</td>\n",
              "      <td>-8845298781299428018</td>\n",
              "      <td>1264196770339959068</td>\n",
              "      <td>NaN</td>\n",
              "      <td>NaN</td>\n",
              "      <td>NaN</td>\n",
              "      <td>1</td>\n",
              "    </tr>\n",
              "    <tr>\n",
              "      <th>1</th>\n",
              "      <td>1465412560</td>\n",
              "      <td>content_watched</td>\n",
              "      <td>8890720798209849691</td>\n",
              "      <td>-1032019229384696495</td>\n",
              "      <td>3621737643587579081</td>\n",
              "      <td>Mozilla/5.0 (Macintosh; Intel Mac OS X 10_11_2...</td>\n",
              "      <td>NY</td>\n",
              "      <td>US</td>\n",
              "      <td>1</td>\n",
              "    </tr>\n",
              "    <tr>\n",
              "      <th>2</th>\n",
              "      <td>1465416190</td>\n",
              "      <td>content_watched</td>\n",
              "      <td>310515487419366995</td>\n",
              "      <td>-1130272294246983140</td>\n",
              "      <td>2631864456530402479</td>\n",
              "      <td>NaN</td>\n",
              "      <td>NaN</td>\n",
              "      <td>NaN</td>\n",
              "      <td>1</td>\n",
              "    </tr>\n",
              "    <tr>\n",
              "      <th>3</th>\n",
              "      <td>1465413895</td>\n",
              "      <td>content_followed</td>\n",
              "      <td>310515487419366995</td>\n",
              "      <td>344280948527967603</td>\n",
              "      <td>-3167637573980064150</td>\n",
              "      <td>NaN</td>\n",
              "      <td>NaN</td>\n",
              "      <td>NaN</td>\n",
              "      <td>5</td>\n",
              "    </tr>\n",
              "    <tr>\n",
              "      <th>4</th>\n",
              "      <td>1465412290</td>\n",
              "      <td>content_watched</td>\n",
              "      <td>-7820640624231356730</td>\n",
              "      <td>-445337111692715325</td>\n",
              "      <td>561148 1178424124714</td>\n",
              "      <td>NaN</td>\n",
              "      <td>NaN</td>\n",
              "      <td>NaN</td>\n",
              "      <td>1</td>\n",
              "    </tr>\n",
              "  </tbody>\n",
              "</table>\n",
              "</div>\n",
              "    <div class=\"colab-df-buttons\">\n",
              "\n",
              "  <div class=\"colab-df-container\">\n",
              "    <button class=\"colab-df-convert\" onclick=\"convertToInteractive('df-b497b9b3-dc36-4c44-ac1e-2513ca3cc1f8')\"\n",
              "            title=\"Convert this dataframe to an interactive table.\"\n",
              "            style=\"display:none;\">\n",
              "\n",
              "  <svg xmlns=\"http://www.w3.org/2000/svg\" height=\"24px\" viewBox=\"0 -960 960 960\">\n",
              "    <path d=\"M120-120v-720h720v720H120Zm60-500h600v-160H180v160Zm220 220h160v-160H400v160Zm0 220h160v-160H400v160ZM180-400h160v-160H180v160Zm440 0h160v-160H620v160ZM180-180h160v-160H180v160Zm440 0h160v-160H620v160Z\"/>\n",
              "  </svg>\n",
              "    </button>\n",
              "\n",
              "  <style>\n",
              "    .colab-df-container {\n",
              "      display:flex;\n",
              "      gap: 12px;\n",
              "    }\n",
              "\n",
              "    .colab-df-convert {\n",
              "      background-color: #E8F0FE;\n",
              "      border: none;\n",
              "      border-radius: 50%;\n",
              "      cursor: pointer;\n",
              "      display: none;\n",
              "      fill: #1967D2;\n",
              "      height: 32px;\n",
              "      padding: 0 0 0 0;\n",
              "      width: 32px;\n",
              "    }\n",
              "\n",
              "    .colab-df-convert:hover {\n",
              "      background-color: #E2EBFA;\n",
              "      box-shadow: 0px 1px 2px rgba(60, 64, 67, 0.3), 0px 1px 3px 1px rgba(60, 64, 67, 0.15);\n",
              "      fill: #174EA6;\n",
              "    }\n",
              "\n",
              "    .colab-df-buttons div {\n",
              "      margin-bottom: 4px;\n",
              "    }\n",
              "\n",
              "    [theme=dark] .colab-df-convert {\n",
              "      background-color: #3B4455;\n",
              "      fill: #D2E3FC;\n",
              "    }\n",
              "\n",
              "    [theme=dark] .colab-df-convert:hover {\n",
              "      background-color: #434B5C;\n",
              "      box-shadow: 0px 1px 3px 1px rgba(0, 0, 0, 0.15);\n",
              "      filter: drop-shadow(0px 1px 2px rgba(0, 0, 0, 0.3));\n",
              "      fill: #FFFFFF;\n",
              "    }\n",
              "  </style>\n",
              "\n",
              "    <script>\n",
              "      const buttonEl =\n",
              "        document.querySelector('#df-b497b9b3-dc36-4c44-ac1e-2513ca3cc1f8 button.colab-df-convert');\n",
              "      buttonEl.style.display =\n",
              "        google.colab.kernel.accessAllowed ? 'block' : 'none';\n",
              "\n",
              "      async function convertToInteractive(key) {\n",
              "        const element = document.querySelector('#df-b497b9b3-dc36-4c44-ac1e-2513ca3cc1f8');\n",
              "        const dataTable =\n",
              "          await google.colab.kernel.invokeFunction('convertToInteractive',\n",
              "                                                    [key], {});\n",
              "        if (!dataTable) return;\n",
              "\n",
              "        const docLinkHtml = 'Like what you see? Visit the ' +\n",
              "          '<a target=\"_blank\" href=https://colab.research.google.com/notebooks/data_table.ipynb>data table notebook</a>'\n",
              "          + ' to learn more about interactive tables.';\n",
              "        element.innerHTML = '';\n",
              "        dataTable['output_type'] = 'display_data';\n",
              "        await google.colab.output.renderOutput(dataTable, element);\n",
              "        const docLink = document.createElement('div');\n",
              "        docLink.innerHTML = docLinkHtml;\n",
              "        element.appendChild(docLink);\n",
              "      }\n",
              "    </script>\n",
              "  </div>\n",
              "\n",
              "\n",
              "<div id=\"df-39faf880-f0a4-41d9-a628-675815d3ec40\">\n",
              "  <button class=\"colab-df-quickchart\" onclick=\"quickchart('df-39faf880-f0a4-41d9-a628-675815d3ec40')\"\n",
              "            title=\"Suggest charts\"\n",
              "            style=\"display:none;\">\n",
              "\n",
              "<svg xmlns=\"http://www.w3.org/2000/svg\" height=\"24px\"viewBox=\"0 0 24 24\"\n",
              "     width=\"24px\">\n",
              "    <g>\n",
              "        <path d=\"M19 3H5c-1.1 0-2 .9-2 2v14c0 1.1.9 2 2 2h14c1.1 0 2-.9 2-2V5c0-1.1-.9-2-2-2zM9 17H7v-7h2v7zm4 0h-2V7h2v10zm4 0h-2v-4h2v4z\"/>\n",
              "    </g>\n",
              "</svg>\n",
              "  </button>\n",
              "\n",
              "<style>\n",
              "  .colab-df-quickchart {\n",
              "      --bg-color: #E8F0FE;\n",
              "      --fill-color: #1967D2;\n",
              "      --hover-bg-color: #E2EBFA;\n",
              "      --hover-fill-color: #174EA6;\n",
              "      --disabled-fill-color: #AAA;\n",
              "      --disabled-bg-color: #DDD;\n",
              "  }\n",
              "\n",
              "  [theme=dark] .colab-df-quickchart {\n",
              "      --bg-color: #3B4455;\n",
              "      --fill-color: #D2E3FC;\n",
              "      --hover-bg-color: #434B5C;\n",
              "      --hover-fill-color: #FFFFFF;\n",
              "      --disabled-bg-color: #3B4455;\n",
              "      --disabled-fill-color: #666;\n",
              "  }\n",
              "\n",
              "  .colab-df-quickchart {\n",
              "    background-color: var(--bg-color);\n",
              "    border: none;\n",
              "    border-radius: 50%;\n",
              "    cursor: pointer;\n",
              "    display: none;\n",
              "    fill: var(--fill-color);\n",
              "    height: 32px;\n",
              "    padding: 0;\n",
              "    width: 32px;\n",
              "  }\n",
              "\n",
              "  .colab-df-quickchart:hover {\n",
              "    background-color: var(--hover-bg-color);\n",
              "    box-shadow: 0 1px 2px rgba(60, 64, 67, 0.3), 0 1px 3px 1px rgba(60, 64, 67, 0.15);\n",
              "    fill: var(--button-hover-fill-color);\n",
              "  }\n",
              "\n",
              "  .colab-df-quickchart-complete:disabled,\n",
              "  .colab-df-quickchart-complete:disabled:hover {\n",
              "    background-color: var(--disabled-bg-color);\n",
              "    fill: var(--disabled-fill-color);\n",
              "    box-shadow: none;\n",
              "  }\n",
              "\n",
              "  .colab-df-spinner {\n",
              "    border: 2px solid var(--fill-color);\n",
              "    border-color: transparent;\n",
              "    border-bottom-color: var(--fill-color);\n",
              "    animation:\n",
              "      spin 1s steps(1) infinite;\n",
              "  }\n",
              "\n",
              "  @keyframes spin {\n",
              "    0% {\n",
              "      border-color: transparent;\n",
              "      border-bottom-color: var(--fill-color);\n",
              "      border-left-color: var(--fill-color);\n",
              "    }\n",
              "    20% {\n",
              "      border-color: transparent;\n",
              "      border-left-color: var(--fill-color);\n",
              "      border-top-color: var(--fill-color);\n",
              "    }\n",
              "    30% {\n",
              "      border-color: transparent;\n",
              "      border-left-color: var(--fill-color);\n",
              "      border-top-color: var(--fill-color);\n",
              "      border-right-color: var(--fill-color);\n",
              "    }\n",
              "    40% {\n",
              "      border-color: transparent;\n",
              "      border-right-color: var(--fill-color);\n",
              "      border-top-color: var(--fill-color);\n",
              "    }\n",
              "    60% {\n",
              "      border-color: transparent;\n",
              "      border-right-color: var(--fill-color);\n",
              "    }\n",
              "    80% {\n",
              "      border-color: transparent;\n",
              "      border-right-color: var(--fill-color);\n",
              "      border-bottom-color: var(--fill-color);\n",
              "    }\n",
              "    90% {\n",
              "      border-color: transparent;\n",
              "      border-bottom-color: var(--fill-color);\n",
              "    }\n",
              "  }\n",
              "</style>\n",
              "\n",
              "  <script>\n",
              "    async function quickchart(key) {\n",
              "      const quickchartButtonEl =\n",
              "        document.querySelector('#' + key + ' button');\n",
              "      quickchartButtonEl.disabled = true;  // To prevent multiple clicks.\n",
              "      quickchartButtonEl.classList.add('colab-df-spinner');\n",
              "      try {\n",
              "        const charts = await google.colab.kernel.invokeFunction(\n",
              "            'suggestCharts', [key], {});\n",
              "      } catch (error) {\n",
              "        console.error('Error during call to suggestCharts:', error);\n",
              "      }\n",
              "      quickchartButtonEl.classList.remove('colab-df-spinner');\n",
              "      quickchartButtonEl.classList.add('colab-df-quickchart-complete');\n",
              "    }\n",
              "    (() => {\n",
              "      let quickchartButtonEl =\n",
              "        document.querySelector('#df-39faf880-f0a4-41d9-a628-675815d3ec40 button');\n",
              "      quickchartButtonEl.style.display =\n",
              "        google.colab.kernel.accessAllowed ? 'block' : 'none';\n",
              "    })();\n",
              "  </script>\n",
              "</div>\n",
              "\n",
              "    </div>\n",
              "  </div>\n"
            ],
            "application/vnd.google.colaboratory.intrinsic+json": {
              "type": "dataframe",
              "variable_name": "consumer_transactions",
              "summary": "{\n  \"name\": \"consumer_transactions\",\n  \"rows\": 72312,\n  \"fields\": [\n    {\n      \"column\": \"event_timestamp\",\n      \"properties\": {\n        \"dtype\": \"number\",\n        \"std\": 7258130,\n        \"min\": 1457963676,\n        \"max\": 1488309711,\n        \"num_unique_values\": 68772,\n        \"samples\": [\n          1478704125,\n          1463321913,\n          1464900899\n        ],\n        \"semantic_type\": \"\",\n        \"description\": \"\"\n      }\n    },\n    {\n      \"column\": \"interaction_type\",\n      \"properties\": {\n        \"dtype\": \"category\",\n        \"num_unique_values\": 5,\n        \"samples\": [\n          \"content_followed\",\n          \"content_commented_on\",\n          \"content_saved\"\n        ],\n        \"semantic_type\": \"\",\n        \"description\": \"\"\n      }\n    },\n    {\n      \"column\": \"item_id\",\n      \"properties\": {\n        \"dtype\": \"number\",\n        \"std\": 5344755029847088128,\n        \"min\": -9222795471790223670,\n        \"max\": 9222265156747237864,\n        \"num_unique_values\": 2987,\n        \"samples\": [\n          -8009994379436553252,\n          -5482295111885355605,\n          -4336355219396419841\n        ],\n        \"semantic_type\": \"\",\n        \"description\": \"\"\n      }\n    },\n    {\n      \"column\": \"consumer_id\",\n      \"properties\": {\n        \"dtype\": \"number\",\n        \"std\": 5022332594737562624,\n        \"min\": -9223121837663643404,\n        \"max\": 9210530975708218054,\n        \"num_unique_values\": 1895,\n        \"samples\": [\n          8667275116635296267,\n          2976142380064454474,\n          1498116869772772394\n        ],\n        \"semantic_type\": \"\",\n        \"description\": \"\"\n      }\n    },\n    {\n      \"column\": \"consumer_session_id\",\n      \"properties\": {\n        \"dtype\": \"category\",\n        \"num_unique_values\": 28741,\n        \"samples\": [\n          \"-2410085942652626410\",\n          \"-557983919270505279\",\n          \"852464915624205538\"\n        ],\n        \"semantic_type\": \"\",\n        \"description\": \"\"\n      }\n    },\n    {\n      \"column\": \"consumer_device_info\",\n      \"properties\": {\n        \"dtype\": \"category\",\n        \"num_unique_values\": 1090,\n        \"samples\": [\n          \"Mozilla/5.0 (Windows NT 6.1; Win64; x64) AppleWebKit/537.36 (KHTML, like Gecko) Chrome/54.0.2840.71 Safari/537.36\",\n          \"Mozilla/5.0 (Macintosh; Intel Mac OS X 10_11_6) AppleWebKit/537.36 (KHTML, like Gecko) Chrome/55.0.2883.95 Safari/537.36\",\n          \"Mozilla/5.0 (X11; CrOS x86_64 8872.73.0) AppleWebKit/537.36 (KHTML, like Gecko) Chrome/55.0.2883.103 Safari/537.36\"\n        ],\n        \"semantic_type\": \"\",\n        \"description\": \"\"\n      }\n    },\n    {\n      \"column\": \"consumer_location\",\n      \"properties\": {\n        \"dtype\": \"category\",\n        \"num_unique_values\": 71,\n        \"samples\": [\n          \"PR\",\n          \"NY\",\n          \"RS\"\n        ],\n        \"semantic_type\": \"\",\n        \"description\": \"\"\n      }\n    },\n    {\n      \"column\": \"country\",\n      \"properties\": {\n        \"dtype\": \"category\",\n        \"num_unique_values\": 23,\n        \"samples\": [\n          \"MY\",\n          \"IS\",\n          \"US\"\n        ],\n        \"semantic_type\": \"\",\n        \"description\": \"\"\n      }\n    },\n    {\n      \"column\": \"ratings\",\n      \"properties\": {\n        \"dtype\": \"number\",\n        \"std\": 0,\n        \"min\": 1,\n        \"max\": 5,\n        \"num_unique_values\": 5,\n        \"samples\": [\n          5,\n          4,\n          3\n        ],\n        \"semantic_type\": \"\",\n        \"description\": \"\"\n      }\n    }\n  ]\n}"
            }
          },
          "metadata": {},
          "execution_count": 167
        }
      ]
    },
    {
      "cell_type": "markdown",
      "source": [
        "# Merge datasets to create consumer interactions dataset"
      ],
      "metadata": {
        "id": "OcuacB79Jorb"
      }
    },
    {
      "cell_type": "code",
      "source": [
        "print(\"Unique item_id in consumer_transactions:\", consumer_transactions['item_id'].nunique())\n",
        "print(\"Unique item_id in platform_content:\", platform_content['item_id'].nunique())\n",
        "\n",
        "# Find the common item_ids\n",
        "common_items = set(consumer_transactions['item_id']).intersection(set(platform_content['item_id']))\n",
        "print(\"Number of common item_id:\", len(common_items))\n"
      ],
      "metadata": {
        "colab": {
          "base_uri": "https://localhost:8080/"
        },
        "id": "snLtRc47TxYY",
        "outputId": "d67f35f4-779b-4a47-abe2-6d2d4d5cff87"
      },
      "execution_count": 168,
      "outputs": [
        {
          "output_type": "stream",
          "name": "stdout",
          "text": [
            "Unique item_id in consumer_transactions: 2987\n",
            "Unique item_id in platform_content: 2218\n",
            "Number of common item_id: 2154\n"
          ]
        }
      ]
    },
    {
      "cell_type": "code",
      "source": [
        "consumer_interactions = consumer_transactions.merge(platform_content[['item_id', 'title', 'text_description', 'language']], on='item_id', how='inner')\n",
        "\n",
        "# Now, filter only English articles\n",
        "# consumer_interactions = consumer_interactions[consumer_interactions['language'] == 'English']"
      ],
      "metadata": {
        "id": "axKVNGnTSjQp"
      },
      "execution_count": 169,
      "outputs": []
    },
    {
      "cell_type": "markdown",
      "source": [],
      "metadata": {
        "id": "JeLmVkC0TP4X"
      }
    },
    {
      "cell_type": "code",
      "source": [
        "consumer_interactions.head()"
      ],
      "metadata": {
        "colab": {
          "base_uri": "https://localhost:8080/",
          "height": 573
        },
        "id": "UiKLBlRxPBwQ",
        "outputId": "db03caa1-981e-4f26-acfc-ca9bb60f5e50"
      },
      "execution_count": 170,
      "outputs": [
        {
          "output_type": "execute_result",
          "data": {
            "text/plain": [
              "   event_timestamp interaction_type              item_id          consumer_id  \\\n",
              "0       1465413032  content_watched -3499919498720038879 -8845298781299428018   \n",
              "1       1465412560  content_watched  8890720798209849691 -1032019229384696495   \n",
              "2       1465412290  content_watched -7820640624231356730  -445337111692715325   \n",
              "3       1465415066  content_watched -1492913151930215984  4254153380739593270   \n",
              "4       1465413771  content_watched  3064370296170038610  3609194402293569455   \n",
              "\n",
              "    consumer_session_id                               consumer_device_info  \\\n",
              "0   1264196770339959068                                                NaN   \n",
              "1   3621737643587579081  Mozilla/5.0 (Macintosh; Intel Mac OS X 10_11_2...   \n",
              "2  561148 1178424124714                                                NaN   \n",
              "3   8743229464706506141  Mozilla/5.0 (X11; Linux x86_64) AppleWebKit/53...   \n",
              "4   1143207167886864524                                                NaN   \n",
              "\n",
              "  consumer_location country  ratings  \\\n",
              "0               NaN     NaN        1   \n",
              "1                NY      US        1   \n",
              "2               NaN     NaN        1   \n",
              "3                SP      BR        1   \n",
              "4               NaN     NaN        1   \n",
              "\n",
              "                                               title  \\\n",
              "0      Hiri wants to fix the workplace email problem   \n",
              "1                     Top 10 Intranet Trends of 2016   \n",
              "2           How This Googler Redesigned The Workweek   \n",
              "3            Chrome DevTools - Console API Reference   \n",
              "4  Google, Amazon and the upcoming battle over AI...   \n",
              "\n",
              "                                    text_description language  \n",
              "0  Hiri is the latest startup trying to fix email...       en  \n",
              "1  Summary: Hero images, carousels, fat footers, ...       en  \n",
              "2  Jake Knapp has always been concerned about the...       en  \n",
              "3  The DevTools docs have moved! Read the latest ...       en  \n",
              "4  The stage is set for the coming battle between...       en  "
            ],
            "text/html": [
              "\n",
              "  <div id=\"df-ea959b88-4e57-4a62-bbc3-22f7881cffc7\" class=\"colab-df-container\">\n",
              "    <div>\n",
              "<style scoped>\n",
              "    .dataframe tbody tr th:only-of-type {\n",
              "        vertical-align: middle;\n",
              "    }\n",
              "\n",
              "    .dataframe tbody tr th {\n",
              "        vertical-align: top;\n",
              "    }\n",
              "\n",
              "    .dataframe thead th {\n",
              "        text-align: right;\n",
              "    }\n",
              "</style>\n",
              "<table border=\"1\" class=\"dataframe\">\n",
              "  <thead>\n",
              "    <tr style=\"text-align: right;\">\n",
              "      <th></th>\n",
              "      <th>event_timestamp</th>\n",
              "      <th>interaction_type</th>\n",
              "      <th>item_id</th>\n",
              "      <th>consumer_id</th>\n",
              "      <th>consumer_session_id</th>\n",
              "      <th>consumer_device_info</th>\n",
              "      <th>consumer_location</th>\n",
              "      <th>country</th>\n",
              "      <th>ratings</th>\n",
              "      <th>title</th>\n",
              "      <th>text_description</th>\n",
              "      <th>language</th>\n",
              "    </tr>\n",
              "  </thead>\n",
              "  <tbody>\n",
              "    <tr>\n",
              "      <th>0</th>\n",
              "      <td>1465413032</td>\n",
              "      <td>content_watched</td>\n",
              "      <td>-3499919498720038879</td>\n",
              "      <td>-8845298781299428018</td>\n",
              "      <td>1264196770339959068</td>\n",
              "      <td>NaN</td>\n",
              "      <td>NaN</td>\n",
              "      <td>NaN</td>\n",
              "      <td>1</td>\n",
              "      <td>Hiri wants to fix the workplace email problem</td>\n",
              "      <td>Hiri is the latest startup trying to fix email...</td>\n",
              "      <td>en</td>\n",
              "    </tr>\n",
              "    <tr>\n",
              "      <th>1</th>\n",
              "      <td>1465412560</td>\n",
              "      <td>content_watched</td>\n",
              "      <td>8890720798209849691</td>\n",
              "      <td>-1032019229384696495</td>\n",
              "      <td>3621737643587579081</td>\n",
              "      <td>Mozilla/5.0 (Macintosh; Intel Mac OS X 10_11_2...</td>\n",
              "      <td>NY</td>\n",
              "      <td>US</td>\n",
              "      <td>1</td>\n",
              "      <td>Top 10 Intranet Trends of 2016</td>\n",
              "      <td>Summary: Hero images, carousels, fat footers, ...</td>\n",
              "      <td>en</td>\n",
              "    </tr>\n",
              "    <tr>\n",
              "      <th>2</th>\n",
              "      <td>1465412290</td>\n",
              "      <td>content_watched</td>\n",
              "      <td>-7820640624231356730</td>\n",
              "      <td>-445337111692715325</td>\n",
              "      <td>561148 1178424124714</td>\n",
              "      <td>NaN</td>\n",
              "      <td>NaN</td>\n",
              "      <td>NaN</td>\n",
              "      <td>1</td>\n",
              "      <td>How This Googler Redesigned The Workweek</td>\n",
              "      <td>Jake Knapp has always been concerned about the...</td>\n",
              "      <td>en</td>\n",
              "    </tr>\n",
              "    <tr>\n",
              "      <th>3</th>\n",
              "      <td>1465415066</td>\n",
              "      <td>content_watched</td>\n",
              "      <td>-1492913151930215984</td>\n",
              "      <td>4254153380739593270</td>\n",
              "      <td>8743229464706506141</td>\n",
              "      <td>Mozilla/5.0 (X11; Linux x86_64) AppleWebKit/53...</td>\n",
              "      <td>SP</td>\n",
              "      <td>BR</td>\n",
              "      <td>1</td>\n",
              "      <td>Chrome DevTools - Console API Reference</td>\n",
              "      <td>The DevTools docs have moved! Read the latest ...</td>\n",
              "      <td>en</td>\n",
              "    </tr>\n",
              "    <tr>\n",
              "      <th>4</th>\n",
              "      <td>1465413771</td>\n",
              "      <td>content_watched</td>\n",
              "      <td>3064370296170038610</td>\n",
              "      <td>3609194402293569455</td>\n",
              "      <td>1143207167886864524</td>\n",
              "      <td>NaN</td>\n",
              "      <td>NaN</td>\n",
              "      <td>NaN</td>\n",
              "      <td>1</td>\n",
              "      <td>Google, Amazon and the upcoming battle over AI...</td>\n",
              "      <td>The stage is set for the coming battle between...</td>\n",
              "      <td>en</td>\n",
              "    </tr>\n",
              "  </tbody>\n",
              "</table>\n",
              "</div>\n",
              "    <div class=\"colab-df-buttons\">\n",
              "\n",
              "  <div class=\"colab-df-container\">\n",
              "    <button class=\"colab-df-convert\" onclick=\"convertToInteractive('df-ea959b88-4e57-4a62-bbc3-22f7881cffc7')\"\n",
              "            title=\"Convert this dataframe to an interactive table.\"\n",
              "            style=\"display:none;\">\n",
              "\n",
              "  <svg xmlns=\"http://www.w3.org/2000/svg\" height=\"24px\" viewBox=\"0 -960 960 960\">\n",
              "    <path d=\"M120-120v-720h720v720H120Zm60-500h600v-160H180v160Zm220 220h160v-160H400v160Zm0 220h160v-160H400v160ZM180-400h160v-160H180v160Zm440 0h160v-160H620v160ZM180-180h160v-160H180v160Zm440 0h160v-160H620v160Z\"/>\n",
              "  </svg>\n",
              "    </button>\n",
              "\n",
              "  <style>\n",
              "    .colab-df-container {\n",
              "      display:flex;\n",
              "      gap: 12px;\n",
              "    }\n",
              "\n",
              "    .colab-df-convert {\n",
              "      background-color: #E8F0FE;\n",
              "      border: none;\n",
              "      border-radius: 50%;\n",
              "      cursor: pointer;\n",
              "      display: none;\n",
              "      fill: #1967D2;\n",
              "      height: 32px;\n",
              "      padding: 0 0 0 0;\n",
              "      width: 32px;\n",
              "    }\n",
              "\n",
              "    .colab-df-convert:hover {\n",
              "      background-color: #E2EBFA;\n",
              "      box-shadow: 0px 1px 2px rgba(60, 64, 67, 0.3), 0px 1px 3px 1px rgba(60, 64, 67, 0.15);\n",
              "      fill: #174EA6;\n",
              "    }\n",
              "\n",
              "    .colab-df-buttons div {\n",
              "      margin-bottom: 4px;\n",
              "    }\n",
              "\n",
              "    [theme=dark] .colab-df-convert {\n",
              "      background-color: #3B4455;\n",
              "      fill: #D2E3FC;\n",
              "    }\n",
              "\n",
              "    [theme=dark] .colab-df-convert:hover {\n",
              "      background-color: #434B5C;\n",
              "      box-shadow: 0px 1px 3px 1px rgba(0, 0, 0, 0.15);\n",
              "      filter: drop-shadow(0px 1px 2px rgba(0, 0, 0, 0.3));\n",
              "      fill: #FFFFFF;\n",
              "    }\n",
              "  </style>\n",
              "\n",
              "    <script>\n",
              "      const buttonEl =\n",
              "        document.querySelector('#df-ea959b88-4e57-4a62-bbc3-22f7881cffc7 button.colab-df-convert');\n",
              "      buttonEl.style.display =\n",
              "        google.colab.kernel.accessAllowed ? 'block' : 'none';\n",
              "\n",
              "      async function convertToInteractive(key) {\n",
              "        const element = document.querySelector('#df-ea959b88-4e57-4a62-bbc3-22f7881cffc7');\n",
              "        const dataTable =\n",
              "          await google.colab.kernel.invokeFunction('convertToInteractive',\n",
              "                                                    [key], {});\n",
              "        if (!dataTable) return;\n",
              "\n",
              "        const docLinkHtml = 'Like what you see? Visit the ' +\n",
              "          '<a target=\"_blank\" href=https://colab.research.google.com/notebooks/data_table.ipynb>data table notebook</a>'\n",
              "          + ' to learn more about interactive tables.';\n",
              "        element.innerHTML = '';\n",
              "        dataTable['output_type'] = 'display_data';\n",
              "        await google.colab.output.renderOutput(dataTable, element);\n",
              "        const docLink = document.createElement('div');\n",
              "        docLink.innerHTML = docLinkHtml;\n",
              "        element.appendChild(docLink);\n",
              "      }\n",
              "    </script>\n",
              "  </div>\n",
              "\n",
              "\n",
              "<div id=\"df-f8a22f42-afe1-4b1d-93fe-1f77126241da\">\n",
              "  <button class=\"colab-df-quickchart\" onclick=\"quickchart('df-f8a22f42-afe1-4b1d-93fe-1f77126241da')\"\n",
              "            title=\"Suggest charts\"\n",
              "            style=\"display:none;\">\n",
              "\n",
              "<svg xmlns=\"http://www.w3.org/2000/svg\" height=\"24px\"viewBox=\"0 0 24 24\"\n",
              "     width=\"24px\">\n",
              "    <g>\n",
              "        <path d=\"M19 3H5c-1.1 0-2 .9-2 2v14c0 1.1.9 2 2 2h14c1.1 0 2-.9 2-2V5c0-1.1-.9-2-2-2zM9 17H7v-7h2v7zm4 0h-2V7h2v10zm4 0h-2v-4h2v4z\"/>\n",
              "    </g>\n",
              "</svg>\n",
              "  </button>\n",
              "\n",
              "<style>\n",
              "  .colab-df-quickchart {\n",
              "      --bg-color: #E8F0FE;\n",
              "      --fill-color: #1967D2;\n",
              "      --hover-bg-color: #E2EBFA;\n",
              "      --hover-fill-color: #174EA6;\n",
              "      --disabled-fill-color: #AAA;\n",
              "      --disabled-bg-color: #DDD;\n",
              "  }\n",
              "\n",
              "  [theme=dark] .colab-df-quickchart {\n",
              "      --bg-color: #3B4455;\n",
              "      --fill-color: #D2E3FC;\n",
              "      --hover-bg-color: #434B5C;\n",
              "      --hover-fill-color: #FFFFFF;\n",
              "      --disabled-bg-color: #3B4455;\n",
              "      --disabled-fill-color: #666;\n",
              "  }\n",
              "\n",
              "  .colab-df-quickchart {\n",
              "    background-color: var(--bg-color);\n",
              "    border: none;\n",
              "    border-radius: 50%;\n",
              "    cursor: pointer;\n",
              "    display: none;\n",
              "    fill: var(--fill-color);\n",
              "    height: 32px;\n",
              "    padding: 0;\n",
              "    width: 32px;\n",
              "  }\n",
              "\n",
              "  .colab-df-quickchart:hover {\n",
              "    background-color: var(--hover-bg-color);\n",
              "    box-shadow: 0 1px 2px rgba(60, 64, 67, 0.3), 0 1px 3px 1px rgba(60, 64, 67, 0.15);\n",
              "    fill: var(--button-hover-fill-color);\n",
              "  }\n",
              "\n",
              "  .colab-df-quickchart-complete:disabled,\n",
              "  .colab-df-quickchart-complete:disabled:hover {\n",
              "    background-color: var(--disabled-bg-color);\n",
              "    fill: var(--disabled-fill-color);\n",
              "    box-shadow: none;\n",
              "  }\n",
              "\n",
              "  .colab-df-spinner {\n",
              "    border: 2px solid var(--fill-color);\n",
              "    border-color: transparent;\n",
              "    border-bottom-color: var(--fill-color);\n",
              "    animation:\n",
              "      spin 1s steps(1) infinite;\n",
              "  }\n",
              "\n",
              "  @keyframes spin {\n",
              "    0% {\n",
              "      border-color: transparent;\n",
              "      border-bottom-color: var(--fill-color);\n",
              "      border-left-color: var(--fill-color);\n",
              "    }\n",
              "    20% {\n",
              "      border-color: transparent;\n",
              "      border-left-color: var(--fill-color);\n",
              "      border-top-color: var(--fill-color);\n",
              "    }\n",
              "    30% {\n",
              "      border-color: transparent;\n",
              "      border-left-color: var(--fill-color);\n",
              "      border-top-color: var(--fill-color);\n",
              "      border-right-color: var(--fill-color);\n",
              "    }\n",
              "    40% {\n",
              "      border-color: transparent;\n",
              "      border-right-color: var(--fill-color);\n",
              "      border-top-color: var(--fill-color);\n",
              "    }\n",
              "    60% {\n",
              "      border-color: transparent;\n",
              "      border-right-color: var(--fill-color);\n",
              "    }\n",
              "    80% {\n",
              "      border-color: transparent;\n",
              "      border-right-color: var(--fill-color);\n",
              "      border-bottom-color: var(--fill-color);\n",
              "    }\n",
              "    90% {\n",
              "      border-color: transparent;\n",
              "      border-bottom-color: var(--fill-color);\n",
              "    }\n",
              "  }\n",
              "</style>\n",
              "\n",
              "  <script>\n",
              "    async function quickchart(key) {\n",
              "      const quickchartButtonEl =\n",
              "        document.querySelector('#' + key + ' button');\n",
              "      quickchartButtonEl.disabled = true;  // To prevent multiple clicks.\n",
              "      quickchartButtonEl.classList.add('colab-df-spinner');\n",
              "      try {\n",
              "        const charts = await google.colab.kernel.invokeFunction(\n",
              "            'suggestCharts', [key], {});\n",
              "      } catch (error) {\n",
              "        console.error('Error during call to suggestCharts:', error);\n",
              "      }\n",
              "      quickchartButtonEl.classList.remove('colab-df-spinner');\n",
              "      quickchartButtonEl.classList.add('colab-df-quickchart-complete');\n",
              "    }\n",
              "    (() => {\n",
              "      let quickchartButtonEl =\n",
              "        document.querySelector('#df-f8a22f42-afe1-4b1d-93fe-1f77126241da button');\n",
              "      quickchartButtonEl.style.display =\n",
              "        google.colab.kernel.accessAllowed ? 'block' : 'none';\n",
              "    })();\n",
              "  </script>\n",
              "</div>\n",
              "\n",
              "    </div>\n",
              "  </div>\n"
            ],
            "application/vnd.google.colaboratory.intrinsic+json": {
              "type": "dataframe",
              "variable_name": "consumer_interactions",
              "summary": "{\n  \"name\": \"consumer_interactions\",\n  \"rows\": 47262,\n  \"fields\": [\n    {\n      \"column\": \"event_timestamp\",\n      \"properties\": {\n        \"dtype\": \"number\",\n        \"std\": 7302903,\n        \"min\": 1457963676,\n        \"max\": 1488309711,\n        \"num_unique_values\": 44807,\n        \"samples\": [\n          1470771340,\n          1464881608,\n          1468349674\n        ],\n        \"semantic_type\": \"\",\n        \"description\": \"\"\n      }\n    },\n    {\n      \"column\": \"interaction_type\",\n      \"properties\": {\n        \"dtype\": \"category\",\n        \"num_unique_values\": 5,\n        \"samples\": [\n          \"content_liked\",\n          \"content_saved\",\n          \"content_commented_on\"\n        ],\n        \"semantic_type\": \"\",\n        \"description\": \"\"\n      }\n    },\n    {\n      \"column\": \"item_id\",\n      \"properties\": {\n        \"dtype\": \"number\",\n        \"std\": 5374425497570454528,\n        \"min\": -9192549002213406534,\n        \"max\": 9222265156747237864,\n        \"num_unique_values\": 2154,\n        \"samples\": [\n          444378495316508239,\n          1328618437884612347,\n          3076823183761975019\n        ],\n        \"semantic_type\": \"\",\n        \"description\": \"\"\n      }\n    },\n    {\n      \"column\": \"consumer_id\",\n      \"properties\": {\n        \"dtype\": \"number\",\n        \"std\": 4928124258342009856,\n        \"min\": -9223121837663643404,\n        \"max\": 9210530975708218054,\n        \"num_unique_values\": 1644,\n        \"samples\": [\n          -331066625167168067,\n          -1684566741313744330,\n          -7710821129340169657\n        ],\n        \"semantic_type\": \"\",\n        \"description\": \"\"\n      }\n    },\n    {\n      \"column\": \"consumer_session_id\",\n      \"properties\": {\n        \"dtype\": \"category\",\n        \"num_unique_values\": 19216,\n        \"samples\": [\n          \"-4123683859243299449\",\n          \"-1834910114219729191\",\n          \"6023194563722716771\"\n        ],\n        \"semantic_type\": \"\",\n        \"description\": \"\"\n      }\n    },\n    {\n      \"column\": \"consumer_device_info\",\n      \"properties\": {\n        \"dtype\": \"category\",\n        \"num_unique_values\": 918,\n        \"samples\": [\n          \"Mozilla/5.0 (Windows NT 10.0; Win64; x64; rv:48.0) Gecko/20100101 Firefox/48.0.2 Waterfox/48.0.2\",\n          \"Mozilla/5.0 (Macintosh; Intel Mac OS X 10_11_3) AppleWebKit/537.36 (KHTML, like Gecko) Chrome/50.0.2661.102 Safari/537.36\",\n          \"Mozilla/5.0 (Macintosh; Intel Mac OS X 10_11_5) AppleWebKit/537.36 (KHTML, like Gecko) Chrome/53.0.2767.0 Safari/537.36\"\n        ],\n        \"semantic_type\": \"\",\n        \"description\": \"\"\n      }\n    },\n    {\n      \"column\": \"consumer_location\",\n      \"properties\": {\n        \"dtype\": \"category\",\n        \"num_unique_values\": 69,\n        \"samples\": [\n          \"PR\",\n          \"NY\",\n          \"MN\"\n        ],\n        \"semantic_type\": \"\",\n        \"description\": \"\"\n      }\n    },\n    {\n      \"column\": \"country\",\n      \"properties\": {\n        \"dtype\": \"category\",\n        \"num_unique_values\": 22,\n        \"samples\": [\n          \"US\",\n          \"CN\",\n          \"CA\"\n        ],\n        \"semantic_type\": \"\",\n        \"description\": \"\"\n      }\n    },\n    {\n      \"column\": \"ratings\",\n      \"properties\": {\n        \"dtype\": \"number\",\n        \"std\": 0,\n        \"min\": 1,\n        \"max\": 5,\n        \"num_unique_values\": 5,\n        \"samples\": [\n          2,\n          3,\n          4\n        ],\n        \"semantic_type\": \"\",\n        \"description\": \"\"\n      }\n    },\n    {\n      \"column\": \"title\",\n      \"properties\": {\n        \"dtype\": \"category\",\n        \"num_unique_values\": 2118,\n        \"samples\": [\n          \"Practical VPC Design - AWS Startup Collection\",\n          \"10 Simple Habits of Insanely Productive People\",\n          \"German insurance startup Clark closes \\u20ac13.2M Series A\"\n        ],\n        \"semantic_type\": \"\",\n        \"description\": \"\"\n      }\n    },\n    {\n      \"column\": \"text_description\",\n      \"properties\": {\n        \"dtype\": \"category\",\n        \"num_unique_values\": 2125,\n        \"samples\": [\n          \"If you've ever clicked on an inspirational video link before, you've probably seen a TED Talk . They promise lofty ideas and profound truths, and yes, sometimes they do live up to the hype. But sometimes, well, they don't. That's what this brilliant parody of the speech series focuses on, delivering a blistering takedown of some of the most common onstage methods used to convince the audience that they are witnessing one of the most important speeches they've ever seen. And while it is pretty hilarious, the scary part is that even while the parody talks about nothing, the presentation's tricks and devices manage to give the empty speech the air of, dare we say, importance. And for that reason this might be the best (fake) TED Talk we've ever seen. If you're ever invited to give a TED Talk, you now have the perfect cheat sheet for success.\",\n          \"2016 was a busy year for the world of Mobile Growth Marketing. The mobile ecosystem keeps evolving, as does the definition of a 'mobile product'. Furthermore, growth teams and founders of mobile businesses continue to develop new strategies and tactics and explore new channels in an effort to stay ahead of the curve when it comes to acquiring, retaining and monetizing users. 2016 was also a busy year for Phiture , the mobile growth consultancy that Moritz Daan and I co-founded. We now work with companies all around the world, helping them apply the mobile growth stack and take a strategic approach to growth. At the end of 2016, I had the pleasure to present at Growth Stack SF , a growth conference in San Francisco. I presented a sneak peek to the 2017 Mobile Growth Stack: a revised and updated version which of the framework that incorporates the major developments and trends for mobile growth since the previous update was published. Here is the Mobile Growth Stack 2017 : What is the Mobile Growth Stack? For those who aren't familiar with the Mobile Growth Stack, it's a sort of 'mobile cheat sheet'... a one-page chart / diagram that helps growth practitioners think more holistically and strategically. The framework organizes the levers for growth by the key funnel stages (acquisition, engagement & retention and monetization), helping growth practitioners consider everything they could do to drive growth of their mobile product at each stage, which in turn helps define focus areas and build a coherent strategy. For an in-depth guide to every element of the stack, check out this link at MobileGrowthStack.com . For a guide on how to use the framework to develop a holistic mobile growth strategy, check out the Applying the Stack page. This year's update includes a brand new layer: 'tech', which encourages consideration of enabling technology choices. The 'analytics & insights' layer has been simplified slightly, with a few of the elements being combined, or removed. The acquisition layer now includes influencer marketing , a newly-added activity. The stack now acknowledges the dual benefits conferred by Virality and Context Indexing, by extending them to cover both the acquisition and engagement & retention layers. The engagement & retention layer now has 'Product' at it's core, to clarify that an engaging product is absolutely core to any kind of longer term retention and a pre-requisite to growth marketing efforts in this layer. Finally, a number of new channels have been added to make this part of the stack more complete and to incorporate new developments. Changes this year are highlighted in GREEN below: Influencer Marketing as a new activity in the Acquisition Layer The term 'influencer marketing', in its broadest sense, covers a broad range of activities that involve working with influential individuals or groups to obtain brand or product advocacy or endorsement from them. This concept is far from new: tobacco companies have been influencing us via movie stars for generations, commercial sponsorship of sporting personalities is taken for granted, and so on. Working with influencers has traditionally been hard to measure, time-consuming and potentially expensive, but often nonetheless effective. The emergence of performance-centric influencer platforms (such as discovry.io ), connecting advertisers with a new generation of independent influencers - bloggers, YouTube stars, Instagrammers, Snapchatters, etc. - has democratized a space once dominated by big brands and celebrity agents. It's now possible to scale influencer marketing to groups of influencers that individually have a smaller reach - albeit among loyal audiences interested in potentially niche topics - than the superstars with tens of millions of followers. Embeddable tracking links and real-time reporting of impressions and clicks have, at the same time, enabled marketers to be more data-driven with their influencer marketing spend; they can calculate conversion rates, cost-per-install (CPI) and other performance metrics. Increasingly, influencer marketing is becoming a performance marketing activity that augments or replaces traditional mobile app install campaigns, evaluated against Facebook and DSPs on the same terms. In many cases, these developments have shifted influencer marketing from being a brand marketing activity to a measurable growth tactic. Virality and Content Indexing for Engagement & Retention Integrations that enable sharing of app-based content to third party services such as messaging platforms and social networks can be great drivers of viral acquisition. Additionally, as the product grows, and the proportion of the audience exposed to these shares that also has the app installed increases, viral content shares contribute increasingly to app re-entries from existing users. Virality can therefore be considered an important re-engagement lever as the product gains market share. In exactly the same way, Content Indexing - depending on the precise implementation by Google, Apple or other 3rd parties - offers routes into the app for existing users in addition to acquisition of new users, in both cases via the discovery of additional content through search. Therefore, Content Indexing has been added to the engagement & retention layer in addition to the acquisition layer. Conversion Optimization as a new vertical layer Conversion (Rate) Optimization (aka CRO) is an activity that forms the basis of the majority of data-driven growth efforts. In the stack, the term 'conversion optimization' is used broadly to refer to efforts to increase rates of conversion between one state to another, as opposed to specifically referring to purchase or subscription events. So prevalent is the topic of conversion rate optimization that it has been given its own vertical layer of the stack, since this activity can be applied to many activities across the three main layers. In the acquisition layer, conversion optimization forms an important part of App Store Optimization (optimizing conversion from app store listing impression to install), Performance Marketing (ad impression to click, or click to install), and Cross-Selling efforts between products and platforms. In engagement & retention, conversion optimization efforts center on moving people between non-engaged or low-engaged to higher states of engagement via numerous means. Conversion optimization is a core activity in lifecycle marketing, where email, push and in-app campaigns are relentlessly optimized for higher open and click rates, as well as improvements in downstream engagement metrics. Product and marketing efforts around activation often aim to convert users from having not performed an activity in the app (e.g. used a feature) to having done so (or done so more often than before), often within a specific conversion measurement window such as the first few days of their lifetime. In the Monetization layer, optimizing for conversion to a purchase, subscription, incentivized video view, or ad-unit click, are key to increasing profitability and CRO is hence at the core of monetization initiatives. Product at the core of the Engagement & Retention Layer Growth as a discipline sits at the intersection of product (including design), marketing and data science. Earlier versions of the Mobile Growth Stack may have given the impression that engagement and retention are primarily functions of growth marketing; this is manifestly not the case. Retention stems from an engaging product experience and no amount of activity notifications, lifecycle marketing or community engagement initiatives will keep users using a badly-designed product that they do not find engaging. Product is now explicitly placed at the core of the engagement & retention layer to reflect this. 'Activation' instead of First Time User Experience The specific definition of activation is product-specific, and may evolve over time as a deeper understanding of user behavior is gathered and the drivers of longer-term engagement are established more definitively through hypothesis testing. However activation is defined in a specific product, it's a key growth objective to activate users swiftly in order that they experience the core product value quickly and begin their path to higher and prolonged engagement. This is all a fancy way of saying that users need to find the product engaging early on in order to keep using it. Whilst this, too, is ultimately a function of core product, activation rates will typically benefit from focused effort from both product and marketing sides to assist users on their journey towards their 'aha moment'. In the previous version of the stack, this cell was called 'First Time User Experience', which seems slightly less all-encompassing than activation, which is a well-understood term in the industry. New and Expanded Channels: Search expanded to include paid App Store Search Search as a channel covers organic and promoted app discovery via search engines and app store searches. This could be via targeting specific keywords, or through indexing in-app content that appears in search results. The channel description in the stack has been updated to reflect paid search opportunities on both Android and iOS platforms and in particular Apple's , which began rollout in 2016. The meteoric rise in messenger platforms such as Facebook Messenger, WhatsApp, SnapChat, Line, WeChat, etc. has led many to speculate that messaging the new platform, relegating all other networks and apps to also-rans in the race for smartphone users' attention. Source: Despite the competitive threat posed by messaging apps themselves to all other apps, they also provide opportunities for apps to reach new and existing users through content sharing, direct messaging (if they provide an API that allows apps to do this) and invites/referrals. Each network is different, with some permitting external links, chatbots and API integrations and others not. In addition to product-level integrations, some platforms (e.g. SnapChat) lend themselves to more traditional marketing activities where awareness and acquisition can be achieved by building an audience through content and/or performance marketing. Each platform is different; some messaging platforms lean toward group messaging and one-to-many broadcasts while others are predominantly used for person-to-person interactions. Consideration of the dynamics of the chat platform - as well as the messaging habits of the target audience - will help the savvy growth practitioner to prioritize and tailor efforts toward the networks and integrations or marketing efforts most likely to reach and resonate with their ideal users. Closely related to the topic of messaging platforms is that of chatbots. Chatbots, AI, NLP, digital assistants and conversational interfaces are increasing in prominence and - despite the immaturity of many current experiences - will play an increasingly disruptive role in the way users interact with many platforms and products in many categories. Chatbots are included in the 2017 Mobile Growth Stack as a channel, although developments over the coming year may modify or clarify this somewhat clumsy classification. The fact is that nobody knows exactly what the future of 'chatbots' (itself a vague definition) will bring, or how exactly bots will merge with the current distribution and value chain for mobile products. It's not too much of a stretch, however, to suggest that chatbots currently present opportunities for integration with - and promotion of - mobile products, as well as presenting another potential touch-point with existing users. The 2017 edition of the stack adds mobile Demand Side Platforms (DSPs) and Supply Side Platforms (SSPs) as channels in their own right, belatedly acknowledging the rise of programmatic advertising. DSPs allow advertisers to buy ad impressions across a range of 3rd party apps or sites, often providing access to multiple ad exchanges, often providing sophisticated targeting criteria and a broad range of options for ad placement. As such, DSPs are an increasingly important part of the performance marketing mix for some companies. Supply Side Platforms (SSPs) are the publisher-side equivalent: facilitating finer control of monetization via ad inventory inside the product by allowing programmatic buying of ad placement within the app. Streaming apps and games offer users the chance to experience some or all of the product without ever downloading it as a classic native app from the store. Typically facilitated via HTML5 and with the potential to be distributed over some messaging platforms, app streaming can present a real alternative to traditional distribution and hence is an interesting emergent channel. It remains to be seen to what extent streaming apps will replace traditional app store distribution versus augmenting it, growing overall reach and becoming another touchpoint with the user that coexists alongside native apps. With Google rolling out streaming apps and Facebook ramping up with Instant Games in it's Messenger platform as well as in the News Feed, app streaming is really coming of age in 2017. Some apps can now be streamed directly from Google Search results via the \\\"Try Now\\\" button Enabling Tech gets its own layer The aim was, wherever possible, to simplify the stack in 2017, although not at the expense of clarity. While several simplifications were indeed made, they have been cancelled out in one fell swoop by the addition of a whole new layer: the tech layer. Deep Linking has been moved here, from the Engagement & Retention layer, since Deep Linking is not an activity or growth driver in and of itself, but is a foundational technology piece that needs to be in place in order to do more interesting and impactful things like content indexing or contextual on-boarding. There are some key choices to be made when it comes to selecting a vendor for (or possibly even building your own) key enabling technology such as marketing automation, analytics, etc. The tech layer is not attempting to provide an exhaustive list of every category in the vendor space ( MParticle's Periodic Table does a great job of this already), but does aim to cover the most critical and significant tech choices for mobile app growth. Feedback and suggestions from the community is incredibly valuable in refining the mobile growth stack. If you have thoughts or opinions about this year's updates to the mobile growth stack, or feel that something has been left out, please leave us a note in the comments section.\",\n          \"We have been using Kotlin in the DripStat backend since Kotlin's 1.0 release using the Kotlin Intellij plugin. Here is a summary of our experiences as of Kotlin 1.0.3. The Good At the language level, Kotlin seems to be excellent. 1 - Seamless Java interop Kotlin nails the Java interop at the language level. It is completely seamless. This was the reason why we were comfortable introducing Kotlin in our codebase in the first place. 2 - Less verbosity Kotlin code is much less verbose than Java code. This makes it more pleasing to both read and write. 3 - Null checks Kotlin enforces null checks at the language level. When you interact with Java code, it even extends that to the runtime level. This has resulted in catching some bugs pretty early and also more robust code. What can be improved 1 - Lack of parallelStream() Kotlin's collection api have no equivalent to Java's parallelStream() . This is dearly missed. 2 - Cannot subclass Data classes This is something that we feel the need for more and more as our codebase grows. It seems to be planned for Kotlin 1.1 but doesnt exist as of today. 3 - Type inference on method return values While type inference everywhere else results in more concise code, on method return values, it results in an actual loss of information . You cannot tell the type of the variable unless you look at the called method's signature, and the IDE plugin currently doesn't show the type. While Kotlin does allow specifying the variable type, it results in much more verbosity than Java. Whats Broken We have found that the Intellij plugin for Kotlin is extremely buggy and very far behind Java. 1 - Editor crashes This is such a huge issue since 1.0.3 that we cannot write any more Kotlin code. The editor frequently stops doing syntax highlighting, code completion etc. The only remedy when this happens is to restart the entire IDE. 2 - Inaccurate Call Hierarchy view The Call Hierarchy view frequently doesn't show all calls to a method if that method is used across both Java and Kotlin. This is an extremely serious bug. Entire technical decisions can be based on whether a piece of code is used in a certain location. The fact that the Call Hierarchy view shows incomplete information has a huge impact. 3 - Flaky gradle integration The Kotlin Gradle integration has been pretty flaky in the past. It almost feels like every new release of either Gradle or Kotlin breaks it. We are almost afraid of upgrading either due to this. 4 - Cant see inferred variable type For a language that uses type inference so heavily, you would expect the IDE to have top-notch support for showing the type of variables. However, this is broken in the Kotlin Intellij plugin. It is also surprising that Intellij forces you to press a keyboard shortcut each time to bring this up, instead of showing the variable type constantly in a fixed location like the status bar. 5 - Refactorings While it does have very basic move class, rename class, rename method refactorings, the vast majority of refactorings from Java are simply not present. Even the rename refactoring is extremely limited. 6 - No Postfix completion, Duplicate Detection Postfix completion and Duplicate detection come to mind as some of the many features we have come to rely on and frequently use in the Java editor, that are simply not present. Conclusion Kotlin seemed to promise a better Java, without compromises. It does achieve that at the language level. However, a big part of using Java is Jetbrains' own excellent Java tooling. Here the Kotlin plugin has a lot of work to do to catch up with what Jetbrains has built over 15 years for Java.\"\n        ],\n        \"semantic_type\": \"\",\n        \"description\": \"\"\n      }\n    },\n    {\n      \"column\": \"language\",\n      \"properties\": {\n        \"dtype\": \"category\",\n        \"num_unique_values\": 1,\n        \"samples\": [\n          \"en\"\n        ],\n        \"semantic_type\": \"\",\n        \"description\": \"\"\n      }\n    }\n  ]\n}"
            }
          },
          "metadata": {},
          "execution_count": 170
        }
      ]
    },
    {
      "cell_type": "markdown",
      "source": [
        "# Exploratory Data Analysis"
      ],
      "metadata": {
        "id": "YWIylFaKPumh"
      }
    },
    {
      "cell_type": "code",
      "source": [
        "print(\"Dataset Overview:\")\n",
        "print(consumer_transactions.info())\n",
        "print(platform_content.info())"
      ],
      "metadata": {
        "colab": {
          "base_uri": "https://localhost:8080/"
        },
        "id": "1X5KJr_TQLw2",
        "outputId": "73bc7967-4eac-4432-f072-1c69dd750eeb"
      },
      "execution_count": 171,
      "outputs": [
        {
          "output_type": "stream",
          "name": "stdout",
          "text": [
            "Dataset Overview:\n",
            "<class 'pandas.core.frame.DataFrame'>\n",
            "RangeIndex: 72312 entries, 0 to 72311\n",
            "Data columns (total 9 columns):\n",
            " #   Column                Non-Null Count  Dtype \n",
            "---  ------                --------------  ----- \n",
            " 0   event_timestamp       72312 non-null  int64 \n",
            " 1   interaction_type      72312 non-null  object\n",
            " 2   item_id               72312 non-null  int64 \n",
            " 3   consumer_id           72312 non-null  int64 \n",
            " 4   consumer_session_id   72312 non-null  object\n",
            " 5   consumer_device_info  56918 non-null  object\n",
            " 6   consumer_location     56907 non-null  object\n",
            " 7   country               56918 non-null  object\n",
            " 8   ratings               72312 non-null  int64 \n",
            "dtypes: int64(4), object(5)\n",
            "memory usage: 5.0+ MB\n",
            "None\n",
            "<class 'pandas.core.frame.DataFrame'>\n",
            "Index: 2264 entries, 0 to 3121\n",
            "Data columns (total 13 columns):\n",
            " #   Column                Non-Null Count  Dtype \n",
            "---  ------                --------------  ----- \n",
            " 0   event_timestamp       2264 non-null   int64 \n",
            " 1   interaction_type      2264 non-null   object\n",
            " 2   item_id               2264 non-null   int64 \n",
            " 3   producer_id           2264 non-null   int64 \n",
            " 4   producer_session_id   2264 non-null   int64 \n",
            " 5   producer_device_info  473 non-null    object\n",
            " 6   producer_location     473 non-null    object\n",
            " 7   producer_country      473 non-null    object\n",
            " 8   item_type             2264 non-null   object\n",
            " 9   item_url              2264 non-null   object\n",
            " 10  title                 2264 non-null   object\n",
            " 11  text_description      2264 non-null   object\n",
            " 12  language              2264 non-null   object\n",
            "dtypes: int64(4), object(9)\n",
            "memory usage: 247.6+ KB\n",
            "None\n"
          ]
        }
      ]
    },
    {
      "cell_type": "markdown",
      "source": [
        "# Distribution of interaction types"
      ],
      "metadata": {
        "id": "3ekreYBkQNCH"
      }
    },
    {
      "cell_type": "code",
      "source": [
        "plt.figure(figsize=(10,5))\n",
        "sns.countplot(y=consumer_transactions['interaction_type'], order=consumer_transactions['interaction_type'].value_counts().index)\n",
        "plt.title(\"Distribution of Interaction Types\")\n",
        "plt.show()"
      ],
      "metadata": {
        "colab": {
          "base_uri": "https://localhost:8080/",
          "height": 487
        },
        "id": "WzG7drhdQOWE",
        "outputId": "03296571-b36d-4de6-d0c1-88390aba7ba1"
      },
      "execution_count": 172,
      "outputs": [
        {
          "output_type": "display_data",
          "data": {
            "text/plain": [
              "<Figure size 1000x500 with 1 Axes>"
            ],
            "image/png": "[encoded data removed]"
          },
          "metadata": {}
        }
      ]
    },
    {
      "cell_type": "markdown",
      "source": [
        "# Most common consumer locations"
      ],
      "metadata": {
        "id": "25tvC_-KQPUG"
      }
    },
    {
      "cell_type": "code",
      "source": [
        "plt.figure(figsize=(12,6))\n",
        "sns.countplot(y=consumer_transactions['consumer_location'], order=consumer_transactions['consumer_location'].value_counts().index[:10])\n",
        "plt.title(\"Top 10 Consumer Locations\")\n",
        "plt.show()"
      ],
      "metadata": {
        "colab": {
          "base_uri": "https://localhost:8080/",
          "height": 564
        },
        "id": "cLgw-W3NQQq2",
        "outputId": "cc0746f0-b46c-4fb8-e80d-eeefed12b62c"
      },
      "execution_count": 173,
      "outputs": [
        {
          "output_type": "display_data",
          "data": {
            "text/plain": [
              "<Figure size 1200x600 with 1 Axes>"
            ],
            "image/png": "[encoded data removed]"
          },
          "metadata": {}
        }
      ]
    },
    {
      "cell_type": "markdown",
      "source": [
        "# Most common producer locations"
      ],
      "metadata": {
        "id": "Ss3Y305vQRsC"
      }
    },
    {
      "cell_type": "code",
      "source": [
        "platform_content.head()\n"
      ],
      "metadata": {
        "colab": {
          "base_uri": "https://localhost:8080/",
          "height": 625
        },
        "id": "SJGEHEmqRtv3",
        "outputId": "1e8c7c7b-c572-48eb-b08f-958dba768ab1"
      },
      "execution_count": 174,
      "outputs": [
        {
          "output_type": "execute_result",
          "data": {
            "text/plain": [
              "   event_timestamp    interaction_type              item_id  \\\n",
              "0       1459192779  content_pulled_out -6451309518266745024   \n",
              "1       1459193988     content_present -4110354420726924665   \n",
              "2       1459194146     content_present -7292285110016212249   \n",
              "3       1459194474     content_present -6151852268067518688   \n",
              "4       1459194497     content_present  2448026894306402386   \n",
              "\n",
              "           producer_id  producer_session_id producer_device_info  \\\n",
              "0  4340306774493623681  8940341205206233829                  NaN   \n",
              "1  4340306774493623681  8940341205206233829                  NaN   \n",
              "2  4340306774493623681  8940341205206233829                  NaN   \n",
              "3  3891637997717104548 -1457532940883382585                  NaN   \n",
              "4  4340306774493623681  8940341205206233829                  NaN   \n",
              "\n",
              "  producer_location producer_country item_type  \\\n",
              "0               NaN              NaN      HTML   \n",
              "1               NaN              NaN      HTML   \n",
              "2               NaN              NaN      HTML   \n",
              "3               NaN              NaN      HTML   \n",
              "4               NaN              NaN      HTML   \n",
              "\n",
              "                                            item_url  \\\n",
              "0  http://www.nytimes.com/2016/03/28/business/dea...   \n",
              "1  http://www.nytimes.com/2016/03/28/business/dea...   \n",
              "2  http://cointelegraph.com/news/bitcoin-future-w...   \n",
              "3  https://cloudplatform.googleblog.com/2016/03/G...   \n",
              "4  https://bitcoinmagazine.com/articles/ibm-wants...   \n",
              "\n",
              "                                               title  \\\n",
              "0  Ethereum, a Virtual Currency, Enables Transact...   \n",
              "1  Ethereum, a Virtual Currency, Enables Transact...   \n",
              "2  Bitcoin Future: When GBPcoin of Branson Wins O...   \n",
              "3                       Google Data Center 360° Tour   \n",
              "4  IBM Wants to \"Evolve the Internet\" With Blockc...   \n",
              "\n",
              "                                    text_description language  \n",
              "0  All of this work is still very early. The firs...       en  \n",
              "1  All of this work is still very early. The firs...       en  \n",
              "2  The alarm clock wakes me at 8:00 with stream o...       en  \n",
              "3  We're excited to share the Google Data Center ...       en  \n",
              "4  The Aite Group projects the blockchain market ...       en  "
            ],
            "text/html": [
              "\n",
              "  <div id=\"df-ca6938d0-b9d0-4e81-98d9-3601dea8a4da\" class=\"colab-df-container\">\n",
              "    <div>\n",
              "<style scoped>\n",
              "    .dataframe tbody tr th:only-of-type {\n",
              "        vertical-align: middle;\n",
              "    }\n",
              "\n",
              "    .dataframe tbody tr th {\n",
              "        vertical-align: top;\n",
              "    }\n",
              "\n",
              "    .dataframe thead th {\n",
              "        text-align: right;\n",
              "    }\n",
              "</style>\n",
              "<table border=\"1\" class=\"dataframe\">\n",
              "  <thead>\n",
              "    <tr style=\"text-align: right;\">\n",
              "      <th></th>\n",
              "      <th>event_timestamp</th>\n",
              "      <th>interaction_type</th>\n",
              "      <th>item_id</th>\n",
              "      <th>producer_id</th>\n",
              "      <th>producer_session_id</th>\n",
              "      <th>producer_device_info</th>\n",
              "      <th>producer_location</th>\n",
              "      <th>producer_country</th>\n",
              "      <th>item_type</th>\n",
              "      <th>item_url</th>\n",
              "      <th>title</th>\n",
              "      <th>text_description</th>\n",
              "      <th>language</th>\n",
              "    </tr>\n",
              "  </thead>\n",
              "  <tbody>\n",
              "    <tr>\n",
              "      <th>0</th>\n",
              "      <td>1459192779</td>\n",
              "      <td>content_pulled_out</td>\n",
              "      <td>-6451309518266745024</td>\n",
              "      <td>4340306774493623681</td>\n",
              "      <td>8940341205206233829</td>\n",
              "      <td>NaN</td>\n",
              "      <td>NaN</td>\n",
              "      <td>NaN</td>\n",
              "      <td>HTML</td>\n",
              "      <td>http://www.nytimes.com/2016/03/28/business/dea...</td>\n",
              "      <td>Ethereum, a Virtual Currency, Enables Transact...</td>\n",
              "      <td>All of this work is still very early. The firs...</td>\n",
              "      <td>en</td>\n",
              "    </tr>\n",
              "    <tr>\n",
              "      <th>1</th>\n",
              "      <td>1459193988</td>\n",
              "      <td>content_present</td>\n",
              "      <td>-4110354420726924665</td>\n",
              "      <td>4340306774493623681</td>\n",
              "      <td>8940341205206233829</td>\n",
              "      <td>NaN</td>\n",
              "      <td>NaN</td>\n",
              "      <td>NaN</td>\n",
              "      <td>HTML</td>\n",
              "      <td>http://www.nytimes.com/2016/03/28/business/dea...</td>\n",
              "      <td>Ethereum, a Virtual Currency, Enables Transact...</td>\n",
              "      <td>All of this work is still very early. The firs...</td>\n",
              "      <td>en</td>\n",
              "    </tr>\n",
              "    <tr>\n",
              "      <th>2</th>\n",
              "      <td>1459194146</td>\n",
              "      <td>content_present</td>\n",
              "      <td>-7292285110016212249</td>\n",
              "      <td>4340306774493623681</td>\n",
              "      <td>8940341205206233829</td>\n",
              "      <td>NaN</td>\n",
              "      <td>NaN</td>\n",
              "      <td>NaN</td>\n",
              "      <td>HTML</td>\n",
              "      <td>http://cointelegraph.com/news/bitcoin-future-w...</td>\n",
              "      <td>Bitcoin Future: When GBPcoin of Branson Wins O...</td>\n",
              "      <td>The alarm clock wakes me at 8:00 with stream o...</td>\n",
              "      <td>en</td>\n",
              "    </tr>\n",
              "    <tr>\n",
              "      <th>3</th>\n",
              "      <td>1459194474</td>\n",
              "      <td>content_present</td>\n",
              "      <td>-6151852268067518688</td>\n",
              "      <td>3891637997717104548</td>\n",
              "      <td>-1457532940883382585</td>\n",
              "      <td>NaN</td>\n",
              "      <td>NaN</td>\n",
              "      <td>NaN</td>\n",
              "      <td>HTML</td>\n",
              "      <td>https://cloudplatform.googleblog.com/2016/03/G...</td>\n",
              "      <td>Google Data Center 360° Tour</td>\n",
              "      <td>We're excited to share the Google Data Center ...</td>\n",
              "      <td>en</td>\n",
              "    </tr>\n",
              "    <tr>\n",
              "      <th>4</th>\n",
              "      <td>1459194497</td>\n",
              "      <td>content_present</td>\n",
              "      <td>2448026894306402386</td>\n",
              "      <td>4340306774493623681</td>\n",
              "      <td>8940341205206233829</td>\n",
              "      <td>NaN</td>\n",
              "      <td>NaN</td>\n",
              "      <td>NaN</td>\n",
              "      <td>HTML</td>\n",
              "      <td>https://bitcoinmagazine.com/articles/ibm-wants...</td>\n",
              "      <td>IBM Wants to \"Evolve the Internet\" With Blockc...</td>\n",
              "      <td>The Aite Group projects the blockchain market ...</td>\n",
              "      <td>en</td>\n",
              "    </tr>\n",
              "  </tbody>\n",
              "</table>\n",
              "</div>\n",
              "    <div class=\"colab-df-buttons\">\n",
              "\n",
              "  <div class=\"colab-df-container\">\n",
              "    <button class=\"colab-df-convert\" onclick=\"convertToInteractive('df-ca6938d0-b9d0-4e81-98d9-3601dea8a4da')\"\n",
              "            title=\"Convert this dataframe to an interactive table.\"\n",
              "            style=\"display:none;\">\n",
              "\n",
              "  <svg xmlns=\"http://www.w3.org/2000/svg\" height=\"24px\" viewBox=\"0 -960 960 960\">\n",
              "    <path d=\"M120-120v-720h720v720H120Zm60-500h600v-160H180v160Zm220 220h160v-160H400v160Zm0 220h160v-160H400v160ZM180-400h160v-160H180v160Zm440 0h160v-160H620v160ZM180-180h160v-160H180v160Zm440 0h160v-160H620v160Z\"/>\n",
              "  </svg>\n",
              "    </button>\n",
              "\n",
              "  <style>\n",
              "    .colab-df-container {\n",
              "      display:flex;\n",
              "      gap: 12px;\n",
              "    }\n",
              "\n",
              "    .colab-df-convert {\n",
              "      background-color: #E8F0FE;\n",
              "      border: none;\n",
              "      border-radius: 50%;\n",
              "      cursor: pointer;\n",
              "      display: none;\n",
              "      fill: #1967D2;\n",
              "      height: 32px;\n",
              "      padding: 0 0 0 0;\n",
              "      width: 32px;\n",
              "    }\n",
              "\n",
              "    .colab-df-convert:hover {\n",
              "      background-color: #E2EBFA;\n",
              "      box-shadow: 0px 1px 2px rgba(60, 64, 67, 0.3), 0px 1px 3px 1px rgba(60, 64, 67, 0.15);\n",
              "      fill: #174EA6;\n",
              "    }\n",
              "\n",
              "    .colab-df-buttons div {\n",
              "      margin-bottom: 4px;\n",
              "    }\n",
              "\n",
              "    [theme=dark] .colab-df-convert {\n",
              "      background-color: #3B4455;\n",
              "      fill: #D2E3FC;\n",
              "    }\n",
              "\n",
              "    [theme=dark] .colab-df-convert:hover {\n",
              "      background-color: #434B5C;\n",
              "      box-shadow: 0px 1px 3px 1px rgba(0, 0, 0, 0.15);\n",
              "      filter: drop-shadow(0px 1px 2px rgba(0, 0, 0, 0.3));\n",
              "      fill: #FFFFFF;\n",
              "    }\n",
              "  </style>\n",
              "\n",
              "    <script>\n",
              "      const buttonEl =\n",
              "        document.querySelector('#df-ca6938d0-b9d0-4e81-98d9-3601dea8a4da button.colab-df-convert');\n",
              "      buttonEl.style.display =\n",
              "        google.colab.kernel.accessAllowed ? 'block' : 'none';\n",
              "\n",
              "      async function convertToInteractive(key) {\n",
              "        const element = document.querySelector('#df-ca6938d0-b9d0-4e81-98d9-3601dea8a4da');\n",
              "        const dataTable =\n",
              "          await google.colab.kernel.invokeFunction('convertToInteractive',\n",
              "                                                    [key], {});\n",
              "        if (!dataTable) return;\n",
              "\n",
              "        const docLinkHtml = 'Like what you see? Visit the ' +\n",
              "          '<a target=\"_blank\" href=https://colab.research.google.com/notebooks/data_table.ipynb>data table notebook</a>'\n",
              "          + ' to learn more about interactive tables.';\n",
              "        element.innerHTML = '';\n",
              "        dataTable['output_type'] = 'display_data';\n",
              "        await google.colab.output.renderOutput(dataTable, element);\n",
              "        const docLink = document.createElement('div');\n",
              "        docLink.innerHTML = docLinkHtml;\n",
              "        element.appendChild(docLink);\n",
              "      }\n",
              "    </script>\n",
              "  </div>\n",
              "\n",
              "\n",
              "<div id=\"df-a694b613-10a4-4001-8f31-939be8feadc5\">\n",
              "  <button class=\"colab-df-quickchart\" onclick=\"quickchart('df-a694b613-10a4-4001-8f31-939be8feadc5')\"\n",
              "            title=\"Suggest charts\"\n",
              "            style=\"display:none;\">\n",
              "\n",
              "<svg xmlns=\"http://www.w3.org/2000/svg\" height=\"24px\"viewBox=\"0 0 24 24\"\n",
              "     width=\"24px\">\n",
              "    <g>\n",
              "        <path d=\"M19 3H5c-1.1 0-2 .9-2 2v14c0 1.1.9 2 2 2h14c1.1 0 2-.9 2-2V5c0-1.1-.9-2-2-2zM9 17H7v-7h2v7zm4 0h-2V7h2v10zm4 0h-2v-4h2v4z\"/>\n",
              "    </g>\n",
              "</svg>\n",
              "  </button>\n",
              "\n",
              "<style>\n",
              "  .colab-df-quickchart {\n",
              "      --bg-color: #E8F0FE;\n",
              "      --fill-color: #1967D2;\n",
              "      --hover-bg-color: #E2EBFA;\n",
              "      --hover-fill-color: #174EA6;\n",
              "      --disabled-fill-color: #AAA;\n",
              "      --disabled-bg-color: #DDD;\n",
              "  }\n",
              "\n",
              "  [theme=dark] .colab-df-quickchart {\n",
              "      --bg-color: #3B4455;\n",
              "      --fill-color: #D2E3FC;\n",
              "      --hover-bg-color: #434B5C;\n",
              "      --hover-fill-color: #FFFFFF;\n",
              "      --disabled-bg-color: #3B4455;\n",
              "      --disabled-fill-color: #666;\n",
              "  }\n",
              "\n",
              "  .colab-df-quickchart {\n",
              "    background-color: var(--bg-color);\n",
              "    border: none;\n",
              "    border-radius: 50%;\n",
              "    cursor: pointer;\n",
              "    display: none;\n",
              "    fill: var(--fill-color);\n",
              "    height: 32px;\n",
              "    padding: 0;\n",
              "    width: 32px;\n",
              "  }\n",
              "\n",
              "  .colab-df-quickchart:hover {\n",
              "    background-color: var(--hover-bg-color);\n",
              "    box-shadow: 0 1px 2px rgba(60, 64, 67, 0.3), 0 1px 3px 1px rgba(60, 64, 67, 0.15);\n",
              "    fill: var(--button-hover-fill-color);\n",
              "  }\n",
              "\n",
              "  .colab-df-quickchart-complete:disabled,\n",
              "  .colab-df-quickchart-complete:disabled:hover {\n",
              "    background-color: var(--disabled-bg-color);\n",
              "    fill: var(--disabled-fill-color);\n",
              "    box-shadow: none;\n",
              "  }\n",
              "\n",
              "  .colab-df-spinner {\n",
              "    border: 2px solid var(--fill-color);\n",
              "    border-color: transparent;\n",
              "    border-bottom-color: var(--fill-color);\n",
              "    animation:\n",
              "      spin 1s steps(1) infinite;\n",
              "  }\n",
              "\n",
              "  @keyframes spin {\n",
              "    0% {\n",
              "      border-color: transparent;\n",
              "      border-bottom-color: var(--fill-color);\n",
              "      border-left-color: var(--fill-color);\n",
              "    }\n",
              "    20% {\n",
              "      border-color: transparent;\n",
              "      border-left-color: var(--fill-color);\n",
              "      border-top-color: var(--fill-color);\n",
              "    }\n",
              "    30% {\n",
              "      border-color: transparent;\n",
              "      border-left-color: var(--fill-color);\n",
              "      border-top-color: var(--fill-color);\n",
              "      border-right-color: var(--fill-color);\n",
              "    }\n",
              "    40% {\n",
              "      border-color: transparent;\n",
              "      border-right-color: var(--fill-color);\n",
              "      border-top-color: var(--fill-color);\n",
              "    }\n",
              "    60% {\n",
              "      border-color: transparent;\n",
              "      border-right-color: var(--fill-color);\n",
              "    }\n",
              "    80% {\n",
              "      border-color: transparent;\n",
              "      border-right-color: var(--fill-color);\n",
              "      border-bottom-color: var(--fill-color);\n",
              "    }\n",
              "    90% {\n",
              "      border-color: transparent;\n",
              "      border-bottom-color: var(--fill-color);\n",
              "    }\n",
              "  }\n",
              "</style>\n",
              "\n",
              "  <script>\n",
              "    async function quickchart(key) {\n",
              "      const quickchartButtonEl =\n",
              "        document.querySelector('#' + key + ' button');\n",
              "      quickchartButtonEl.disabled = true;  // To prevent multiple clicks.\n",
              "      quickchartButtonEl.classList.add('colab-df-spinner');\n",
              "      try {\n",
              "        const charts = await google.colab.kernel.invokeFunction(\n",
              "            'suggestCharts', [key], {});\n",
              "      } catch (error) {\n",
              "        console.error('Error during call to suggestCharts:', error);\n",
              "      }\n",
              "      quickchartButtonEl.classList.remove('colab-df-spinner');\n",
              "      quickchartButtonEl.classList.add('colab-df-quickchart-complete');\n",
              "    }\n",
              "    (() => {\n",
              "      let quickchartButtonEl =\n",
              "        document.querySelector('#df-a694b613-10a4-4001-8f31-939be8feadc5 button');\n",
              "      quickchartButtonEl.style.display =\n",
              "        google.colab.kernel.accessAllowed ? 'block' : 'none';\n",
              "    })();\n",
              "  </script>\n",
              "</div>\n",
              "\n",
              "    </div>\n",
              "  </div>\n"
            ],
            "application/vnd.google.colaboratory.intrinsic+json": {
              "type": "dataframe",
              "variable_name": "platform_content",
              "summary": "{\n  \"name\": \"platform_content\",\n  \"rows\": 2264,\n  \"fields\": [\n    {\n      \"column\": \"event_timestamp\",\n      \"properties\": {\n        \"dtype\": \"number\",\n        \"std\": 7561718,\n        \"min\": 1459192779,\n        \"max\": 1488307871,\n        \"num_unique_values\": 2263,\n        \"samples\": [\n          1471817242,\n          1467251464,\n          1460632269\n        ],\n        \"semantic_type\": \"\",\n        \"description\": \"\"\n      }\n    },\n    {\n      \"column\": \"interaction_type\",\n      \"properties\": {\n        \"dtype\": \"category\",\n        \"num_unique_values\": 2,\n        \"samples\": [\n          \"content_present\",\n          \"content_pulled_out\"\n        ],\n        \"semantic_type\": \"\",\n        \"description\": \"\"\n      }\n    },\n    {\n      \"column\": \"item_id\",\n      \"properties\": {\n        \"dtype\": \"number\",\n        \"std\": 5416229177846777856,\n        \"min\": -9192549002213406534,\n        \"max\": 9222265156747237864,\n        \"num_unique_values\": 2218,\n        \"samples\": [\n          3455160158461205368,\n          -2516726696296387544\n        ],\n        \"semantic_type\": \"\",\n        \"description\": \"\"\n      }\n    },\n    {\n      \"column\": \"producer_id\",\n      \"properties\": {\n        \"dtype\": \"number\",\n        \"std\": 4316415186983557120,\n        \"min\": -9120685872592674274,\n        \"max\": 9210530975708218054,\n        \"num_unique_values\": 188,\n        \"samples\": [\n          3118792477913513242,\n          6686977580828209471\n        ],\n        \"semantic_type\": \"\",\n        \"description\": \"\"\n      }\n    },\n    {\n      \"column\": \"producer_session_id\",\n      \"properties\": {\n        \"dtype\": \"number\",\n        \"std\": 5430594684148952064,\n        \"min\": -9212055154240885024,\n        \"max\": 9221043291398421991,\n        \"num_unique_values\": 1420,\n        \"samples\": [\n          -5498463104941657995,\n          -7041444967606569796\n        ],\n        \"semantic_type\": \"\",\n        \"description\": \"\"\n      }\n    },\n    {\n      \"column\": \"producer_device_info\",\n      \"properties\": {\n        \"dtype\": \"category\",\n        \"num_unique_values\": 96,\n        \"samples\": [\n          \"Mozilla/5.0 (Macintosh; Intel Mac OS X 10_11_3) AppleWebKit/537.36 (KHTML, like Gecko) Chrome/55.0.2883.95 Safari/537.36\",\n          \"Mozilla/5.0 (Windows NT 10.0; Win64; x64) AppleWebKit/537.36 (KHTML, like Gecko) Chrome/57.0.2982.0 Safari/537.36\"\n        ],\n        \"semantic_type\": \"\",\n        \"description\": \"\"\n      }\n    },\n    {\n      \"column\": \"producer_location\",\n      \"properties\": {\n        \"dtype\": \"category\",\n        \"num_unique_values\": 17,\n        \"samples\": [\n          \"ON\",\n          \"SP\"\n        ],\n        \"semantic_type\": \"\",\n        \"description\": \"\"\n      }\n    },\n    {\n      \"column\": \"producer_country\",\n      \"properties\": {\n        \"dtype\": \"category\",\n        \"num_unique_values\": 5,\n        \"samples\": [\n          \"BR\",\n          \"PT\"\n        ],\n        \"semantic_type\": \"\",\n        \"description\": \"\"\n      }\n    },\n    {\n      \"column\": \"item_type\",\n      \"properties\": {\n        \"dtype\": \"category\",\n        \"num_unique_values\": 3,\n        \"samples\": [\n          \"HTML\",\n          \"RICH\"\n        ],\n        \"semantic_type\": \"\",\n        \"description\": \"\"\n      }\n    },\n    {\n      \"column\": \"item_url\",\n      \"properties\": {\n        \"dtype\": \"string\",\n        \"num_unique_values\": 2195,\n        \"samples\": [\n          \"https://mobiforge.com/research-analysis/the-web-is-doom\",\n          \"https://medium.com/slack-developer-blog/message-buttons-and-the-slack-api-ab938174af70\"\n        ],\n        \"semantic_type\": \"\",\n        \"description\": \"\"\n      }\n    },\n    {\n      \"column\": \"title\",\n      \"properties\": {\n        \"dtype\": \"string\",\n        \"num_unique_values\": 2178,\n        \"samples\": [\n          \"Lady Gaga's startup Backplane burns out and sells assets\",\n          \"The FBI Faked an Entire Field of Forensic Science\"\n        ],\n        \"semantic_type\": \"\",\n        \"description\": \"\"\n      }\n    },\n    {\n      \"column\": \"text_description\",\n      \"properties\": {\n        \"dtype\": \"string\",\n        \"num_unique_values\": 2185,\n        \"samples\": [\n          \"Unless you've been living under a rock, you know that A/B Testing can be extremely beneficial for all your marketing and design decisions. Knowing exactly what works, what doesn't, testing before implementing anything so you don't lose money, and all that jazz. You're most likely already doing A/B tests. All the power to you right? Well, not so fast. Here is the bleak truth... A staggering number of people doing A/B tests get imaginary results. We see it among our clients, and 5 minutes on Google will tell you the same story. How come? Because you can screw up in so many different ways it will make you dizzy, and because maths are involved. But fear not, we got your back. In the coming months, we'll cover about every A/B Testing mistake you could make, and how to avoid them. Today, we start off with 7 mistakes most beginners make when A/B testing: They start with complicated tests They don't have a hypothesis for each test They don't have a process and a roadmap They don't prioritize their tests They don't optimize for the right KPI's They ignore small gains They're not testing at ALL times You start doing A/B Testing with complicated tests For your first tests ever, start simple. Being successful at A/B Testing is all about process. So it's important that you first go through the motions. See how theory computes with reality, what works for you and what doesn't. Where you have problems, be it in the implementation of the tests, coming up with ideas, analyzing the results, etc... Think about how you'll scale your testing practice, or if you'll need new hires for example. Starting with A/B Testing is a lot like starting weight training seriously. You don't start with your maximum charge and complicated exercises. It would be the best way to injure yourself badly. You start light, and you focus 100% of your attention on the movement itself to achieve perfect form, with a series of checkpoints to avoid all the ways you get injured or develop bad habits-that'll end up hurting in the long run. By doing that, you'll imprint it in your muscle memory so when you need to be focused on the effort itself, you won't even have to think about the movement. Your body will instinctively do it. Then and only then, can you achieve the highest performance possible without screwing up. Exact. Same. Thing. With. A/B Testing. You start simple, focus all your attention on each step of the process, set up safeguards and adjust as you go so you don't have to worry about it later. Another benefit with starting with simple tests is that you'll get quick wins. Getting bummed out when your first tests fail (and most do, even when done by the best experts out there) is often why people give up or struggle to convince their boss/colleagues that split testing is indeed worth the time and investment. Starting with quick wins allows you to create momentum and rally people to the practice inside your team/company. So you got the message, doing complicated tests right off the bat could kill your efforts in the egg. You could be overwhelmed, get fake results and get discouraged. Here are a couple examples of things you could test to start with: Test copy on your offers, product pages, landing pages (Make it focused on benefits not features, be sure that what you mean is crystal clear) Removing distractions on key pages (Is this slider really necessary, or all these extra buttons?) You don't have a hypothesis for each test Every test idea should be based on data, articulated through an informed hypothesis with an underlying theory. If you're not doing this, you're mostly shooting in the dark without even knowing in what direction the target is. Not having a hypothesis (or a flawed one) is one of the most common reason why A/B tests fail. Okay, let's take our initial statement apart piece by piece to understand what this means. Every test idea should be based on data [...] Be it quantitative or qualitative, every test is induced by an analysis of your website data and the identification of a problem or element to improve. Gut feelings or \\\"I read that...\\\" won't do. It could work but you're A/B Testing to make decisions based on data, so let's not flip a coin for our tests ideas, shall we? Here are several sources to build your hypothesis on: Analytics Heatmaps Surveys Interviews Usability tests Heuristic analysis ( great article here by Peep Laja, don't pay attention to the title, it's great even if you do have lots of traffic) [...] an underlying theory Put yourself in the shoes of your customers. Why didn't they do what you wanted them to? What was their intent at this stage? What would make you leave/not do what was expected? Example: \\\"I think that if I'm a customer, I'd be more inclined to go through with this step if the form had less fields\\\". Don't skip this. When you're deep in your CRO practice, you sometimes tend to forget about your users. You focus on numbers and design. It's paramount to take a step back. The difference between a bad hypothesis and a great one could be staring at you in the face. Let's not forget that we are beings doted with empathy. We're humans creating value for humans. [...] an informed hypothesis [...] With data and a theory, you can now craft your test hypothesis. You can use this format or something along those lines: By {making this change} , {KPI A, B, and thus primary metric} will improve {slightly / noticeably / greatly} because {reasons (data, theory, ...)}. Working this way will not only improve the quality of your tests, but also your global conversion optimization efforts. Good, you are now testing to confirm or disprove a hypothesis, not shooting from the hip hoping to hit something eventually. You don't have a process and a roadmap If you want to succeed at A/B Testing, and more largely at Conversion Rate Optimization, you need 2 essential elements: 1. Why do you need a roadmap? What does it consist of? A roadmap will help you test what matters and work toward a clear end goal. It'll guide your efforts and prevent you from doing aimless testing. In your roadmap, you should have: Business goals: the reasons you have a website. Be concise, simple, realistic. Website goals: how will you achieve these business goals through your site. What are your priorities? What are your most popular pages? Which ones have the highest potential for improvement? What does your conversion funnel look like, step by step? Where are the friction points? Key metrics: how will you measure success? A North Star : What's the one metric-correlated with Customer satisfaction, that if you focus exclusively your efforts on will guarantee your success? (Ex: Facebook=Daily Active Users, AirBnb= Nights Booked, Ebay=gross merchandise volume) Put all these down and make sure everyone in your team/company is on the same page and can get behind them. 2. Sometimes when we hear \\\"process\\\", we have an allergic reaction. We think it means the death of creativity, that it's boring. You'd feel trapped. It's absolutely not true for A/B Testing (or CRO). On the contrary. It's BECAUSE you have a process that you'll be able to be creative. A/B Testing is a science experiment. You need to be rigorous, have a set of parameters making sure what you're doing is measurable, repeatable and accurate. It's easy to fail. So you need safeguards. Steps that you will go through each and every time without having to think. No need to reinvent the wheel every time. You need a process so you can focus on crafting the best hypothesis possible and optimize learning. The details of your process will be specific to you and your company. But it will look something like that: Measure Prioritize Test Learn Communicate (Don't skip this. Share with your colleagues why you did that test, how it is pertinent to your business goals, if it succeeded/failed, what you learned. Encourage discussions; each department has insights for different stages of your funnel. And keep your IT team in the loop.) Repeat When you feel like you lost your focus, use Brian Balfour question : \\\"What is the highest-impact thing I can work on right now given my limited resources, whether that's people, time, or money?\\\" You don't prioritize With a process, a roadmap and the development of a testing culture inside your company, you'll have a list of test ideas longer than your arm. You need a system to prioritize tests, to stay on top of things and make sure you do what matters. And to not waste time and money on stupid tests. Okay, I apologize in advance but allow me a small angry rant: There are articles on the interwebz roaming about and claiming things like: \\\"CHANGING OUR CTA TO RED INCREASED CONVERSIONS BY 287%.\\\" For the sake of argument, let's say they did have this crazy lift. First thing first: there are NO colors converting more than others. What's important is visual hierarchy , i.e. is your CTA standing out from the rest of your page for example. Second, testing minute details like color won't get you anywhere. Most often, these types of changes are obvious. If your CTA doesn't stand out from your page, or if your headline/copy isn't clear-do something about it. You don't need to test. If you'd put it in the \\\"Well, duh\\\" category, don't invest your time and traffic in it. Just do it! We're not saying you shouldn't test small things like adding a line of copy or changing the wording on a CTA. Just don't make them a priority (except of course-as we talked about earlier, if you're just starting out with A/B Testing). If your ship were leaking, you wouldn't begin by putting a bandaid on a small hole in the deck. Also, keep in mind that testing small changes or on low traffic pages equal small results. It's true you should test everything, but you're working with a finite amount of resources. Once you're confident in your ability to A/B Test, focus on tests with the most impact/potential. Target your pages with the most traffic and influence. You can use something like the PIE Framework to rate your tests so you know which one to do first. Each test will be rated following three criteria: Potential gain (../10): How much room for improvement is there on this(these) page(s)? Importance (../10): How valuable is the traffic on this(these) page(s)? Ease of implementation (../10): How easy will this test be to implement on your site? Average the three for each test, and you'll have a backlog of ideas ranked objectively. You don't optimize for the right KPIs There are two types of conversions. Micro and macro. You should measure both, and optimize for the macro conversions. A micro conversion is a step (click, social share, newsletter subscription, add to cart, ...) on the path leading to a macro conversion, which is an outcome that impacts your bottom-line (check out, free trial, ...), in other words, the main conversion goals of your website. Why is it important that you know the difference? Because you need to make sure that you measure both for every test, but that you don't optimize for micro conversions only. There are two types of micro conversions according to the Nielsen Norman Group : Process Milestones are conversions that represent linear movement toward a primary macro conversion. Monitoring these will help you define the steps where UX improvements are most needed. Secondary Actions are not the primary goals of the site, but they are desirable actions that are indicators of potential future macro conversions. Measuring micro conversions allows you to know where your friction points are and help you paint a holistic picture of your entire conversion funnel. But you shouldn't optimize for them. You want to set your test goals as close to revenue possible. You could get more traffic to your landing page through a given variation of your homepage, but have fewer form completions even though more people arrived on it. So if you were optimizing only for the micro conversion of arriving on the landing page, you would have lost money. Track micro conversion, but don't optimize solely for them. And before starting any test, go back and make sure you measure everything that matters. You ignore small lifts \\\"Go big or go home.\\\" It's true, as we've just said, that you should focus your tests on high impact changes first. What you won't see us say anywhere, though, is \\\"if your test results in a small gain, drop it and move on.\\\" Why? Because maths, that's why. Let's take a quick example. If a test give your variation winning with 5% more conversions, and each month you get similar results. That's an 80% improvement over a year. How's that for small! Also, the more you test, the more you'll improve your website, the less you'll have big results. Don't be sad if you just get small lifts. It could mean your website is good. (Pat yourself on the back and tweet that to your boss :D). It's pretty rare to get big lifts on \\\"normal\\\" site. Don't be disheartened by small gains; it'll pay off big time over time. You're not testing at all times Every day spent without an experiment running is wasted. Opportunities missed. Oh, look! An opportuni-aah... It's gone. Why are you testing? Because you want to learn more about your visitors, make informed decisions, get more customers and earn more money. When wouldn't you want all that? Never? Yup, same here. So as they say, Always Be Testing. Testing properly takes time, you better not lose any. \\\"There's a way to do it better-find it\\\", T.Edison. How you say? Test, test, test! And when in doubt, test again! This concludes our article for today. Next time we'll look into the concepts you need to grasp in order to decide if you can stop your A/B Tests, so you don't pull the trigger too early and end up with fake results (yikes). Again, if you don't want to wait, download our ebook and you'll get all 10,000 words worth of content on A/B Testing mistakes. PS: Before you go, a couple of things I'd like you to do: If this article was helpful in any way, please let met know. Either leave a comment, or hit me up on Twitter @kameleoonrocks. If you'd like me to cover a topic in particular or have a question, same thing: reach out It's extremely important for me to know that I write content both helpful and focused on what matters to you. I know it sounds cheesy and fake, but I feel like writing purely marketing, \\\"empty\\\" stuff-just for the exercise, is a fat loss of time for everyone. Useless for you, and extremely un-enjoyable for me to write. So let's work together! Nous vous recommandons \\u00e9galement :\",\n          \"larry wall laziness and eagerness In computing, \\\"laziness\\\" is a broad term, generally referring to not doing any work unless you need it. Whereas its opposite is \\\"eagerness,\\\" doing as much work as possible in case you need it later. Consider this JavaScript: Now, here's the question: Does JavaScript compute 2+3 ? You probably know the answer: Yes it does. When it comes to passing arguments to a function invocation, JavaScript is eager , it evaluates all of the expressions, and it does so whether the value of the expression is used or not. If JavaScript was lazy , it would not evaluate 2+3 in the expression ifThen(1 === 0, 2 + 3) . So is JavaScript an \\\"eager\\\" language? Mostly. But not always! If we write: 1 === 0 ? 2 + 3 : undefined , JavaScript does not evaluate 2+3 . Operators like ?: and && and || , along with program control structures like if , are lazy. You just have to know in your head what is eager and what is lazy. And if you want something to be lazy that isn't naturally lazy, you have to work around JavaScript's eagerness. For example: JavaScript eagerly evaluates () => 2 + 3 , which is a function. But it doesn't evaluate the expression in the body of the function until it is invoked. And it is not invoked, so 2+3 is not evaluated. Wrapping expressions in functions to delay evaluation is a longstanding technique in programming. They are colloquially called thunks , and there are lots of interesting applications for them. generating laziness The bodies of functions are a kind of lazy thing: They aren't evaluated until you invoke the function. This is related to if statements, and every other kind of control flow construct: JavaScript does not evaluate statements unless the code actually encounters the statement. Consider this code: You are doubtless chuckling at its na\\u00efvet\\u00e9. Imagine this list was the numbers from one to a billion-e.g. [1, 2, 3, ..., 999999998, 999999999, 1000000000] -and we invoke: We get the correct result, but we iterate over every one of our billion numbers first. Awful! Small children and the otherwise febrile know that you can return from anywhere in a JavaScript function, and the rest of its evaluation is abandoned. So we can write this: This version of the function is lazier than the first: It only does the minimum needed to determine whether a particular list contains a particular value. From containing , we can make a similar function, findWith : findWith applies a predicate function to lazily find the first value that evaluates truthily. Unfortunately, while findWith is lazy, its argument is evaluated eagerly, as we mentioned above. So let's say we want to find the first number in a list that is greater than 99 and is a palindrome: It's the same principle as before, of course, we iterate through our billion numbers and stop as soon as we get to 101 , which is greater than 99 and palindromic. But JavaScript eagerly evaluates the arguments to findWith . So it evaluates isPalindromic, gt(99)) and binds it to predicate , then it eagerly evaluates billion and binds it to list . Binding one value to another is cheap. But what if we had to generate a billion numbers? NumbersUpTo(1000000000) is eager, so it makes a list of all billion numbers, even though we only need the first 101 . This is the problem with laziness: We need to be lazy all the way through a computation. Luckily, we just finished working with generators and we know exactly how to make a lazy list of numbers: Generators yield values lazily. And findWith searches lazily, so we can find 101 without first generating an infinite array of numbers. JavaScript still evaluates Numbers() eagerly and binds it to list , but now it's binding an iterator, not an array. And the for (const element of list) { ... } statement lazily takes values from the iterator just as it did from the billion array. the sieve of eratosthenes Here is the Sieve of Eratosthenes , written in eager style: Let's take a pass at writing the Sieve of Eratosthenes in lazy style. First off, a few handy things we've already seen in this blog, and in JavaScript Allong\\u00e9 : With those in hand, we can write a generator that maps an iterable to a sequence of values with every nth element changed to null : That's the core of the \\\"sieving\\\" behaviour: take the front element of the list of numbers, call it n , and sieve every nth element afterwards. Our sieve is recursive, it sieves the result of sieving the rest of the list. With sieve in hand, we can use Numbers to get a list of numbers from 1 , and the rest operation to give us all but the head... In other words, the numbers from 2 . Then we compact the result to filter out all the nulls , and what is left are the primes: Besides performance, did you spot the full-on bug? Try running it yourself, it won't work! The problem is that at the last step, we called compact , and compact is an eager function, not a lazy one. So we end up trying to build an infinite list of primes before filtering out the nulls. We need to write a lazy version of compact : And now it works! When we write things in lazy style, we need lazy versions of all of our usual operations. For example, here's an eager implementation of unique : Naturally, we'd need a lazy implementation if we wanted to find the unique values of lazy iterators: And so it goes with all of our existing operations that we use with lists: We need lazy versions we can use with iterables, and we have to use the lazy operations throughout: We can't mix them. it comes down to types This brings us to an unexpected revelation. Generators and laziness can be wonderful. Exciting things are happening with using generators to emulate synchronized code with asynchronous operations, for example. But as we've seen, if we want to write lazy code, we have to be careful to be consistently lazy. If we accidentally mix lazy and eager code, we have problems. This is a symmetry problem. And at a deeper level, it exposes a problem with the \\\"duck typing\\\" mindset: There is a general idea that as long as objects handle the correct interface-as long as they respond to the right methods-they are interchangeable. But this is not always the case. The eager and lazy versions of compact both quack like ducks that operate on lists, but one is lazy and the other is not. \\\"Duck typing\\\" does not and cannot capture difference between a function that assures laziness and another that assures eagerness. Many other things work this way, for example escaped and unescaped strings. Or obfuscated and native IDs. To distinguish between things that have the same interfaces, but also have semantic or other contractural differences, we need types . We need to ensure that our programs work with each of the types, using the correct operations, even if the incorrect operations are also \\\"duck compatible\\\" and appear to work at first glance. notes\"\n        ],\n        \"semantic_type\": \"\",\n        \"description\": \"\"\n      }\n    },\n    {\n      \"column\": \"language\",\n      \"properties\": {\n        \"dtype\": \"category\",\n        \"num_unique_values\": 1,\n        \"samples\": [\n          \"en\"\n        ],\n        \"semantic_type\": \"\",\n        \"description\": \"\"\n      }\n    }\n  ]\n}"
            }
          },
          "metadata": {},
          "execution_count": 174
        }
      ]
    },
    {
      "cell_type": "code",
      "source": [
        "plt.figure(figsize=(12,6))\n",
        "sns.countplot(y=platform_content['producer_location'], order=platform_content['producer_location'].value_counts().index[:10])\n",
        "plt.title(\"Top 10 Producer Locations\")\n",
        "plt.show()"
      ],
      "metadata": {
        "colab": {
          "base_uri": "https://localhost:8080/",
          "height": 564
        },
        "id": "eSNKCkO5QS7o",
        "outputId": "1fa9ef68-3c0c-418d-f358-f06984b4484a"
      },
      "execution_count": 175,
      "outputs": [
        {
          "output_type": "display_data",
          "data": {
            "text/plain": [
              "<Figure size 1200x600 with 1 Axes>"
            ],
            "image/png": "[encoded data removed]"
          },
          "metadata": {}
        }
      ]
    },
    {
      "cell_type": "markdown",
      "source": [
        "# Most common languages"
      ],
      "metadata": {
        "id": "ILTchL5_QUvY"
      }
    },
    {
      "cell_type": "code",
      "source": [
        "plt.figure(figsize=(10,5))\n",
        "sns.countplot(y=platform_content['language'], order=platform_content['language'].value_counts().index)\n",
        "plt.title(\"Language Distribution\")\n",
        "plt.show()"
      ],
      "metadata": {
        "colab": {
          "base_uri": "https://localhost:8080/",
          "height": 487
        },
        "id": "t_869jLwQVdw",
        "outputId": "3b035a52-d6d5-4812-f927-52888927fe76"
      },
      "execution_count": 176,
      "outputs": [
        {
          "output_type": "display_data",
          "data": {
            "text/plain": [
              "<Figure size 1000x500 with 1 Axes>"
            ],
            "image/png": "[encoded data removed]"
          },
          "metadata": {}
        }
      ]
    },
    {
      "cell_type": "markdown",
      "source": [
        "# Most popular articles by interaction count"
      ],
      "metadata": {
        "id": "RLzQ__SSQXhg"
      }
    },
    {
      "cell_type": "code",
      "source": [
        "popular_articles = consumer_transactions['item_id'].value_counts().head(10).index\n",
        "popular_titles = platform_content[platform_content['item_id'].isin(popular_articles)][['item_id', 'title']]\n",
        "print(\"Top 10 Most Popular Articles:\")\n",
        "print(popular_titles)"
      ],
      "metadata": {
        "colab": {
          "base_uri": "https://localhost:8080/"
        },
        "id": "2xXktJ-jQY1U",
        "outputId": "ba8910df-5c64-43f2-dfd8-c052e413782e"
      },
      "execution_count": 177,
      "outputs": [
        {
          "output_type": "stream",
          "name": "stdout",
          "text": [
            "Top 10 Most Popular Articles:\n",
            "                  item_id                                              title\n",
            "1317  8657408509986329668               Pull request first - Practical Blend\n",
            "1902 -8208801367848627943  Ray Kurzweil: The world isn't getting worse - ...\n",
            "1942  2581138407738454418       10 Modern Software Over-Engineering Mistakes\n",
            "3096 -4029704725707465084  Former Google career coach shares a visual tri...\n"
          ]
        }
      ]
    },
    {
      "cell_type": "markdown",
      "source": [
        "# User-based Collaborative Filtering"
      ],
      "metadata": {
        "id": "ah6RuvIjQZ0a"
      }
    },
    {
      "cell_type": "code",
      "source": [
        "def user_based_recommendations(user_id, num_recommendations=10):\n",
        "    user_item_matrix = consumer_interactions.pivot_table(index='consumer_id', columns='item_id', values='ratings', fill_value=0)\n",
        "    user_sim_matrix = cosine_similarity(user_item_matrix)\n",
        "    user_sim_df = pd.DataFrame(user_sim_matrix, index=user_item_matrix.index, columns=user_item_matrix.index)\n",
        "\n",
        "    similar_users = user_sim_df[user_id].sort_values(ascending=False)[1:num_recommendations+1].index\n",
        "    recommended_items = consumer_interactions[consumer_interactions['consumer_id'].isin(similar_users)][['item_id', 'title']].drop_duplicates()\n",
        "\n",
        "    return recommended_items.head(num_recommendations)"
      ],
      "metadata": {
        "id": "dgLiaXUcQb7j"
      },
      "execution_count": 178,
      "outputs": []
    },
    {
      "cell_type": "markdown",
      "source": [
        "#Create User-Item Matrix"
      ],
      "metadata": {
        "id": "UzIQJYhb3fns"
      }
    },
    {
      "cell_type": "code",
      "source": [
        "user_item_matrix = consumer_interactions.pivot_table(index='consumer_id', columns='item_id', values='ratings', fill_value=0)\n",
        "print(\"User-Item Matrix Shape:\", user_item_matrix.shape)\n",
        "print(user_item_matrix.head())"
      ],
      "metadata": {
        "colab": {
          "base_uri": "https://localhost:8080/"
        },
        "id": "lp6B4vzW3IfJ",
        "outputId": "4404e719-99a5-47a5-9fab-a9ddd397f194"
      },
      "execution_count": 179,
      "outputs": [
        {
          "output_type": "stream",
          "name": "stdout",
          "text": [
            "User-Item Matrix Shape: (1644, 2154)\n",
            "item_id               -9192549002213406534  -9190737901804729417  \\\n",
            "consumer_id                                                        \n",
            "-9223121837663643404                   0.0                   0.0   \n",
            "-9212075797126931087                   0.0                   0.0   \n",
            "-9207251133131336884                   0.0                   0.0   \n",
            "-9199575329909162940                   0.0                   0.0   \n",
            "-9196668942822132778                   0.0                   0.0   \n",
            "\n",
            "item_id               -9189659052158407108  -9171475473795142532  \\\n",
            "consumer_id                                                        \n",
            "-9223121837663643404                   0.0                   0.0   \n",
            "-9212075797126931087                   0.0                   0.0   \n",
            "-9207251133131336884                   0.0                   0.0   \n",
            "-9199575329909162940                   0.0                   0.0   \n",
            "-9196668942822132778                   0.0                   0.0   \n",
            "\n",
            "item_id               -9166778629773133902  -9160910454530522563  \\\n",
            "consumer_id                                                        \n",
            "-9223121837663643404                   0.0                   0.0   \n",
            "-9212075797126931087                   0.0                   0.0   \n",
            "-9207251133131336884                   0.0                   0.0   \n",
            "-9199575329909162940                   0.0                   0.0   \n",
            "-9196668942822132778                   0.0                   0.0   \n",
            "\n",
            "item_id               -9153494109165200346  -9152398073968262186  \\\n",
            "consumer_id                                                        \n",
            "-9223121837663643404                   0.0                   0.0   \n",
            "-9212075797126931087                   0.0                   0.0   \n",
            "-9207251133131336884                   0.0                   0.0   \n",
            "-9199575329909162940                   0.0                   0.0   \n",
            "-9196668942822132778                   0.0                   0.0   \n",
            "\n",
            "item_id               -9137036168156595470  -9128741757954228992  ...  \\\n",
            "consumer_id                                                       ...   \n",
            "-9223121837663643404                   0.0                   0.0  ...   \n",
            "-9212075797126931087                   0.0                   0.0  ...   \n",
            "-9207251133131336884                   0.0                   0.0  ...   \n",
            "-9199575329909162940                   0.0                   0.0  ...   \n",
            "-9196668942822132778                   0.0                   0.0  ...   \n",
            "\n",
            "item_id                9151634133568930081   9158289456544908688  \\\n",
            "consumer_id                                                        \n",
            "-9223121837663643404                   0.0                   0.0   \n",
            "-9212075797126931087                   0.0                   0.0   \n",
            "-9207251133131336884                   0.0                   0.0   \n",
            "-9199575329909162940                   0.0                   0.0   \n",
            "-9196668942822132778                   0.0                   0.0   \n",
            "\n",
            "item_id                9168028029170358424   9207286802575546269  \\\n",
            "consumer_id                                                        \n",
            "-9223121837663643404                   0.0                   0.0   \n",
            "-9212075797126931087                   0.0                   0.0   \n",
            "-9207251133131336884                   0.0                   0.0   \n",
            "-9199575329909162940                   0.0                   0.0   \n",
            "-9196668942822132778                   0.0                   0.0   \n",
            "\n",
            "item_id                9208127165664287660   9209629151177723638  \\\n",
            "consumer_id                                                        \n",
            "-9223121837663643404                   0.0                   0.0   \n",
            "-9212075797126931087                   0.0                   0.0   \n",
            "-9207251133131336884                   0.0                   0.0   \n",
            "-9199575329909162940                   0.0                   0.0   \n",
            "-9196668942822132778                   0.0                   0.0   \n",
            "\n",
            "item_id                9215261273565326920   9217155070834564627  \\\n",
            "consumer_id                                                        \n",
            "-9223121837663643404                   0.0                   0.0   \n",
            "-9212075797126931087                   0.0                   0.0   \n",
            "-9207251133131336884                   0.0                   0.0   \n",
            "-9199575329909162940                   0.0                   0.0   \n",
            "-9196668942822132778                   0.0                   0.0   \n",
            "\n",
            "item_id                9220445660318725468   9222265156747237864  \n",
            "consumer_id                                                       \n",
            "-9223121837663643404                   0.0                   0.0  \n",
            "-9212075797126931087                   0.0                   0.0  \n",
            "-9207251133131336884                   0.0                   0.0  \n",
            "-9199575329909162940                   0.0                   0.0  \n",
            "-9196668942822132778                   0.0                   0.0  \n",
            "\n",
            "[5 rows x 2154 columns]\n"
          ]
        }
      ]
    },
    {
      "cell_type": "markdown",
      "source": [
        "Find the user-similarity matrix based on a similarity measure."
      ],
      "metadata": {
        "id": "0WDfV1br3lBQ"
      }
    },
    {
      "cell_type": "code",
      "source": [
        "from sklearn.metrics.pairwise import cosine_similarity\n",
        "\n",
        "user_sim_matrix = cosine_similarity(user_item_matrix)\n",
        "user_sim_df = pd.DataFrame(user_sim_matrix, index=user_item_matrix.index, columns=user_item_matrix.index)\n",
        "\n",
        "print(\"User Similarity Matrix Shape:\", user_sim_df.shape)\n",
        "print(user_sim_df.head())\n"
      ],
      "metadata": {
        "colab": {
          "base_uri": "https://localhost:8080/"
        },
        "id": "fV4tWnct3m5P",
        "outputId": "05d108d9-24d5-4243-ae3b-9ceac3899fd6"
      },
      "execution_count": 180,
      "outputs": [
        {
          "output_type": "stream",
          "name": "stdout",
          "text": [
            "User Similarity Matrix Shape: (1644, 1644)\n",
            "consumer_id           -9223121837663643404  -9212075797126931087  \\\n",
            "consumer_id                                                        \n",
            "-9223121837663643404              1.000000               0.00000   \n",
            "-9212075797126931087              0.000000               1.00000   \n",
            "-9207251133131336884              0.000000               0.29277   \n",
            "-9199575329909162940              0.124274               0.00000   \n",
            "-9196668942822132778              0.000000               0.00000   \n",
            "\n",
            "consumer_id           -9207251133131336884  -9199575329909162940  \\\n",
            "consumer_id                                                        \n",
            "-9223121837663643404               0.00000              0.124274   \n",
            "-9212075797126931087               0.29277              0.000000   \n",
            "-9207251133131336884               1.00000              0.000000   \n",
            "-9199575329909162940               0.00000              1.000000   \n",
            "-9196668942822132778               0.00000              0.000000   \n",
            "\n",
            "consumer_id           -9196668942822132778  -9188188261933657343  \\\n",
            "consumer_id                                                        \n",
            "-9223121837663643404                   0.0                   0.0   \n",
            "-9212075797126931087                   0.0                   0.0   \n",
            "-9207251133131336884                   0.0                   0.0   \n",
            "-9199575329909162940                   0.0                   0.0   \n",
            "-9196668942822132778                   1.0                   0.0   \n",
            "\n",
            "consumer_id           -9172914609055320039  -9156344805277471150  \\\n",
            "consumer_id                                                        \n",
            "-9223121837663643404              0.168615              0.000000   \n",
            "-9212075797126931087              0.000000              0.085573   \n",
            "-9207251133131336884              0.000000              0.000000   \n",
            "-9199575329909162940              0.201008              0.000000   \n",
            "-9196668942822132778              0.000000              0.000000   \n",
            "\n",
            "consumer_id           -9150583489352258206  -9120685872592674274  ...  \\\n",
            "consumer_id                                                       ...   \n",
            "-9223121837663643404                   0.0              0.023003  ...   \n",
            "-9212075797126931087                   0.0              0.000000  ...   \n",
            "-9207251133131336884                   0.0              0.000000  ...   \n",
            "-9199575329909162940                   0.0              0.000000  ...   \n",
            "-9196668942822132778                   0.0              0.000000  ...   \n",
            "\n",
            "consumer_id            9105269044962898535   9109075639526981934  \\\n",
            "consumer_id                                                        \n",
            "-9223121837663643404              0.062137              0.027158   \n",
            "-9212075797126931087              0.145479              0.000000   \n",
            "-9207251133131336884              0.000000              0.130309   \n",
            "-9199575329909162940              0.000000              0.000000   \n",
            "-9196668942822132778              0.000000              0.000000   \n",
            "\n",
            "consumer_id            9135582630122950040   9137372837662939523  \\\n",
            "consumer_id                                                        \n",
            "-9223121837663643404                   0.0                   0.0   \n",
            "-9212075797126931087                   0.0                   0.0   \n",
            "-9207251133131336884                   0.0                   0.0   \n",
            "-9199575329909162940                   0.0                   0.0   \n",
            "-9196668942822132778                   0.0                   0.0   \n",
            "\n",
            "consumer_id            9148269800512008413   9165571805999894845  \\\n",
            "consumer_id                                                        \n",
            "-9223121837663643404                   0.0                   0.0   \n",
            "-9212075797126931087                   0.0                   0.0   \n",
            "-9207251133131336884                   0.0                   0.0   \n",
            "-9199575329909162940                   0.0                   0.0   \n",
            "-9196668942822132778                   0.0                   0.0   \n",
            "\n",
            "consumer_id            9187866633451383747   9191849144618614467  \\\n",
            "consumer_id                                                        \n",
            "-9223121837663643404                   0.0              0.057528   \n",
            "-9212075797126931087                   0.0              0.000000   \n",
            "-9207251133131336884                   0.0              0.414039   \n",
            "-9199575329909162940                   0.0              0.000000   \n",
            "-9196668942822132778                   0.0              0.000000   \n",
            "\n",
            "consumer_id            9199170757466086545   9210530975708218054  \n",
            "consumer_id                                                       \n",
            "-9223121837663643404              0.000000              0.064471  \n",
            "-9212075797126931087              0.000000              0.000000  \n",
            "-9207251133131336884              0.365148              0.000000  \n",
            "-9199575329909162940              0.000000              0.000000  \n",
            "-9196668942822132778              0.000000              0.115285  \n",
            "\n",
            "[5 rows x 1644 columns]\n"
          ]
        }
      ]
    },
    {
      "cell_type": "markdown",
      "source": [
        "Generate Predicted Ratings for All User-Item Pairs"
      ],
      "metadata": {
        "id": "LJKV6uGQ3p8w"
      }
    },
    {
      "cell_type": "code",
      "source": [
        "predicted_ratings = np.dot(user_sim_matrix, user_item_matrix)\n",
        "predicted_ratings_df = pd.DataFrame(predicted_ratings, index=user_item_matrix.index, columns=user_item_matrix.columns)\n",
        "\n",
        "print(\"Predicted Ratings Shape:\", predicted_ratings_df.shape)\n",
        "print(predicted_ratings_df.head())\n"
      ],
      "metadata": {
        "colab": {
          "base_uri": "https://localhost:8080/"
        },
        "id": "0fgykq0v3sQv",
        "outputId": "f6662811-7115-4afa-9d8b-c2cc52fa30e5"
      },
      "execution_count": 181,
      "outputs": [
        {
          "output_type": "stream",
          "name": "stdout",
          "text": [
            "Predicted Ratings Shape: (1644, 2154)\n",
            "item_id               -9192549002213406534  -9190737901804729417  \\\n",
            "consumer_id                                                        \n",
            "-9223121837663643404              2.587792              0.218945   \n",
            "-9212075797126931087              0.802197              0.000000   \n",
            "-9207251133131336884              1.527976              0.197965   \n",
            "-9199575329909162940              0.317383              0.182321   \n",
            "-9196668942822132778              0.667030              0.000000   \n",
            "\n",
            "item_id               -9189659052158407108  -9171475473795142532  \\\n",
            "consumer_id                                                        \n",
            "-9223121837663643404              1.490429              0.326803   \n",
            "-9212075797126931087              0.774367              0.000000   \n",
            "-9207251133131336884              0.958230              0.148995   \n",
            "-9199575329909162940              0.307252              0.077322   \n",
            "-9196668942822132778              0.292964              0.000000   \n",
            "\n",
            "item_id               -9166778629773133902  -9160910454530522563  \\\n",
            "consumer_id                                                        \n",
            "-9223121837663643404              0.248028              0.900570   \n",
            "-9212075797126931087              0.085567              0.350190   \n",
            "-9207251133131336884              0.152232              0.459906   \n",
            "-9199575329909162940              0.000000              0.381331   \n",
            "-9196668942822132778              0.113467              0.000000   \n",
            "\n",
            "item_id               -9153494109165200346  -9152398073968262186  \\\n",
            "consumer_id                                                        \n",
            "-9223121837663643404              0.045358               0.08278   \n",
            "-9212075797126931087              0.044248               0.00000   \n",
            "-9207251133131336884              0.000000               0.00000   \n",
            "-9199575329909162940              0.000000               0.00000   \n",
            "-9196668942822132778              0.000000               0.00000   \n",
            "\n",
            "item_id               -9137036168156595470  -9128741757954228992  ...  \\\n",
            "consumer_id                                                       ...   \n",
            "-9223121837663643404              0.442831              1.836749  ...   \n",
            "-9212075797126931087              0.000000              0.163317  ...   \n",
            "-9207251133131336884              0.345160              1.048970  ...   \n",
            "-9199575329909162940              0.249669              1.119204  ...   \n",
            "-9196668942822132778              0.053260              0.078650  ...   \n",
            "\n",
            "item_id                9151634133568930081   9158289456544908688  \\\n",
            "consumer_id                                                        \n",
            "-9223121837663643404              0.880882              0.181154   \n",
            "-9212075797126931087              0.182579              0.000000   \n",
            "-9207251133131336884              0.121585              0.065060   \n",
            "-9199575329909162940              0.341849              0.062235   \n",
            "-9196668942822132778              0.000000              0.000000   \n",
            "\n",
            "item_id                9168028029170358424   9207286802575546269  \\\n",
            "consumer_id                                                        \n",
            "-9223121837663643404              0.039318              0.810735   \n",
            "-9212075797126931087              0.000000              0.146127   \n",
            "-9207251133131336884              0.000000              0.392699   \n",
            "-9199575329909162940              0.000000              0.348694   \n",
            "-9196668942822132778              0.000000              0.059548   \n",
            "\n",
            "item_id                9208127165664287660   9209629151177723638  \\\n",
            "consumer_id                                                        \n",
            "-9223121837663643404              0.752335              0.369388   \n",
            "-9212075797126931087              0.101089              0.029701   \n",
            "-9207251133131336884              0.073690              0.045002   \n",
            "-9199575329909162940              0.258102              0.312558   \n",
            "-9196668942822132778              0.000000              0.000000   \n",
            "\n",
            "item_id                9215261273565326920   9217155070834564627  \\\n",
            "consumer_id                                                        \n",
            "-9223121837663643404              0.861023              0.510586   \n",
            "-9212075797126931087              0.177388              0.069600   \n",
            "-9207251133131336884              0.436657              0.062979   \n",
            "-9199575329909162940              0.218246              0.155919   \n",
            "-9196668942822132778              0.438824              0.000000   \n",
            "\n",
            "item_id                9220445660318725468   9222265156747237864  \n",
            "consumer_id                                                       \n",
            "-9223121837663643404              1.256684              0.337489  \n",
            "-9212075797126931087              0.459286              0.044065  \n",
            "-9207251133131336884              0.695926              0.121585  \n",
            "-9199575329909162940              0.280931              0.050075  \n",
            "-9196668942822132778              0.430670              0.000000  \n",
            "\n",
            "[5 rows x 2154 columns]\n"
          ]
        }
      ]
    },
    {
      "cell_type": "markdown",
      "source": [
        "Get Recommendations for a User"
      ],
      "metadata": {
        "id": "Jx39yCfD32a6"
      }
    },
    {
      "cell_type": "code",
      "source": [
        "user_id = -9223121837663643404\n",
        "recommendations = user_based_recommendations(user_id, num_recommendations=10)\n",
        "print(recommendations)"
      ],
      "metadata": {
        "colab": {
          "base_uri": "https://localhost:8080/"
        },
        "id": "O5q99rYs32_Z",
        "outputId": "91c5d489-17c0-416d-87a9-553d9029c9fe"
      },
      "execution_count": 182,
      "outputs": [
        {
          "output_type": "stream",
          "name": "stdout",
          "text": [
            "                  item_id                                              title\n",
            "1862  7229629480273331039  An independent organization just ranked Google...\n",
            "2074  -240359174314633445  Comparing React.js to Vue.js for dynamic tabul...\n",
            "2236  2072448887839540892  Welcome to GoogleBank, Facebook Bank, Amazon B...\n",
            "2240  7516228655554309785        A digital crack in banking's business model\n",
            "2249 -6484638837208285334  5 awesome Google Keep features you aren't usin...\n",
            "2625  4369833742675497700   Transforming life insurance with design thinking\n",
            "3732  4814419120794996930  Netflix says Geography, Age, and Gender are \"G...\n",
            "3733  -450825503558460924  Tetra Pak Cheese and Powder Systems acquires L...\n",
            "4447  5270696484536580646               8 Insanely Simple Productivity Hacks\n",
            "5145   764116021156146784  If you think women in tech is just a pipeline ...\n"
          ]
        }
      ]
    },
    {
      "cell_type": "markdown",
      "source": [
        "# Item-based Collaborative Filtering"
      ],
      "metadata": {
        "id": "XP7e7m1HQc6b"
      }
    },
    {
      "cell_type": "code",
      "source": [
        "def item_based_recommendations(item_id, num_recommendations=10):\n",
        "    item_user_matrix = consumer_interactions.pivot_table(index='item_id', columns='consumer_id', values='ratings', fill_value=0)\n",
        "    item_sim_matrix = cosine_similarity(item_user_matrix)\n",
        "    item_sim_df = pd.DataFrame(item_sim_matrix, index=item_user_matrix.index, columns=item_user_matrix.index)\n",
        "\n",
        "    similar_items = item_sim_df[item_id].sort_values(ascending=False)[1:num_recommendations+1].index\n",
        "    recommended_items = consumer_interactions[consumer_interactions['item_id'].isin(similar_items)][['item_id', 'title']].drop_duplicates()\n",
        "\n",
        "    return recommended_items.head(num_recommendations)"
      ],
      "metadata": {
        "id": "aMcjINN7QddT"
      },
      "execution_count": 183,
      "outputs": []
    },
    {
      "cell_type": "markdown",
      "source": [
        "#Find the item-similarity matrix based on a similarity measure."
      ],
      "metadata": {
        "id": "E189-hyv4Ihf"
      }
    },
    {
      "cell_type": "code",
      "source": [
        "item_user_matrix = consumer_interactions.pivot_table(index='item_id', columns='consumer_id', values='ratings', fill_value=0)\n",
        "item_sim_matrix = cosine_similarity(item_user_matrix)\n",
        "\n",
        "item_sim_df = pd.DataFrame(item_sim_matrix, index=item_user_matrix.index, columns=item_user_matrix.index)\n",
        "\n",
        "print(\"Item Similarity Matrix Shape:\", item_sim_df.shape)\n",
        "print(item_sim_df.head())\n"
      ],
      "metadata": {
        "colab": {
          "base_uri": "https://localhost:8080/"
        },
        "id": "j30rRrn-4Q-U",
        "outputId": "d05d5dbd-3d2c-49c1-d01f-1092f5e71210"
      },
      "execution_count": 184,
      "outputs": [
        {
          "output_type": "stream",
          "name": "stdout",
          "text": [
            "Item Similarity Matrix Shape: (2154, 2154)\n",
            "item_id               -9192549002213406534  -9190737901804729417  \\\n",
            "item_id                                                            \n",
            "-9192549002213406534              1.000000                   0.0   \n",
            "-9190737901804729417              0.000000                   1.0   \n",
            "-9189659052158407108              0.098583                   0.0   \n",
            "-9171475473795142532              0.118958                   0.0   \n",
            "-9166778629773133902              0.206041                   0.0   \n",
            "\n",
            "item_id               -9189659052158407108  -9171475473795142532  \\\n",
            "item_id                                                            \n",
            "-9192549002213406534              0.098583              0.118958   \n",
            "-9190737901804729417              0.000000              0.000000   \n",
            "-9189659052158407108              1.000000              0.000000   \n",
            "-9171475473795142532              0.000000              1.000000   \n",
            "-9166778629773133902              0.089712              0.000000   \n",
            "\n",
            "item_id               -9166778629773133902  -9160910454530522563  \\\n",
            "item_id                                                            \n",
            "-9192549002213406534              0.206041              0.178069   \n",
            "-9190737901804729417              0.000000              0.000000   \n",
            "-9189659052158407108              0.089712              0.000000   \n",
            "-9171475473795142532              0.000000              0.204124   \n",
            "-9166778629773133902              1.000000              0.117851   \n",
            "\n",
            "item_id               -9153494109165200346  -9152398073968262186  \\\n",
            "item_id                                                            \n",
            "-9192549002213406534              0.137361                   0.0   \n",
            "-9190737901804729417              0.000000                   0.0   \n",
            "-9189659052158407108              0.000000                   0.0   \n",
            "-9171475473795142532              0.000000                   0.0   \n",
            "-9166778629773133902              0.500000                   0.0   \n",
            "\n",
            "item_id               -9137036168156595470  -9128741757954228992  ...  \\\n",
            "item_id                                                           ...   \n",
            "-9192549002213406534              0.073422              0.114467  ...   \n",
            "-9190737901804729417              0.000000              0.101666  ...   \n",
            "-9189659052158407108              0.000000              0.029904  ...   \n",
            "-9171475473795142532              0.000000              0.000000  ...   \n",
            "-9166778629773133902              0.000000              0.000000  ...   \n",
            "\n",
            "item_id                9151634133568930081   9158289456544908688  \\\n",
            "item_id                                                            \n",
            "-9192549002213406534              0.240149               0.00000   \n",
            "-9190737901804729417              0.000000               0.00000   \n",
            "-9189659052158407108              0.052282               0.14929   \n",
            "-9171475473795142532              0.000000               0.00000   \n",
            "-9166778629773133902              0.145693               0.00000   \n",
            "\n",
            "item_id                9168028029170358424   9207286802575546269  \\\n",
            "item_id                                                            \n",
            "-9192549002213406534                   0.0              0.194954   \n",
            "-9190737901804729417                   0.0              0.161608   \n",
            "-9189659052158407108                   0.0              0.047535   \n",
            "-9171475473795142532                   0.0              0.229439   \n",
            "-9166778629773133902                   0.0              0.000000   \n",
            "\n",
            "item_id                9208127165664287660   9209629151177723638  \\\n",
            "item_id                                                            \n",
            "-9192549002213406534              0.097129              0.092144   \n",
            "-9190737901804729417              0.000000              0.204598   \n",
            "-9189659052158407108              0.063436              0.000000   \n",
            "-9171475473795142532              0.102062              0.000000   \n",
            "-9166778629773133902              0.000000              0.000000   \n",
            "\n",
            "item_id                9215261273565326920   9217155070834564627  \\\n",
            "item_id                                                            \n",
            "-9192549002213406534              0.063343              0.165033   \n",
            "-9190737901804729417              0.000000              0.000000   \n",
            "-9189659052158407108              0.227536              0.000000   \n",
            "-9171475473795142532              0.199681              0.000000   \n",
            "-9166778629773133902              0.000000              0.000000   \n",
            "\n",
            "item_id                9220445660318725468   9222265156747237864  \n",
            "item_id                                                           \n",
            "-9192549002213406534              0.179131                   0.0  \n",
            "-9190737901804729417              0.000000                   0.0  \n",
            "-9189659052158407108              0.033427                   0.0  \n",
            "-9171475473795142532              0.000000                   0.0  \n",
            "-9166778629773133902              0.000000                   0.0  \n",
            "\n",
            "[5 rows x 2154 columns]\n"
          ]
        }
      ]
    },
    {
      "cell_type": "markdown",
      "source": [
        "#Generate the Top 10 Similar and Relevant Items"
      ],
      "metadata": {
        "id": "pPKB2itt4XUz"
      }
    },
    {
      "cell_type": "code",
      "source": [
        "item_id = -9189659052158407108\n",
        "similar_items = item_sim_df[item_id].sort_values(ascending=False)[1:11].index\n",
        "\n",
        "recommended_items = consumer_interactions[consumer_interactions['item_id'].isin(similar_items)][['item_id', 'title']].drop_duplicates()\n",
        "print(\"Top 10 Similar Items:\")\n",
        "print(recommended_items)"
      ],
      "metadata": {
        "colab": {
          "base_uri": "https://localhost:8080/"
        },
        "id": "CNdVFgjP4YrC",
        "outputId": "b7ff872b-f7e8-4c3b-8751-2b6e3d0ce167"
      },
      "execution_count": 185,
      "outputs": [
        {
          "output_type": "stream",
          "name": "stdout",
          "text": [
            "Top 10 Similar Items:\n",
            "                   item_id                                              title\n",
            "23879 -3700095596785790870   How to Design a Walkthrough That Users Will Read\n",
            "25680  4695698299220703541           Android - The dark side of Jack and Jill\n",
            "27753 -1634742667970363668  Google Cloud Platform's preemptible VMs are no...\n",
            "27900  6317717254029043123  Apple makes it easier to for developers to upl...\n",
            "29010  5217724704513784613  You SHOULD Learn Vanilla JavaScript Before JS ...\n",
            "34282 -7448252416950961815  Apple Unveils iPhone 7 Alongside 7 Plus With D...\n",
            "35066  4577451034168098359                                               Cubr\n",
            "36532  2628816849077589497  Today in Apple history: Steve Jobs passes away...\n",
            "42772 -4608017393995766765  Graphene and Silly Putty Creates a Super-Sensi...\n",
            "43288 -7534240757267992657                Building on Slack Saved Our Startup\n"
          ]
        }
      ]
    },
    {
      "cell_type": "markdown",
      "source": [
        "#Calling the Item-Based Recommendation Function"
      ],
      "metadata": {
        "id": "AWcxEBmh4oPU"
      }
    },
    {
      "cell_type": "code",
      "source": [
        "item_id = -3700095596785790870\n",
        "recommendations = item_based_recommendations(item_id, num_recommendations=10)\n",
        "print(recommendations)"
      ],
      "metadata": {
        "colab": {
          "base_uri": "https://localhost:8080/"
        },
        "id": "bFsub7vb4oCQ",
        "outputId": "458d8dcb-80ef-4f0c-c3cf-b59ad852653c"
      },
      "execution_count": 186,
      "outputs": [
        {
          "output_type": "stream",
          "name": "stdout",
          "text": [
            "                   item_id                                              title\n",
            "325     511891900317865118  Why porting an iOS design to Android will not ...\n",
            "365   -1590585250246572231  Why and How to Avoid Hamburger Menus - Louie A...\n",
            "1095   5979676385148714519  Here's what Viv looks like, the next generatio...\n",
            "1648   6045455576279706291  Google isn't abandoning Hangouts for its new c...\n",
            "2529   4153717385931831462  Twitter killed Magic Recs, the only useful bot...\n",
            "2789  -2516726696296387544  When will AI and NLP actually turn Siri into y...\n",
            "2830  -7891960098457323262  Dag Kittlaus, co-founder of Siri, will give th...\n",
            "7121   2285392309373358857  How Apple Keyboards Lost a Logo and Windows PC...\n",
            "17080  8413971365124666862  Building Chatbots with Node.js - Online Traini...\n",
            "26307 -1111518890369033396         The Business Case for Progressive Web Apps\n"
          ]
        }
      ]
    },
    {
      "cell_type": "markdown",
      "source": [
        "# Content-based Filtering using TF-IDF"
      ],
      "metadata": {
        "id": "m3k_zZppQfna"
      }
    },
    {
      "cell_type": "code",
      "source": [
        "def content_based_recommendations(user_id, num_recommendations=10):\n",
        "    tfidf = TfidfVectorizer(stop_words='english') # Changed 'en' to 'english'\n",
        "    tfidf_matrix = tfidf.fit_transform(platform_content['text_description'].fillna(\"\"))\n",
        "    cosine_sim = cosine_similarity(tfidf_matrix)\n",
        "\n",
        "    user_articles = consumer_interactions[consumer_interactions['consumer_id'] == user_id]['item_id'].tolist()\n",
        "    similar_scores = cosine_sim[user_articles].mean(axis=0)\n",
        "    similar_indices = similar_scores.argsort()[::-1][:num_recommendations]\n",
        "\n",
        "    recommended_items = platform_content.iloc[similar_indices][['item_id', 'title']]\n",
        "    return recommended_items"
      ],
      "metadata": {
        "id": "dHT5JHYnQhRm"
      },
      "execution_count": 187,
      "outputs": []
    },
    {
      "cell_type": "markdown",
      "source": [
        "TF-IDF Processing & Keywords Extraction"
      ],
      "metadata": {
        "id": "WBHo4hvy-L2d"
      }
    },
    {
      "cell_type": "code",
      "source": [
        "tfidf = TfidfVectorizer(stop_words='english') # Changed 'en' to 'english'\n",
        "tfidf_matrix = tfidf.fit_transform(platform_content['text_description'].fillna(\"All of this work is still\"))\n",
        "\n",
        "print(\"TF-IDF Matrix Shape:\", tfidf_matrix.shape)\n",
        "print(\"Extracted Keywords (First 10):\", tfidf.get_feature_names_out()[:10])"
      ],
      "metadata": {
        "colab": {
          "base_uri": "https://localhost:8080/"
        },
        "id": "yghsfX5S9nqv",
        "outputId": "cdbec57d-9909-48b3-c2e8-b264f4339cce"
      },
      "execution_count": 188,
      "outputs": [
        {
          "output_type": "stream",
          "name": "stdout",
          "text": [
            "TF-IDF Matrix Shape: (2264, 45514)\n",
            "Extracted Keywords (First 10): ['00' '000' '0000' '000000' '000000000001' '0000000000400848' '000001'\n",
            " '000001000001' '0001' '000707']\n"
          ]
        }
      ]
    },
    {
      "cell_type": "markdown",
      "source": [
        "\n",
        "Check Cosine Similarity Matrix"
      ],
      "metadata": {
        "id": "FAkF27-e-HTl"
      }
    },
    {
      "cell_type": "code",
      "source": [
        "cosine_sim = cosine_similarity(tfidf_matrix)\n",
        "print(\"Cosine Similarity Matrix Shape:\", cosine_sim.shape)\n",
        "print(\"Sample Similarity Scores:\", cosine_sim[:5, :5])"
      ],
      "metadata": {
        "colab": {
          "base_uri": "https://localhost:8080/"
        },
        "id": "oXN7AcjK-HyV",
        "outputId": "abd10dcc-a087-4a8c-915c-4baae0cb64a6"
      },
      "execution_count": 189,
      "outputs": [
        {
          "output_type": "stream",
          "name": "stdout",
          "text": [
            "Cosine Similarity Matrix Shape: (2264, 2264)\n",
            "Sample Similarity Scores: [[1.         1.         0.02838652 0.01426674 0.22823   ]\n",
            " [1.         1.         0.02838652 0.01426674 0.22823   ]\n",
            " [0.02838652 0.02838652 1.         0.02089179 0.03054934]\n",
            " [0.01426674 0.01426674 0.02089179 1.         0.01642679]\n",
            " [0.22823    0.22823    0.03054934 0.01642679 1.        ]]\n"
          ]
        }
      ]
    },
    {
      "cell_type": "markdown",
      "source": [
        "Get Recommendations for a User"
      ],
      "metadata": {
        "id": "iMWq_1mr-XzR"
      }
    },
    {
      "cell_type": "code",
      "source": [
        "user_id = -3700095596785790870\n",
        "recommended_articles = content_based_recommendations(user_id, num_recommendations=10)\n",
        "print(\"Recommended Articles:\\n\", recommended_articles)"
      ],
      "metadata": {
        "colab": {
          "base_uri": "https://localhost:8080/"
        },
        "id": "pixFEGIr-YOW",
        "outputId": "1c788b46-5bed-4220-c20c-9d951dfe1663"
      },
      "execution_count": 190,
      "outputs": [
        {
          "output_type": "stream",
          "name": "stdout",
          "text": [
            "Recommended Articles:\n",
            "                   item_id                                              title\n",
            "3121  4109618890343020064               The 2017 Acquia Partners of the Year\n",
            "923   4315784099325221836                        tins ::: Rick Klau's weblog\n",
            "929  -3980612444042641628   The future of SaaS hosted git repository pricing\n",
            "928   4463025528374352465                   The Blockchain is the new Google\n",
            "927      5268351851132250  The bizarre beasts living in Romania's poison ...\n",
            "926   9033884391004475493                                 The Art of the OKR\n",
            "925  -3114161754347804356           How Google sets goals: OKRs - GV Library\n",
            "924  -3114161754347804356           How Google sets goals: OKRs - GV Library\n",
            "922   4315784099325221836                        tins ::: Rick Klau's weblog\n",
            "932   2916072977192006313   Confused by blockchains? Revolution vs Evolution\n"
          ]
        },
        {
          "output_type": "stream",
          "name": "stderr",
          "text": [
            "<ipython-input-187-103597815ca4>:7: RuntimeWarning: Mean of empty slice.\n",
            "  similar_scores = cosine_sim[user_articles].mean(axis=0)\n",
            "/usr/local/lib/python3.11/dist-packages/numpy/core/_methods.py:121: RuntimeWarning: invalid value encountered in divide\n",
            "  ret = um.true_divide(\n"
          ]
        }
      ]
    },
    {
      "cell_type": "markdown",
      "source": [
        "# ALS-based Recommendation System"
      ],
      "metadata": {
        "id": "RZ-wMVvfQjPs"
      }
    },
    {
      "cell_type": "code",
      "source": [
        "def als_recommendations(user_id, num_recommendations=10):\n",
        "    # Instead of using pivot, use pivot_table with an aggregation function\n",
        "    user_item_matrix = consumer_interactions.pivot_table(index='consumer_id',\n",
        "                                                      columns='item_id',\n",
        "                                                      values='ratings',\n",
        "                                                      aggfunc='mean', # or 'sum', depending on your desired behavior\n",
        "                                                      fill_value=0)\n",
        "    user_item_sparse = csr_matrix(user_item_matrix)\n",
        "\n",
        "    U, sigma, Vt = svds(user_item_sparse, k=50)\n",
        "    sigma = np.diag(sigma)\n",
        "    predicted_ratings = np.dot(np.dot(U, sigma), Vt)\n",
        "    predicted_ratings_df = pd.DataFrame(predicted_ratings, index=user_item_matrix.index, columns=user_item_matrix.columns)\n",
        "\n",
        "    # Check if user_id exists in the index\n",
        "    if user_id not in predicted_ratings_df.index:\n",
        "        print(f\"User ID {user_id} not found in the data. Returning empty recommendations.\")\n",
        "        return pd.DataFrame(columns=['item_id', 'title'])  # Return empty DataFrame\n",
        "\n",
        "    recommendations = predicted_ratings_df.loc[user_id].sort_values(ascending=False).index[:num_recommendations]\n",
        "    recommended_items = platform_content[platform_content['item_id'].isin(recommendations)][['item_id', 'title']]\n",
        "    return recommended_items"
      ],
      "metadata": {
        "id": "QL-NGdKlQktE"
      },
      "execution_count": 191,
      "outputs": []
    },
    {
      "cell_type": "markdown",
      "source": [
        "Check the User-Item Matrix"
      ],
      "metadata": {
        "id": "_NBzOd3O-36_"
      }
    },
    {
      "cell_type": "code",
      "source": [
        "# Instead of using pivot, use pivot_table with an aggregation function\n",
        "user_item_matrix = consumer_interactions.pivot_table(index='consumer_id',\n",
        "                                                      columns='item_id',\n",
        "                                                      values='ratings',\n",
        "                                                      aggfunc='mean', # or 'sum', depending on your desired behavior\n",
        "                                                      fill_value=0)\n",
        "print(\"User-Item Matrix Shape:\", user_item_matrix.shape)\n",
        "print(user_item_matrix.head())"
      ],
      "metadata": {
        "colab": {
          "base_uri": "https://localhost:8080/"
        },
        "id": "j90TpQo9-5zC",
        "outputId": "b4581ae2-206c-41c9-e7b7-d53f8ee58003"
      },
      "execution_count": 192,
      "outputs": [
        {
          "output_type": "stream",
          "name": "stdout",
          "text": [
            "User-Item Matrix Shape: (1644, 2154)\n",
            "item_id               -9192549002213406534  -9190737901804729417  \\\n",
            "consumer_id                                                        \n",
            "-9223121837663643404                   0.0                   0.0   \n",
            "-9212075797126931087                   0.0                   0.0   \n",
            "-9207251133131336884                   0.0                   0.0   \n",
            "-9199575329909162940                   0.0                   0.0   \n",
            "-9196668942822132778                   0.0                   0.0   \n",
            "\n",
            "item_id               -9189659052158407108  -9171475473795142532  \\\n",
            "consumer_id                                                        \n",
            "-9223121837663643404                   0.0                   0.0   \n",
            "-9212075797126931087                   0.0                   0.0   \n",
            "-9207251133131336884                   0.0                   0.0   \n",
            "-9199575329909162940                   0.0                   0.0   \n",
            "-9196668942822132778                   0.0                   0.0   \n",
            "\n",
            "item_id               -9166778629773133902  -9160910454530522563  \\\n",
            "consumer_id                                                        \n",
            "-9223121837663643404                   0.0                   0.0   \n",
            "-9212075797126931087                   0.0                   0.0   \n",
            "-9207251133131336884                   0.0                   0.0   \n",
            "-9199575329909162940                   0.0                   0.0   \n",
            "-9196668942822132778                   0.0                   0.0   \n",
            "\n",
            "item_id               -9153494109165200346  -9152398073968262186  \\\n",
            "consumer_id                                                        \n",
            "-9223121837663643404                   0.0                   0.0   \n",
            "-9212075797126931087                   0.0                   0.0   \n",
            "-9207251133131336884                   0.0                   0.0   \n",
            "-9199575329909162940                   0.0                   0.0   \n",
            "-9196668942822132778                   0.0                   0.0   \n",
            "\n",
            "item_id               -9137036168156595470  -9128741757954228992  ...  \\\n",
            "consumer_id                                                       ...   \n",
            "-9223121837663643404                   0.0                   0.0  ...   \n",
            "-9212075797126931087                   0.0                   0.0  ...   \n",
            "-9207251133131336884                   0.0                   0.0  ...   \n",
            "-9199575329909162940                   0.0                   0.0  ...   \n",
            "-9196668942822132778                   0.0                   0.0  ...   \n",
            "\n",
            "item_id                9151634133568930081   9158289456544908688  \\\n",
            "consumer_id                                                        \n",
            "-9223121837663643404                   0.0                   0.0   \n",
            "-9212075797126931087                   0.0                   0.0   \n",
            "-9207251133131336884                   0.0                   0.0   \n",
            "-9199575329909162940                   0.0                   0.0   \n",
            "-9196668942822132778                   0.0                   0.0   \n",
            "\n",
            "item_id                9168028029170358424   9207286802575546269  \\\n",
            "consumer_id                                                        \n",
            "-9223121837663643404                   0.0                   0.0   \n",
            "-9212075797126931087                   0.0                   0.0   \n",
            "-9207251133131336884                   0.0                   0.0   \n",
            "-9199575329909162940                   0.0                   0.0   \n",
            "-9196668942822132778                   0.0                   0.0   \n",
            "\n",
            "item_id                9208127165664287660   9209629151177723638  \\\n",
            "consumer_id                                                        \n",
            "-9223121837663643404                   0.0                   0.0   \n",
            "-9212075797126931087                   0.0                   0.0   \n",
            "-9207251133131336884                   0.0                   0.0   \n",
            "-9199575329909162940                   0.0                   0.0   \n",
            "-9196668942822132778                   0.0                   0.0   \n",
            "\n",
            "item_id                9215261273565326920   9217155070834564627  \\\n",
            "consumer_id                                                        \n",
            "-9223121837663643404                   0.0                   0.0   \n",
            "-9212075797126931087                   0.0                   0.0   \n",
            "-9207251133131336884                   0.0                   0.0   \n",
            "-9199575329909162940                   0.0                   0.0   \n",
            "-9196668942822132778                   0.0                   0.0   \n",
            "\n",
            "item_id                9220445660318725468   9222265156747237864  \n",
            "consumer_id                                                       \n",
            "-9223121837663643404                   0.0                   0.0  \n",
            "-9212075797126931087                   0.0                   0.0  \n",
            "-9207251133131336884                   0.0                   0.0  \n",
            "-9199575329909162940                   0.0                   0.0  \n",
            "-9196668942822132778                   0.0                   0.0  \n",
            "\n",
            "[5 rows x 2154 columns]\n"
          ]
        }
      ]
    },
    {
      "cell_type": "markdown",
      "source": [
        "Check the ALS Decomposition"
      ],
      "metadata": {
        "id": "W3ms9v3k_FSt"
      }
    },
    {
      "cell_type": "code",
      "source": [
        "from scipy.sparse.linalg import svds # Import the svds function\n",
        "\n",
        "user_item_sparse = csr_matrix(user_item_matrix)\n",
        "U, sigma, Vt = svds(user_item_sparse, k=50) # Now svds should be recognized\n",
        "sigma = np.diag(sigma)\n",
        "print(\"ALS Matrices Shapes - U:\", U.shape, \"Sigma:\", sigma.shape, \"Vt:\", Vt.shape)"
      ],
      "metadata": {
        "colab": {
          "base_uri": "https://localhost:8080/"
        },
        "id": "CRNUvyXc_FqQ",
        "outputId": "3f896b8a-2fa9-4bbd-8d9f-a50a9e8dc03c"
      },
      "execution_count": 193,
      "outputs": [
        {
          "output_type": "stream",
          "name": "stdout",
          "text": [
            "ALS Matrices Shapes - U: (1644, 50) Sigma: (50, 50) Vt: (50, 2154)\n"
          ]
        }
      ]
    },
    {
      "cell_type": "markdown",
      "source": [
        "Check Predicted Ratings"
      ],
      "metadata": {
        "id": "lJr20vpk_LAe"
      }
    },
    {
      "cell_type": "code",
      "source": [
        "predicted_ratings = np.dot(np.dot(U, sigma), Vt)\n",
        "predicted_ratings_df = pd.DataFrame(predicted_ratings, index=user_item_matrix.index, columns=user_item_matrix.columns)\n",
        "print(\"Predicted Ratings Sample:\\n\", predicted_ratings_df.head())\n"
      ],
      "metadata": {
        "colab": {
          "base_uri": "https://localhost:8080/"
        },
        "id": "ORF5lk_y_LY2",
        "outputId": "573f1ab7-b3d8-4f6d-ddad-c001fb3c4188"
      },
      "execution_count": 194,
      "outputs": [
        {
          "output_type": "stream",
          "name": "stdout",
          "text": [
            "Predicted Ratings Sample:\n",
            " item_id               -9192549002213406534  -9190737901804729417  \\\n",
            "consumer_id                                                        \n",
            "-9223121837663643404              0.041191              0.002661   \n",
            "-9212075797126931087              0.015752             -0.001847   \n",
            "-9207251133131336884              0.005195              0.001788   \n",
            "-9199575329909162940             -0.032611              0.000146   \n",
            "-9196668942822132778              0.011653             -0.000511   \n",
            "\n",
            "item_id               -9189659052158407108  -9171475473795142532  \\\n",
            "consumer_id                                                        \n",
            "-9223121837663643404              0.066903             -0.003987   \n",
            "-9212075797126931087              0.004028             -0.004618   \n",
            "-9207251133131336884             -0.013747              0.013963   \n",
            "-9199575329909162940             -0.004901             -0.004172   \n",
            "-9196668942822132778              0.001865              0.000634   \n",
            "\n",
            "item_id               -9166778629773133902  -9160910454530522563  \\\n",
            "consumer_id                                                        \n",
            "-9223121837663643404              0.002331              0.010624   \n",
            "-9212075797126931087              0.010255             -0.003457   \n",
            "-9207251133131336884              0.004827              0.005477   \n",
            "-9199575329909162940             -0.003795              0.035091   \n",
            "-9196668942822132778              0.000165             -0.005936   \n",
            "\n",
            "item_id               -9153494109165200346  -9152398073968262186  \\\n",
            "consumer_id                                                        \n",
            "-9223121837663643404             -0.001909              0.005229   \n",
            "-9212075797126931087              0.006018             -0.001284   \n",
            "-9207251133131336884             -0.000531             -0.002955   \n",
            "-9199575329909162940             -0.000688              0.000195   \n",
            "-9196668942822132778              0.000520              0.000298   \n",
            "\n",
            "item_id               -9137036168156595470  -9128741757954228992  ...  \\\n",
            "consumer_id                                                       ...   \n",
            "-9223121837663643404              0.038390              0.037129  ...   \n",
            "-9212075797126931087              0.000516              0.010303  ...   \n",
            "-9207251133131336884              0.003801             -0.000484  ...   \n",
            "-9199575329909162940              0.012295              0.015926  ...   \n",
            "-9196668942822132778              0.002614              0.006427  ...   \n",
            "\n",
            "item_id                9151634133568930081   9158289456544908688  \\\n",
            "consumer_id                                                        \n",
            "-9223121837663643404              0.016143             -0.003462   \n",
            "-9212075797126931087              0.006984             -0.003003   \n",
            "-9207251133131336884              0.001916             -0.006929   \n",
            "-9199575329909162940              0.009635             -0.003811   \n",
            "-9196668942822132778             -0.003293             -0.001908   \n",
            "\n",
            "item_id                9168028029170358424   9207286802575546269  \\\n",
            "consumer_id                                                        \n",
            "-9223121837663643404             -0.014495             -0.008753   \n",
            "-9212075797126931087             -0.002671             -0.005136   \n",
            "-9207251133131336884              0.000594              0.015328   \n",
            "-9199575329909162940             -0.004729             -0.006130   \n",
            "-9196668942822132778              0.000424              0.001599   \n",
            "\n",
            "item_id                9208127165664287660   9209629151177723638  \\\n",
            "consumer_id                                                        \n",
            "-9223121837663643404              0.044930              0.020778   \n",
            "-9212075797126931087             -0.001349              0.001582   \n",
            "-9207251133131336884             -0.011393             -0.004618   \n",
            "-9199575329909162940              0.001759              0.010893   \n",
            "-9196668942822132778              0.002239             -0.000294   \n",
            "\n",
            "item_id                9215261273565326920   9217155070834564627  \\\n",
            "consumer_id                                                        \n",
            "-9223121837663643404             -0.018513             -0.006102   \n",
            "-9212075797126931087             -0.003224             -0.001856   \n",
            "-9207251133131336884              0.015327             -0.006390   \n",
            "-9199575329909162940             -0.001950              0.000197   \n",
            "-9196668942822132778              0.007185             -0.001524   \n",
            "\n",
            "item_id                9220445660318725468   9222265156747237864  \n",
            "consumer_id                                                       \n",
            "-9223121837663643404              0.045874              0.014836  \n",
            "-9212075797126931087             -0.012951              0.003698  \n",
            "-9207251133131336884              0.001583              0.000344  \n",
            "-9199575329909162940              0.010233              0.002918  \n",
            "-9196668942822132778              0.003445             -0.002391  \n",
            "\n",
            "[5 rows x 2154 columns]\n"
          ]
        }
      ]
    },
    {
      "cell_type": "markdown",
      "source": [
        "Get Recommendations for a User"
      ],
      "metadata": {
        "id": "8faN5uGe_Rim"
      }
    },
    {
      "cell_type": "code",
      "source": [
        "user_id = -9223121837663643404\n",
        "recommended_items = als_recommendations(user_id, num_recommendations=10)\n",
        "print(\"ALS Recommendations:\\n\", recommended_items)\n"
      ],
      "metadata": {
        "colab": {
          "base_uri": "https://localhost:8080/"
        },
        "id": "THjh7xmF_R-W",
        "outputId": "22520882-7387-41d1-ff2e-c1041f4a7129"
      },
      "execution_count": 195,
      "outputs": [
        {
          "output_type": "stream",
          "name": "stdout",
          "text": [
            "ALS Recommendations:\n",
            "                   item_id                                              title\n",
            "826  -6542996094878850014  How One Jira Ticket Made My Employer $1MM/Mont...\n",
            "880   3149164017776669829                   Mobile marketing statistics 2016\n",
            "887   2072448887839540892  Welcome to GoogleBank, Facebook Bank, Amazon B...\n",
            "1523  4419562057180692966  Latin America's chronic inefficiency could dri...\n",
            "1557 -5002383425685129595                         Changing change management\n",
            "1737  1356221992133852808              The brilliant mechanics of Pokémon Go\n",
            "1902 -8208801367848627943  Ray Kurzweil: The world isn't getting worse - ...\n",
            "2994 -6728844082024523434                                          Seniority\n",
            "3091  1469580151036142903  Don't document your code. Code your documentat...\n",
            "3097 -8627051188605351707                          When to make a Git Commit\n"
          ]
        }
      ]
    },
    {
      "cell_type": "markdown",
      "source": [
        "Evaluate the Model"
      ],
      "metadata": {
        "id": "Rkd3ovE0_hkH"
      }
    },
    {
      "cell_type": "code",
      "source": [
        "from sklearn.metrics import mean_squared_error, mean_absolute_error\n",
        "\n",
        "def evaluate_model():\n",
        "    \"\"\"\n",
        "    Evaluates the model using RMSE and MAE.\n",
        "    \"\"\"\n",
        "    # Use pivot_table with an aggregation function to handle duplicates\n",
        "    actual = consumer_interactions.pivot_table(index='consumer_id',\n",
        "                                              columns='item_id',\n",
        "                                              values='ratings',\n",
        "                                              aggfunc='mean').fillna(0).values  # Use mean to aggregate ratings for duplicate entries\n",
        "    predicted = np.dot(np.dot(U, sigma), Vt)  # Assuming U, sigma, Vt are available in the environment\n",
        "\n",
        "    rmse = np.sqrt(mean_squared_error(actual, predicted))\n",
        "    mae = mean_absolute_error(actual, predicted)\n",
        "\n",
        "    return {'RMSE': rmse, 'MAE': mae}\n",
        "\n",
        "metrics = evaluate_model()\n",
        "print(\"Model Evaluation:\", metrics)"
      ],
      "metadata": {
        "colab": {
          "base_uri": "https://localhost:8080/"
        },
        "id": "OHHHEQwE_iqU",
        "outputId": "d715f0b5-f4eb-48f2-f6ac-fd6dc85822b0"
      },
      "execution_count": 196,
      "outputs": [
        {
          "output_type": "stream",
          "name": "stdout",
          "text": [
            "Model Evaluation: {'RMSE': 0.07358147065627853, 'MAE': 0.01813075854866794}\n"
          ]
        }
      ]
    },
    {
      "cell_type": "markdown",
      "source": [
        "# Hybrid Recommendation System"
      ],
      "metadata": {
        "id": "q6x98VeAQluQ"
      }
    },
    {
      "cell_type": "code",
      "source": [
        "def hybrid_recommendations(user_id, num_recommendations=10):\n",
        "    content_recs = content_based_recommendations(user_id, num_recommendations*2)\n",
        "    als_recs = als_recommendations(user_id, num_recommendations*2)\n",
        "\n",
        "    combined_recs = pd.concat([content_recs, als_recs]).drop_duplicates().head(num_recommendations)\n",
        "    return combined_recs\n"
      ],
      "metadata": {
        "id": "gc5f_7H4QmwV"
      },
      "execution_count": 197,
      "outputs": []
    },
    {
      "cell_type": "markdown",
      "source": [
        "Check Content-Based Recommendations for a User"
      ],
      "metadata": {
        "id": "hKd_Cdu8AJjo"
      }
    },
    {
      "cell_type": "code",
      "source": [
        "print(content_based_recommendations(user_id=123, num_recommendations=10))\n"
      ],
      "metadata": {
        "colab": {
          "base_uri": "https://localhost:8080/"
        },
        "id": "wgIjefQJAHQ1",
        "outputId": "5de22f7c-760a-4862-d2c8-a14a39b2c71d"
      },
      "execution_count": 198,
      "outputs": [
        {
          "output_type": "stream",
          "name": "stdout",
          "text": [
            "                  item_id                                              title\n",
            "3121  4109618890343020064               The 2017 Acquia Partners of the Year\n",
            "923   4315784099325221836                        tins ::: Rick Klau's weblog\n",
            "929  -3980612444042641628   The future of SaaS hosted git repository pricing\n",
            "928   4463025528374352465                   The Blockchain is the new Google\n",
            "927      5268351851132250  The bizarre beasts living in Romania's poison ...\n",
            "926   9033884391004475493                                 The Art of the OKR\n",
            "925  -3114161754347804356           How Google sets goals: OKRs - GV Library\n",
            "924  -3114161754347804356           How Google sets goals: OKRs - GV Library\n",
            "922   4315784099325221836                        tins ::: Rick Klau's weblog\n",
            "932   2916072977192006313   Confused by blockchains? Revolution vs Evolution\n"
          ]
        },
        {
          "output_type": "stream",
          "name": "stderr",
          "text": [
            "<ipython-input-187-103597815ca4>:7: RuntimeWarning: Mean of empty slice.\n",
            "  similar_scores = cosine_sim[user_articles].mean(axis=0)\n",
            "/usr/local/lib/python3.11/dist-packages/numpy/core/_methods.py:121: RuntimeWarning: invalid value encountered in divide\n",
            "  ret = um.true_divide(\n"
          ]
        }
      ]
    },
    {
      "cell_type": "markdown",
      "source": [
        "Check ALS-Based Recommendations"
      ],
      "metadata": {
        "id": "UH7U-0R0AKSF"
      }
    },
    {
      "cell_type": "code",
      "source": [
        "print(als_recommendations(user_id=123, num_recommendations=10))"
      ],
      "metadata": {
        "colab": {
          "base_uri": "https://localhost:8080/"
        },
        "id": "kldTWheCANPM",
        "outputId": "2dc2663c-bc77-4f5f-82c9-a1c9fbe79484"
      },
      "execution_count": 199,
      "outputs": [
        {
          "output_type": "stream",
          "name": "stdout",
          "text": [
            "User ID 123 not found in the data. Returning empty recommendations.\n",
            "Empty DataFrame\n",
            "Columns: [item_id, title]\n",
            "Index: []\n"
          ]
        }
      ]
    },
    {
      "cell_type": "markdown",
      "source": [
        "Check the Hybrid Recommendations"
      ],
      "metadata": {
        "id": "fFMZFP_FATWN"
      }
    },
    {
      "cell_type": "code",
      "source": [
        "print(hybrid_recommendations(user_id=123, num_recommendations=10))\n"
      ],
      "metadata": {
        "colab": {
          "base_uri": "https://localhost:8080/"
        },
        "id": "9B5LKkpeATw5",
        "outputId": "c4fb74c4-b77a-483e-a263-0d0d6d682f8d"
      },
      "execution_count": 200,
      "outputs": [
        {
          "output_type": "stream",
          "name": "stderr",
          "text": [
            "<ipython-input-187-103597815ca4>:7: RuntimeWarning: Mean of empty slice.\n",
            "  similar_scores = cosine_sim[user_articles].mean(axis=0)\n",
            "/usr/local/lib/python3.11/dist-packages/numpy/core/_methods.py:121: RuntimeWarning: invalid value encountered in divide\n",
            "  ret = um.true_divide(\n"
          ]
        },
        {
          "output_type": "stream",
          "name": "stdout",
          "text": [
            "User ID 123 not found in the data. Returning empty recommendations.\n",
            "                   item_id                                              title\n",
            "3121   4109618890343020064               The 2017 Acquia Partners of the Year\n",
            "923    4315784099325221836                        tins ::: Rick Klau's weblog\n",
            "929   -3980612444042641628   The future of SaaS hosted git repository pricing\n",
            "928    4463025528374352465                   The Blockchain is the new Google\n",
            "927       5268351851132250  The bizarre beasts living in Romania's poison ...\n",
            "926    9033884391004475493                                 The Art of the OKR\n",
            "925   -3114161754347804356           How Google sets goals: OKRs - GV Library\n",
            "932    2916072977192006313   Confused by blockchains? Revolution vs Evolution\n",
            "919    5568089143939945595  The future of machine learning: 5 trends to wa...\n",
            "916    4069333494579100211  Agile is Dead, Long Live Continuous Delivery -...\n"
          ]
        }
      ]
    },
    {
      "cell_type": "markdown",
      "source": [
        "# Model Evaluation"
      ],
      "metadata": {
        "id": "ExrThHuSQr2k"
      }
    },
    {
      "cell_type": "code",
      "source": [
        "def evaluate_model():\n",
        "    \"\"\"\n",
        "    Evaluates the model using RMSE and MAE.\n",
        "    \"\"\"\n",
        "    # Use pivot_table with an aggregation function to handle duplicates\n",
        "    actual = consumer_interactions.pivot_table(index='consumer_id',\n",
        "                                              columns='item_id',\n",
        "                                              values='ratings',\n",
        "                                              aggfunc='mean').fillna(0).values  # Use mean to aggregate ratings for duplicate entries\n",
        "    predicted = np.dot(np.dot(U, sigma), Vt)  # Assuming U, sigma, Vt are available in the environment\n",
        "\n",
        "    rmse = np.sqrt(mean_squared_error(actual, predicted))\n",
        "    mae = mean_absolute_error(actual, predicted)\n",
        "\n",
        "    return {'RMSE': rmse, 'MAE': mae}"
      ],
      "metadata": {
        "id": "0ywhP6wUP1DQ"
      },
      "execution_count": 201,
      "outputs": []
    },
    {
      "cell_type": "code",
      "source": [
        "print(evaluate_model())"
      ],
      "metadata": {
        "colab": {
          "base_uri": "https://localhost:8080/"
        },
        "id": "agcDdOShAyKr",
        "outputId": "a40616f8-acf7-4ed5-ee52-b435c9562f58"
      },
      "execution_count": 202,
      "outputs": [
        {
          "output_type": "stream",
          "name": "stdout",
          "text": [
            "{'RMSE': 0.07358147065627853, 'MAE': 0.01813075854866794}\n"
          ]
        }
      ]
    }
  ]
}